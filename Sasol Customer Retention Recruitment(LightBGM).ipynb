{
 "cells": [
  {
   "cell_type": "markdown",
   "id": "7c94a840",
   "metadata": {},
   "source": [
    "# PROJECT  : Sasol Customer Retention Recruitment "
   ]
  },
  {
   "cell_type": "markdown",
   "id": "3e33d743",
   "metadata": {},
   "source": [
    "## Compiled by: Mashele G.P"
   ]
  },
  {
   "cell_type": "markdown",
   "id": "bb528e3d",
   "metadata": {},
   "source": [
    "## Project overview/Description\n",
    "The objective of this challenge is to create a machine-learning model that can forecast the probability of each customer becoming inactive and refraining from making any transactions for a period of 90 days.\n",
    "\n",
    "An effective solution will enable a business to identify customers who may be on the verge of becoming inactive, allowing them to implement strategies in advance to retain these customers.\n",
    "\n",
    "Sasol is a global chemicals and energy company. We harness our knowledge and expertise to integrate sophisticated technologies and processes into world-scale operating facilities. We safely and sustainably source, produce and market a range of high-quality products in 22 countries, creating value for stakeholders. Our purpose “Innovating for a better world” compels us to deliver on triple bottom line outcomes of People, Planet and Profit, responsibly and always with the intent to be a force for good."
   ]
  },
  {
   "cell_type": "markdown",
   "id": "4107b994",
   "metadata": {},
   "source": [
    "## Problem statement\n"
   ]
  },
  {
   "cell_type": "markdown",
   "id": "6bee62e9",
   "metadata": {},
   "source": [
    "## Data Description\n",
    "\n",
    "##The churn dataset includes 19 variables including 15 numeric variables and 04 categorical variables.\n",
    "\n",
    "* ID       :  Customer Identity number <br>\t\n",
    "* region   :  the location of each client <br>\n",
    "* tenure   :  duration in the network <br>\n",
    "* Amount   :   top-up amount <br>\n",
    "* refill_frequency :\tA number of times the customer refilled <br>\n",
    "* revenue       :\tmonthly revenue of each client <br>\n",
    "* arpu_segment  :\trevenue over 90 days / 3 months <br>\n",
    "* frequency     :\tnumber of times the client has made an revenue <br>\n",
    "* data_volume\t  : number of connections <br>\n",
    "* on_net        : call within network <br>\n",
    "* Procuct_1     : call to Procuct_1  <br>\n",
    "* Procuct_2     : call to Procuct_2 <br>\n",
    "* zone1         : call to zones1 <br> \n",
    "* zone2         : call to zones2 <br>\n",
    "* mrg\t          : a client who is going <br>\n",
    "* regularity    : number of times the client is active for 90 days <br>\n",
    "* top_pack      : the most active packs <br>\n",
    "* freq_top_pack : number of times the client has activated the top pack packages <br>\n",
    "* Target        : variable to predict  <br>"
   ]
  },
  {
   "cell_type": "markdown",
   "id": "80708075",
   "metadata": {},
   "source": [
    "### Import the necessary libraries"
   ]
  },
  {
   "cell_type": "code",
   "execution_count": 1,
   "id": "276d5070",
   "metadata": {},
   "outputs": [
    {
     "name": "stdout",
     "output_type": "stream",
     "text": [
      "Requirement already satisfied: imblearn in c:\\users\\mashe\\anaconda3\\new folder\\lib\\site-packages (0.0)\n",
      "Requirement already satisfied: imbalanced-learn in c:\\users\\mashe\\anaconda3\\new folder\\lib\\site-packages (from imblearn) (0.10.1)\n",
      "Requirement already satisfied: scikit-learn>=1.0.2 in c:\\users\\mashe\\anaconda3\\new folder\\lib\\site-packages (from imbalanced-learn->imblearn) (1.2.1)\n",
      "Requirement already satisfied: threadpoolctl>=2.0.0 in c:\\users\\mashe\\anaconda3\\new folder\\lib\\site-packages (from imbalanced-learn->imblearn) (2.2.0)\n",
      "Requirement already satisfied: numpy>=1.17.3 in c:\\users\\mashe\\anaconda3\\new folder\\lib\\site-packages (from imbalanced-learn->imblearn) (1.23.5)\n",
      "Requirement already satisfied: scipy>=1.3.2 in c:\\users\\mashe\\anaconda3\\new folder\\lib\\site-packages (from imbalanced-learn->imblearn) (1.10.0)\n",
      "Requirement already satisfied: joblib>=1.1.1 in c:\\users\\mashe\\anaconda3\\new folder\\lib\\site-packages (from imbalanced-learn->imblearn) (1.1.1)\n"
     ]
    }
   ],
   "source": [
    "!pip install imblearn"
   ]
  },
  {
   "cell_type": "code",
   "execution_count": 2,
   "id": "7adcf36c",
   "metadata": {},
   "outputs": [
    {
     "name": "stdout",
     "output_type": "stream",
     "text": [
      "Requirement already satisfied: cython in c:\\users\\mashe\\anaconda3\\new folder\\lib\\site-packages (0.29.28)\n"
     ]
    }
   ],
   "source": [
    "!pip install cython"
   ]
  },
  {
   "cell_type": "code",
   "execution_count": 3,
   "id": "ad61d0db",
   "metadata": {},
   "outputs": [],
   "source": [
    "%load_ext cython"
   ]
  },
  {
   "cell_type": "code",
   "execution_count": 4,
   "id": "350e4b86",
   "metadata": {},
   "outputs": [
    {
     "name": "stdout",
     "output_type": "stream",
     "text": [
      "Requirement already satisfied: lightgbm in c:\\users\\mashe\\anaconda3\\new folder\\lib\\site-packages (4.1.0)\n",
      "Requirement already satisfied: scipy in c:\\users\\mashe\\anaconda3\\new folder\\lib\\site-packages (from lightgbm) (1.10.0)\n",
      "Requirement already satisfied: numpy in c:\\users\\mashe\\anaconda3\\new folder\\lib\\site-packages (from lightgbm) (1.23.5)\n",
      "Note: you may need to restart the kernel to use updated packages.\n"
     ]
    }
   ],
   "source": [
    "pip install lightgbm"
   ]
  },
  {
   "cell_type": "code",
   "execution_count": 5,
   "id": "8420ac92",
   "metadata": {},
   "outputs": [
    {
     "data": {
      "text/html": [
       "<style type='text/css'>\n",
       ".datatable table.frame { margin-bottom: 0; }\n",
       ".datatable table.frame thead { border-bottom: none; }\n",
       ".datatable table.frame tr.coltypes td {  color: #FFFFFF;  line-height: 6px;  padding: 0 0.5em;}\n",
       ".datatable .bool    { background: #DDDD99; }\n",
       ".datatable .object  { background: #565656; }\n",
       ".datatable .int     { background: #5D9E5D; }\n",
       ".datatable .float   { background: #4040CC; }\n",
       ".datatable .str     { background: #CC4040; }\n",
       ".datatable .time    { background: #40CC40; }\n",
       ".datatable .row_index {  background: var(--jp-border-color3);  border-right: 1px solid var(--jp-border-color0);  color: var(--jp-ui-font-color3);  font-size: 9px;}\n",
       ".datatable .frame tbody td { text-align: left; }\n",
       ".datatable .frame tr.coltypes .row_index {  background: var(--jp-border-color0);}\n",
       ".datatable th:nth-child(2) { padding-left: 12px; }\n",
       ".datatable .hellipsis {  color: var(--jp-cell-editor-border-color);}\n",
       ".datatable .vellipsis {  background: var(--jp-layout-color0);  color: var(--jp-cell-editor-border-color);}\n",
       ".datatable .na {  color: var(--jp-cell-editor-border-color);  font-size: 80%;}\n",
       ".datatable .sp {  opacity: 0.25;}\n",
       ".datatable .footer { font-size: 9px; }\n",
       ".datatable .frame_dimensions {  background: var(--jp-border-color3);  border-top: 1px solid var(--jp-border-color0);  color: var(--jp-ui-font-color3);  display: inline-block;  opacity: 0.6;  padding: 1px 10px 1px 5px;}\n",
       "</style>\n"
      ],
      "text/plain": [
       "<IPython.core.display.HTML object>"
      ]
     },
     "metadata": {},
     "output_type": "display_data"
    }
   ],
   "source": [
    "# Libraries to help with reading and manipulating data\n",
    "import pandas as pd\n",
    "import numpy as np\n",
    "# Libaries to assist with visualization of data\n",
    "import matplotlib.pyplot as plt\n",
    "import seaborn as sns\n",
    "# To tune model, get different metric scores, and split data\n",
    "from sklearn.metrics import (mean_absolute_error,f1_score,accuracy_score,recall_score, precision_score,roc_auc_score)\n",
    "from sklearn import metrics\n",
    "from sklearn.model_selection import train_test_split, StratifiedKFold, cross_val_score\n",
    "# To be used for data scaling \n",
    "from sklearn.preprocessing import StandardScaler\n",
    "# To be used for categorical feature selection\n",
    "from sklearn.feature_selection import chi2\n",
    "# To oversample and undersample data\n",
    "from imblearn import under_sampling, over_sampling\n",
    "from imblearn.over_sampling import SMOTE\n",
    "from imblearn.under_sampling import RandomUnderSampler\n",
    "# To do hyperparameter tuning\n",
    "from sklearn.model_selection import GridSearchCV\n",
    "from sklearn.model_selection import RandomizedSearchCV\n",
    "# To define maximum number of columns to be displayed in a dataframe\n",
    "pd.set_option(\"display.max_columns\", None)\n",
    "pd.set_option(\"display.max_rows\", None)\n",
    "# To supress scientific notations for a dataframe\n",
    "pd.set_option(\"display.float_format\", lambda x: \"%.3f\" % x)\n",
    "# To help with model building\n",
    "from sklearn.ensemble import (RandomForestClassifier,BaggingClassifier,)\n",
    "import lightgbm as lgb\n",
    "# To suppress scientific notations\n",
    "pd.set_option(\"display.float_format\", lambda x: \"%.3f\" % x)\n",
    "# To suppress warnings\n",
    "import warnings\n",
    "warnings.filterwarnings(\"ignore\")"
   ]
  },
  {
   "cell_type": "code",
   "execution_count": 6,
   "id": "c868656d",
   "metadata": {},
   "outputs": [],
   "source": [
    "# Now lets read the train and test  dataset\n",
    "train_data = pd.read_csv(\"Customer_retenstion_train.csv.csv\")\n",
    "test_data = pd.read_csv(\"Customer_retention_test.csv.csv\")"
   ]
  },
  {
   "cell_type": "code",
   "execution_count": 7,
   "id": "17217251",
   "metadata": {},
   "outputs": [
    {
     "data": {
      "text/html": [
       "<div>\n",
       "<style scoped>\n",
       "    .dataframe tbody tr th:only-of-type {\n",
       "        vertical-align: middle;\n",
       "    }\n",
       "\n",
       "    .dataframe tbody tr th {\n",
       "        vertical-align: top;\n",
       "    }\n",
       "\n",
       "    .dataframe thead th {\n",
       "        text-align: right;\n",
       "    }\n",
       "</style>\n",
       "<table border=\"1\" class=\"dataframe\">\n",
       "  <thead>\n",
       "    <tr style=\"text-align: right;\">\n",
       "      <th></th>\n",
       "      <th>ID</th>\n",
       "      <th>region</th>\n",
       "      <th>tenure</th>\n",
       "      <th>Amount</th>\n",
       "      <th>refill_frequency</th>\n",
       "      <th>revenue</th>\n",
       "      <th>arpu_segment</th>\n",
       "      <th>frequency</th>\n",
       "      <th>data_volume</th>\n",
       "      <th>on_net</th>\n",
       "      <th>Procuct_1</th>\n",
       "      <th>Procuct_2</th>\n",
       "      <th>zone1</th>\n",
       "      <th>zone2</th>\n",
       "      <th>mrg</th>\n",
       "      <th>regularity</th>\n",
       "      <th>top_pack</th>\n",
       "      <th>freq_top_pack</th>\n",
       "      <th>Target</th>\n",
       "    </tr>\n",
       "  </thead>\n",
       "  <tbody>\n",
       "    <tr>\n",
       "      <th>0</th>\n",
       "      <td>ID_YEB05X4KUGPQ</td>\n",
       "      <td>NaN</td>\n",
       "      <td>K &gt; 24 month</td>\n",
       "      <td>NaN</td>\n",
       "      <td>NaN</td>\n",
       "      <td>NaN</td>\n",
       "      <td>NaN</td>\n",
       "      <td>NaN</td>\n",
       "      <td>NaN</td>\n",
       "      <td>NaN</td>\n",
       "      <td>NaN</td>\n",
       "      <td>NaN</td>\n",
       "      <td>NaN</td>\n",
       "      <td>NaN</td>\n",
       "      <td>NO</td>\n",
       "      <td>3</td>\n",
       "      <td>NaN</td>\n",
       "      <td>NaN</td>\n",
       "      <td>0</td>\n",
       "    </tr>\n",
       "    <tr>\n",
       "      <th>1</th>\n",
       "      <td>ID_Z9IQ9QH52KVN</td>\n",
       "      <td>Nebula</td>\n",
       "      <td>K &gt; 24 month</td>\n",
       "      <td>4764.960</td>\n",
       "      <td>41.000</td>\n",
       "      <td>4756.840</td>\n",
       "      <td>1585.470</td>\n",
       "      <td>41.000</td>\n",
       "      <td>2.000</td>\n",
       "      <td>626.000</td>\n",
       "      <td>24.000</td>\n",
       "      <td>NaN</td>\n",
       "      <td>NaN</td>\n",
       "      <td>NaN</td>\n",
       "      <td>NO</td>\n",
       "      <td>62</td>\n",
       "      <td>On net 200F=Unlimited _call24H</td>\n",
       "      <td>31.000</td>\n",
       "      <td>0</td>\n",
       "    </tr>\n",
       "    <tr>\n",
       "      <th>2</th>\n",
       "      <td>ID_YZSU7B7M35QS</td>\n",
       "      <td>Celestial</td>\n",
       "      <td>K &gt; 24 month</td>\n",
       "      <td>5769.230</td>\n",
       "      <td>22.000</td>\n",
       "      <td>5769.230</td>\n",
       "      <td>1923.080</td>\n",
       "      <td>22.000</td>\n",
       "      <td>28121.000</td>\n",
       "      <td>0.000</td>\n",
       "      <td>NaN</td>\n",
       "      <td>1.000</td>\n",
       "      <td>NaN</td>\n",
       "      <td>NaN</td>\n",
       "      <td>NO</td>\n",
       "      <td>61</td>\n",
       "      <td>NaN</td>\n",
       "      <td>NaN</td>\n",
       "      <td>0</td>\n",
       "    </tr>\n",
       "    <tr>\n",
       "      <th>3</th>\n",
       "      <td>ID_QS4F5LEX29KM</td>\n",
       "      <td>NaN</td>\n",
       "      <td>K &gt; 24 month</td>\n",
       "      <td>NaN</td>\n",
       "      <td>NaN</td>\n",
       "      <td>NaN</td>\n",
       "      <td>NaN</td>\n",
       "      <td>NaN</td>\n",
       "      <td>NaN</td>\n",
       "      <td>NaN</td>\n",
       "      <td>NaN</td>\n",
       "      <td>NaN</td>\n",
       "      <td>NaN</td>\n",
       "      <td>NaN</td>\n",
       "      <td>NO</td>\n",
       "      <td>6</td>\n",
       "      <td>NaN</td>\n",
       "      <td>NaN</td>\n",
       "      <td>0</td>\n",
       "    </tr>\n",
       "    <tr>\n",
       "      <th>4</th>\n",
       "      <td>ID_8IYIC9PFU8U1</td>\n",
       "      <td>Eclipsara</td>\n",
       "      <td>K &gt; 24 month</td>\n",
       "      <td>5341.880</td>\n",
       "      <td>58.000</td>\n",
       "      <td>5636.750</td>\n",
       "      <td>1879.060</td>\n",
       "      <td>60.000</td>\n",
       "      <td>1131.000</td>\n",
       "      <td>546.000</td>\n",
       "      <td>376.000</td>\n",
       "      <td>0.000</td>\n",
       "      <td>NaN</td>\n",
       "      <td>NaN</td>\n",
       "      <td>NO</td>\n",
       "      <td>62</td>\n",
       "      <td>Mixt 250F=Unlimited_call24H</td>\n",
       "      <td>31.000</td>\n",
       "      <td>0</td>\n",
       "    </tr>\n",
       "  </tbody>\n",
       "</table>\n",
       "</div>"
      ],
      "text/plain": [
       "                ID     region        tenure   Amount  refill_frequency  \\\n",
       "0  ID_YEB05X4KUGPQ        NaN  K > 24 month      NaN               NaN   \n",
       "1  ID_Z9IQ9QH52KVN     Nebula  K > 24 month 4764.960            41.000   \n",
       "2  ID_YZSU7B7M35QS  Celestial  K > 24 month 5769.230            22.000   \n",
       "3  ID_QS4F5LEX29KM        NaN  K > 24 month      NaN               NaN   \n",
       "4  ID_8IYIC9PFU8U1  Eclipsara  K > 24 month 5341.880            58.000   \n",
       "\n",
       "   revenue  arpu_segment  frequency  data_volume  on_net  Procuct_1  \\\n",
       "0      NaN           NaN        NaN          NaN     NaN        NaN   \n",
       "1 4756.840      1585.470     41.000        2.000 626.000     24.000   \n",
       "2 5769.230      1923.080     22.000    28121.000   0.000        NaN   \n",
       "3      NaN           NaN        NaN          NaN     NaN        NaN   \n",
       "4 5636.750      1879.060     60.000     1131.000 546.000    376.000   \n",
       "\n",
       "   Procuct_2  zone1  zone2 mrg  regularity                        top_pack  \\\n",
       "0        NaN    NaN    NaN  NO           3                             NaN   \n",
       "1        NaN    NaN    NaN  NO          62  On net 200F=Unlimited _call24H   \n",
       "2      1.000    NaN    NaN  NO          61                             NaN   \n",
       "3        NaN    NaN    NaN  NO           6                             NaN   \n",
       "4      0.000    NaN    NaN  NO          62     Mixt 250F=Unlimited_call24H   \n",
       "\n",
       "   freq_top_pack  Target  \n",
       "0            NaN       0  \n",
       "1         31.000       0  \n",
       "2            NaN       0  \n",
       "3            NaN       0  \n",
       "4         31.000       0  "
      ]
     },
     "execution_count": 7,
     "metadata": {},
     "output_type": "execute_result"
    }
   ],
   "source": [
    "# Print the first five rows of the  train dataset\n",
    "train_data.head()  "
   ]
  },
  {
   "cell_type": "code",
   "execution_count": 8,
   "id": "f1915d50",
   "metadata": {
    "scrolled": true
   },
   "outputs": [
    {
     "data": {
      "text/html": [
       "<div>\n",
       "<style scoped>\n",
       "    .dataframe tbody tr th:only-of-type {\n",
       "        vertical-align: middle;\n",
       "    }\n",
       "\n",
       "    .dataframe tbody tr th {\n",
       "        vertical-align: top;\n",
       "    }\n",
       "\n",
       "    .dataframe thead th {\n",
       "        text-align: right;\n",
       "    }\n",
       "</style>\n",
       "<table border=\"1\" class=\"dataframe\">\n",
       "  <thead>\n",
       "    <tr style=\"text-align: right;\">\n",
       "      <th></th>\n",
       "      <th>ID</th>\n",
       "      <th>region</th>\n",
       "      <th>tenure</th>\n",
       "      <th>Amount</th>\n",
       "      <th>refill_frequency</th>\n",
       "      <th>revenue</th>\n",
       "      <th>arpu_segment</th>\n",
       "      <th>frequency</th>\n",
       "      <th>data_volume</th>\n",
       "      <th>on_net</th>\n",
       "      <th>Procuct_1</th>\n",
       "      <th>Procuct_2</th>\n",
       "      <th>zone1</th>\n",
       "      <th>zone2</th>\n",
       "      <th>mrg</th>\n",
       "      <th>regularity</th>\n",
       "      <th>top_pack</th>\n",
       "      <th>freq_top_pack</th>\n",
       "      <th>Target</th>\n",
       "    </tr>\n",
       "  </thead>\n",
       "  <tbody>\n",
       "    <tr>\n",
       "      <th>1507829</th>\n",
       "      <td>ID_D1MA2025F1U6</td>\n",
       "      <td>NaN</td>\n",
       "      <td>K &gt; 24 month</td>\n",
       "      <td>7179.490</td>\n",
       "      <td>17.000</td>\n",
       "      <td>6972.220</td>\n",
       "      <td>2323.930</td>\n",
       "      <td>18.000</td>\n",
       "      <td>4269.000</td>\n",
       "      <td>7.000</td>\n",
       "      <td>NaN</td>\n",
       "      <td>11.000</td>\n",
       "      <td>0.000</td>\n",
       "      <td>61.000</td>\n",
       "      <td>NO</td>\n",
       "      <td>41</td>\n",
       "      <td>Data:490F=1GB,7d</td>\n",
       "      <td>4.000</td>\n",
       "      <td>0</td>\n",
       "    </tr>\n",
       "    <tr>\n",
       "      <th>1507830</th>\n",
       "      <td>ID_9H6BGU1FS1CD</td>\n",
       "      <td>Celestial</td>\n",
       "      <td>K &gt; 24 month</td>\n",
       "      <td>854.700</td>\n",
       "      <td>2.000</td>\n",
       "      <td>854.700</td>\n",
       "      <td>285.040</td>\n",
       "      <td>2.000</td>\n",
       "      <td>2276.000</td>\n",
       "      <td>0.000</td>\n",
       "      <td>NaN</td>\n",
       "      <td>NaN</td>\n",
       "      <td>NaN</td>\n",
       "      <td>NaN</td>\n",
       "      <td>NO</td>\n",
       "      <td>36</td>\n",
       "      <td>Data:1000F=2GB,30d</td>\n",
       "      <td>2.000</td>\n",
       "      <td>0</td>\n",
       "    </tr>\n",
       "    <tr>\n",
       "      <th>1507831</th>\n",
       "      <td>ID_QWJPIJ065LA4</td>\n",
       "      <td>Luminous</td>\n",
       "      <td>K &gt; 24 month</td>\n",
       "      <td>1923.080</td>\n",
       "      <td>9.000</td>\n",
       "      <td>2136.750</td>\n",
       "      <td>712.390</td>\n",
       "      <td>10.000</td>\n",
       "      <td>NaN</td>\n",
       "      <td>34.000</td>\n",
       "      <td>74.000</td>\n",
       "      <td>48.000</td>\n",
       "      <td>NaN</td>\n",
       "      <td>NaN</td>\n",
       "      <td>NO</td>\n",
       "      <td>40</td>\n",
       "      <td>All-net 500F=2000F;5d</td>\n",
       "      <td>10.000</td>\n",
       "      <td>0</td>\n",
       "    </tr>\n",
       "    <tr>\n",
       "      <th>1507832</th>\n",
       "      <td>ID_B0S6HQUEDWJ7</td>\n",
       "      <td>Astral</td>\n",
       "      <td>K &gt; 24 month</td>\n",
       "      <td>NaN</td>\n",
       "      <td>NaN</td>\n",
       "      <td>NaN</td>\n",
       "      <td>NaN</td>\n",
       "      <td>NaN</td>\n",
       "      <td>0.000</td>\n",
       "      <td>NaN</td>\n",
       "      <td>NaN</td>\n",
       "      <td>NaN</td>\n",
       "      <td>NaN</td>\n",
       "      <td>NaN</td>\n",
       "      <td>NO</td>\n",
       "      <td>39</td>\n",
       "      <td>NaN</td>\n",
       "      <td>NaN</td>\n",
       "      <td>0</td>\n",
       "    </tr>\n",
       "    <tr>\n",
       "      <th>1507833</th>\n",
       "      <td>ID_T7DN0N7KLS2R</td>\n",
       "      <td>NaN</td>\n",
       "      <td>K &gt; 24 month</td>\n",
       "      <td>NaN</td>\n",
       "      <td>NaN</td>\n",
       "      <td>NaN</td>\n",
       "      <td>NaN</td>\n",
       "      <td>NaN</td>\n",
       "      <td>NaN</td>\n",
       "      <td>NaN</td>\n",
       "      <td>NaN</td>\n",
       "      <td>NaN</td>\n",
       "      <td>NaN</td>\n",
       "      <td>NaN</td>\n",
       "      <td>NO</td>\n",
       "      <td>1</td>\n",
       "      <td>NaN</td>\n",
       "      <td>NaN</td>\n",
       "      <td>1</td>\n",
       "    </tr>\n",
       "  </tbody>\n",
       "</table>\n",
       "</div>"
      ],
      "text/plain": [
       "                      ID     region        tenure   Amount  refill_frequency  \\\n",
       "1507829  ID_D1MA2025F1U6        NaN  K > 24 month 7179.490            17.000   \n",
       "1507830  ID_9H6BGU1FS1CD  Celestial  K > 24 month  854.700             2.000   \n",
       "1507831  ID_QWJPIJ065LA4   Luminous  K > 24 month 1923.080             9.000   \n",
       "1507832  ID_B0S6HQUEDWJ7     Astral  K > 24 month      NaN               NaN   \n",
       "1507833  ID_T7DN0N7KLS2R        NaN  K > 24 month      NaN               NaN   \n",
       "\n",
       "         revenue  arpu_segment  frequency  data_volume  on_net  Procuct_1  \\\n",
       "1507829 6972.220      2323.930     18.000     4269.000   7.000        NaN   \n",
       "1507830  854.700       285.040      2.000     2276.000   0.000        NaN   \n",
       "1507831 2136.750       712.390     10.000          NaN  34.000     74.000   \n",
       "1507832      NaN           NaN        NaN        0.000     NaN        NaN   \n",
       "1507833      NaN           NaN        NaN          NaN     NaN        NaN   \n",
       "\n",
       "         Procuct_2  zone1  zone2 mrg  regularity               top_pack  \\\n",
       "1507829     11.000  0.000 61.000  NO          41       Data:490F=1GB,7d   \n",
       "1507830        NaN    NaN    NaN  NO          36     Data:1000F=2GB,30d   \n",
       "1507831     48.000    NaN    NaN  NO          40  All-net 500F=2000F;5d   \n",
       "1507832        NaN    NaN    NaN  NO          39                    NaN   \n",
       "1507833        NaN    NaN    NaN  NO           1                    NaN   \n",
       "\n",
       "         freq_top_pack  Target  \n",
       "1507829          4.000       0  \n",
       "1507830          2.000       0  \n",
       "1507831         10.000       0  \n",
       "1507832            NaN       0  \n",
       "1507833            NaN       1  "
      ]
     },
     "execution_count": 8,
     "metadata": {},
     "output_type": "execute_result"
    }
   ],
   "source": [
    "# Print the last five rows of the training dataset\n",
    "train_data.tail()"
   ]
  },
  {
   "cell_type": "code",
   "execution_count": 9,
   "id": "ec036952",
   "metadata": {},
   "outputs": [
    {
     "data": {
      "text/plain": [
       "(1507834, 19)"
      ]
     },
     "execution_count": 9,
     "metadata": {},
     "output_type": "execute_result"
    }
   ],
   "source": [
    "## Code to print the dimension of the training dataset\n",
    "train_data.shape"
   ]
  },
  {
   "cell_type": "code",
   "execution_count": 10,
   "id": "fbe14ccb",
   "metadata": {},
   "outputs": [
    {
     "name": "stdout",
     "output_type": "stream",
     "text": [
      " The banking  training dataset consist of 1507834 rows and 19 columns\n"
     ]
    }
   ],
   "source": [
    "print(f\" The banking  training dataset consist of {train_data.shape[0]} rows and {train_data.shape[1]} columns\")"
   ]
  },
  {
   "cell_type": "code",
   "execution_count": 11,
   "id": "49e82c41",
   "metadata": {},
   "outputs": [
    {
     "name": "stdout",
     "output_type": "stream",
     "text": [
      "<class 'pandas.core.frame.DataFrame'>\n",
      "RangeIndex: 1507834 entries, 0 to 1507833\n",
      "Data columns (total 19 columns):\n",
      " #   Column            Non-Null Count    Dtype  \n",
      "---  ------            --------------    -----  \n",
      " 0   ID                1507834 non-null  object \n",
      " 1   region            913743 non-null   object \n",
      " 2   tenure            1507834 non-null  object \n",
      " 3   Amount            978320 non-null   float64\n",
      " 4   refill_frequency  978320 non-null   float64\n",
      " 5   revenue           999713 non-null   float64\n",
      " 6   arpu_segment      999713 non-null   float64\n",
      " 7   frequency         999713 non-null   float64\n",
      " 8   data_volume       766028 non-null   float64\n",
      " 9   on_net            957192 non-null   float64\n",
      " 10  Procuct_1         881271 non-null   float64\n",
      " 11  Procuct_2         604784 non-null   float64\n",
      " 12  zone1             118986 non-null   float64\n",
      " 13  zone2             95505 non-null    float64\n",
      " 14  mrg               1507834 non-null  object \n",
      " 15  regularity        1507834 non-null  int64  \n",
      " 16  top_pack          876011 non-null   object \n",
      " 17  freq_top_pack     876011 non-null   float64\n",
      " 18  Target            1507834 non-null  int64  \n",
      "dtypes: float64(12), int64(2), object(5)\n",
      "memory usage: 218.6+ MB\n"
     ]
    }
   ],
   "source": [
    "train_data.info()"
   ]
  },
  {
   "cell_type": "markdown",
   "id": "8cb6dd03",
   "metadata": {},
   "source": [
    "### Observation\n",
    "* The customer retention training dataset consist of 1507834 rows and  19 columns. <br>\n",
    "* 12 of the columns are floating data type, 2 are integers and 5 are objects data types.<br>\n",
    "*  Some of the columns consist of missing values. <br>\n",
    "* The data memory usage is 218.6 MB(Megabytes)"
   ]
  },
  {
   "cell_type": "code",
   "execution_count": 12,
   "id": "b1ee2a9f",
   "metadata": {},
   "outputs": [
    {
     "data": {
      "text/html": [
       "<div>\n",
       "<style scoped>\n",
       "    .dataframe tbody tr th:only-of-type {\n",
       "        vertical-align: middle;\n",
       "    }\n",
       "\n",
       "    .dataframe tbody tr th {\n",
       "        vertical-align: top;\n",
       "    }\n",
       "\n",
       "    .dataframe thead th {\n",
       "        text-align: right;\n",
       "    }\n",
       "</style>\n",
       "<table border=\"1\" class=\"dataframe\">\n",
       "  <thead>\n",
       "    <tr style=\"text-align: right;\">\n",
       "      <th></th>\n",
       "      <th>ID</th>\n",
       "      <th>region</th>\n",
       "      <th>tenure</th>\n",
       "      <th>Amount</th>\n",
       "      <th>refill_frequency</th>\n",
       "      <th>revenue</th>\n",
       "      <th>arpu_segment</th>\n",
       "      <th>frequency</th>\n",
       "      <th>data_volume</th>\n",
       "      <th>on_net</th>\n",
       "      <th>Procuct_1</th>\n",
       "      <th>Procuct_2</th>\n",
       "      <th>zone1</th>\n",
       "      <th>zone2</th>\n",
       "      <th>mrg</th>\n",
       "      <th>regularity</th>\n",
       "      <th>top_pack</th>\n",
       "      <th>freq_top_pack</th>\n",
       "    </tr>\n",
       "  </thead>\n",
       "  <tbody>\n",
       "    <tr>\n",
       "      <th>0</th>\n",
       "      <td>ID_LZ8K373W7EWV</td>\n",
       "      <td>Droidika</td>\n",
       "      <td>K &gt; 24 month</td>\n",
       "      <td>2008.550</td>\n",
       "      <td>16.000</td>\n",
       "      <td>2010.260</td>\n",
       "      <td>670.090</td>\n",
       "      <td>17.000</td>\n",
       "      <td>10.000</td>\n",
       "      <td>247.000</td>\n",
       "      <td>17.000</td>\n",
       "      <td>70.000</td>\n",
       "      <td>NaN</td>\n",
       "      <td>NaN</td>\n",
       "      <td>NO</td>\n",
       "      <td>59</td>\n",
       "      <td>On net 200F=Unlimited _call24H</td>\n",
       "      <td>11.000</td>\n",
       "    </tr>\n",
       "    <tr>\n",
       "      <th>1</th>\n",
       "      <td>ID_04KNWHGV5783</td>\n",
       "      <td>Luminous</td>\n",
       "      <td>K &gt; 24 month</td>\n",
       "      <td>2991.450</td>\n",
       "      <td>14.000</td>\n",
       "      <td>2991.450</td>\n",
       "      <td>997.010</td>\n",
       "      <td>17.000</td>\n",
       "      <td>NaN</td>\n",
       "      <td>99.000</td>\n",
       "      <td>100.000</td>\n",
       "      <td>84.000</td>\n",
       "      <td>NaN</td>\n",
       "      <td>NaN</td>\n",
       "      <td>NO</td>\n",
       "      <td>49</td>\n",
       "      <td>All-net 500F=2000F;5d</td>\n",
       "      <td>12.000</td>\n",
       "    </tr>\n",
       "    <tr>\n",
       "      <th>2</th>\n",
       "      <td>ID_CXS07G6VLB2U</td>\n",
       "      <td>Astral</td>\n",
       "      <td>K &gt; 24 month</td>\n",
       "      <td>1581.200</td>\n",
       "      <td>8.000</td>\n",
       "      <td>1578.210</td>\n",
       "      <td>526.070</td>\n",
       "      <td>8.000</td>\n",
       "      <td>436.000</td>\n",
       "      <td>47.000</td>\n",
       "      <td>113.000</td>\n",
       "      <td>5.000</td>\n",
       "      <td>NaN</td>\n",
       "      <td>NaN</td>\n",
       "      <td>NO</td>\n",
       "      <td>13</td>\n",
       "      <td>Jokko_Daily</td>\n",
       "      <td>6.000</td>\n",
       "    </tr>\n",
       "    <tr>\n",
       "      <th>3</th>\n",
       "      <td>ID_N3NFJJVHS25K</td>\n",
       "      <td>Eclipsara</td>\n",
       "      <td>K &gt; 24 month</td>\n",
       "      <td>2564.100</td>\n",
       "      <td>12.000</td>\n",
       "      <td>2777.780</td>\n",
       "      <td>926.070</td>\n",
       "      <td>13.000</td>\n",
       "      <td>0.000</td>\n",
       "      <td>135.000</td>\n",
       "      <td>181.000</td>\n",
       "      <td>NaN</td>\n",
       "      <td>NaN</td>\n",
       "      <td>NaN</td>\n",
       "      <td>NO</td>\n",
       "      <td>53</td>\n",
       "      <td>All-net 500F=2000F;5d</td>\n",
       "      <td>13.000</td>\n",
       "    </tr>\n",
       "    <tr>\n",
       "      <th>4</th>\n",
       "      <td>ID_R36J4ROT93E9</td>\n",
       "      <td>NaN</td>\n",
       "      <td>K &gt; 24 month</td>\n",
       "      <td>NaN</td>\n",
       "      <td>NaN</td>\n",
       "      <td>NaN</td>\n",
       "      <td>NaN</td>\n",
       "      <td>NaN</td>\n",
       "      <td>NaN</td>\n",
       "      <td>NaN</td>\n",
       "      <td>NaN</td>\n",
       "      <td>NaN</td>\n",
       "      <td>NaN</td>\n",
       "      <td>NaN</td>\n",
       "      <td>NO</td>\n",
       "      <td>1</td>\n",
       "      <td>NaN</td>\n",
       "      <td>NaN</td>\n",
       "    </tr>\n",
       "  </tbody>\n",
       "</table>\n",
       "</div>"
      ],
      "text/plain": [
       "                ID     region        tenure   Amount  refill_frequency  \\\n",
       "0  ID_LZ8K373W7EWV   Droidika  K > 24 month 2008.550            16.000   \n",
       "1  ID_04KNWHGV5783   Luminous  K > 24 month 2991.450            14.000   \n",
       "2  ID_CXS07G6VLB2U     Astral  K > 24 month 1581.200             8.000   \n",
       "3  ID_N3NFJJVHS25K  Eclipsara  K > 24 month 2564.100            12.000   \n",
       "4  ID_R36J4ROT93E9        NaN  K > 24 month      NaN               NaN   \n",
       "\n",
       "   revenue  arpu_segment  frequency  data_volume  on_net  Procuct_1  \\\n",
       "0 2010.260       670.090     17.000       10.000 247.000     17.000   \n",
       "1 2991.450       997.010     17.000          NaN  99.000    100.000   \n",
       "2 1578.210       526.070      8.000      436.000  47.000    113.000   \n",
       "3 2777.780       926.070     13.000        0.000 135.000    181.000   \n",
       "4      NaN           NaN        NaN          NaN     NaN        NaN   \n",
       "\n",
       "   Procuct_2  zone1  zone2 mrg  regularity                        top_pack  \\\n",
       "0     70.000    NaN    NaN  NO          59  On net 200F=Unlimited _call24H   \n",
       "1     84.000    NaN    NaN  NO          49           All-net 500F=2000F;5d   \n",
       "2      5.000    NaN    NaN  NO          13                     Jokko_Daily   \n",
       "3        NaN    NaN    NaN  NO          53           All-net 500F=2000F;5d   \n",
       "4        NaN    NaN    NaN  NO           1                             NaN   \n",
       "\n",
       "   freq_top_pack  \n",
       "0         11.000  \n",
       "1         12.000  \n",
       "2          6.000  \n",
       "3         13.000  \n",
       "4            NaN  "
      ]
     },
     "execution_count": 12,
     "metadata": {},
     "output_type": "execute_result"
    }
   ],
   "source": [
    "## Code to print the first five rows of the testing dataset\n",
    "test_data.head()"
   ]
  },
  {
   "cell_type": "code",
   "execution_count": 13,
   "id": "8d673c9f",
   "metadata": {},
   "outputs": [
    {
     "data": {
      "text/plain": [
       "(380127, 18)"
      ]
     },
     "execution_count": 13,
     "metadata": {},
     "output_type": "execute_result"
    }
   ],
   "source": [
    "### Code to print the dimension of the testing dataset\n",
    "test_data.shape"
   ]
  },
  {
   "cell_type": "markdown",
   "id": "c818b82f",
   "metadata": {},
   "source": [
    "### Observation\n",
    "* The testing dataset consist of 380127 rows and 18 columns."
   ]
  },
  {
   "cell_type": "code",
   "execution_count": 14,
   "id": "7f022a53",
   "metadata": {},
   "outputs": [
    {
     "name": "stdout",
     "output_type": "stream",
     "text": [
      "<class 'pandas.core.frame.DataFrame'>\n",
      "RangeIndex: 380127 entries, 0 to 380126\n",
      "Data columns (total 18 columns):\n",
      " #   Column            Non-Null Count   Dtype  \n",
      "---  ------            --------------   -----  \n",
      " 0   ID                380127 non-null  object \n",
      " 1   region            230399 non-null  object \n",
      " 2   tenure            380127 non-null  object \n",
      " 3   Amount            247072 non-null  float64\n",
      " 4   refill_frequency  247072 non-null  float64\n",
      " 5   revenue           252754 non-null  float64\n",
      " 6   arpu_segment      252754 non-null  float64\n",
      " 7   frequency         252754 non-null  float64\n",
      " 8   data_volume       193087 non-null  float64\n",
      " 9   on_net            241613 non-null  float64\n",
      " 10  Procuct_1         222897 non-null  float64\n",
      " 11  Procuct_2         153126 non-null  float64\n",
      " 12  zone1             29861 non-null   float64\n",
      " 13  zone2             24076 non-null   float64\n",
      " 14  mrg               380127 non-null  object \n",
      " 15  regularity        380127 non-null  int64  \n",
      " 16  top_pack          221348 non-null  object \n",
      " 17  freq_top_pack     221348 non-null  float64\n",
      "dtypes: float64(12), int64(1), object(5)\n",
      "memory usage: 52.2+ MB\n"
     ]
    }
   ],
   "source": [
    "# Code to display the dataset data types\n",
    "test_data.info()"
   ]
  },
  {
   "cell_type": "markdown",
   "id": "d1e3166a",
   "metadata": {},
   "source": [
    "### Observation:\n",
    "* The financial sector training dataset consist of 23524 rows and 13 columns. <br>\n",
    "* 3 of those columns are integer data types. <br>\n",
    "* 10(ten) are object data types. <br>\n",
    "*  memory usage is 2.3 MB(Megabytes)."
   ]
  },
  {
   "cell_type": "code",
   "execution_count": 15,
   "id": "c8119c3d",
   "metadata": {},
   "outputs": [],
   "source": [
    "### Code to make a copy of the original training dataset\n",
    "data = train_data.copy()"
   ]
  },
  {
   "cell_type": "code",
   "execution_count": 16,
   "id": "bbad4a02",
   "metadata": {},
   "outputs": [],
   "source": [
    "## Drop the ID column in the training dataset\n",
    "data=data.drop(columns=\"ID\",axis=1)"
   ]
  },
  {
   "cell_type": "code",
   "execution_count": 17,
   "id": "5087379e",
   "metadata": {},
   "outputs": [
    {
     "data": {
      "text/html": [
       "<div>\n",
       "<style scoped>\n",
       "    .dataframe tbody tr th:only-of-type {\n",
       "        vertical-align: middle;\n",
       "    }\n",
       "\n",
       "    .dataframe tbody tr th {\n",
       "        vertical-align: top;\n",
       "    }\n",
       "\n",
       "    .dataframe thead th {\n",
       "        text-align: right;\n",
       "    }\n",
       "</style>\n",
       "<table border=\"1\" class=\"dataframe\">\n",
       "  <thead>\n",
       "    <tr style=\"text-align: right;\">\n",
       "      <th></th>\n",
       "      <th>count</th>\n",
       "      <th>mean</th>\n",
       "      <th>std</th>\n",
       "      <th>min</th>\n",
       "      <th>25%</th>\n",
       "      <th>50%</th>\n",
       "      <th>75%</th>\n",
       "      <th>max</th>\n",
       "    </tr>\n",
       "  </thead>\n",
       "  <tbody>\n",
       "    <tr>\n",
       "      <th>Amount</th>\n",
       "      <td>978320.000</td>\n",
       "      <td>2361.213</td>\n",
       "      <td>3028.955</td>\n",
       "      <td>4.270</td>\n",
       "      <td>427.350</td>\n",
       "      <td>1282.050</td>\n",
       "      <td>3141.030</td>\n",
       "      <td>124145.300</td>\n",
       "    </tr>\n",
       "    <tr>\n",
       "      <th>refill_frequency</th>\n",
       "      <td>978320.000</td>\n",
       "      <td>11.521</td>\n",
       "      <td>13.267</td>\n",
       "      <td>1.000</td>\n",
       "      <td>2.000</td>\n",
       "      <td>7.000</td>\n",
       "      <td>16.000</td>\n",
       "      <td>133.000</td>\n",
       "    </tr>\n",
       "    <tr>\n",
       "      <th>revenue</th>\n",
       "      <td>999713.000</td>\n",
       "      <td>2352.073</td>\n",
       "      <td>3053.177</td>\n",
       "      <td>0.430</td>\n",
       "      <td>427.350</td>\n",
       "      <td>1282.050</td>\n",
       "      <td>3146.580</td>\n",
       "      <td>113696.580</td>\n",
       "    </tr>\n",
       "    <tr>\n",
       "      <th>arpu_segment</th>\n",
       "      <td>999713.000</td>\n",
       "      <td>784.027</td>\n",
       "      <td>1017.724</td>\n",
       "      <td>0.000</td>\n",
       "      <td>142.310</td>\n",
       "      <td>427.350</td>\n",
       "      <td>1048.720</td>\n",
       "      <td>37898.720</td>\n",
       "    </tr>\n",
       "    <tr>\n",
       "      <th>frequency</th>\n",
       "      <td>999713.000</td>\n",
       "      <td>13.968</td>\n",
       "      <td>14.682</td>\n",
       "      <td>1.000</td>\n",
       "      <td>3.000</td>\n",
       "      <td>9.000</td>\n",
       "      <td>20.000</td>\n",
       "      <td>91.000</td>\n",
       "    </tr>\n",
       "    <tr>\n",
       "      <th>data_volume</th>\n",
       "      <td>766028.000</td>\n",
       "      <td>3354.667</td>\n",
       "      <td>13304.604</td>\n",
       "      <td>0.000</td>\n",
       "      <td>0.000</td>\n",
       "      <td>256.000</td>\n",
       "      <td>2879.000</td>\n",
       "      <td>1823866.000</td>\n",
       "    </tr>\n",
       "    <tr>\n",
       "      <th>on_net</th>\n",
       "      <td>957192.000</td>\n",
       "      <td>278.001</td>\n",
       "      <td>874.412</td>\n",
       "      <td>0.000</td>\n",
       "      <td>5.000</td>\n",
       "      <td>27.000</td>\n",
       "      <td>156.000</td>\n",
       "      <td>50809.000</td>\n",
       "    </tr>\n",
       "    <tr>\n",
       "      <th>Procuct_1</th>\n",
       "      <td>881271.000</td>\n",
       "      <td>95.325</td>\n",
       "      <td>203.328</td>\n",
       "      <td>0.000</td>\n",
       "      <td>7.000</td>\n",
       "      <td>29.000</td>\n",
       "      <td>99.000</td>\n",
       "      <td>12040.000</td>\n",
       "    </tr>\n",
       "    <tr>\n",
       "      <th>Procuct_2</th>\n",
       "      <td>604784.000</td>\n",
       "      <td>23.146</td>\n",
       "      <td>63.507</td>\n",
       "      <td>0.000</td>\n",
       "      <td>2.000</td>\n",
       "      <td>6.000</td>\n",
       "      <td>20.000</td>\n",
       "      <td>4174.000</td>\n",
       "    </tr>\n",
       "    <tr>\n",
       "      <th>zone1</th>\n",
       "      <td>118986.000</td>\n",
       "      <td>8.092</td>\n",
       "      <td>40.739</td>\n",
       "      <td>0.000</td>\n",
       "      <td>0.000</td>\n",
       "      <td>1.000</td>\n",
       "      <td>3.000</td>\n",
       "      <td>4792.000</td>\n",
       "    </tr>\n",
       "    <tr>\n",
       "      <th>zone2</th>\n",
       "      <td>95505.000</td>\n",
       "      <td>7.466</td>\n",
       "      <td>32.146</td>\n",
       "      <td>0.000</td>\n",
       "      <td>0.000</td>\n",
       "      <td>2.000</td>\n",
       "      <td>5.000</td>\n",
       "      <td>3143.000</td>\n",
       "    </tr>\n",
       "    <tr>\n",
       "      <th>regularity</th>\n",
       "      <td>1507834.000</td>\n",
       "      <td>28.044</td>\n",
       "      <td>22.281</td>\n",
       "      <td>1.000</td>\n",
       "      <td>6.000</td>\n",
       "      <td>24.000</td>\n",
       "      <td>51.000</td>\n",
       "      <td>62.000</td>\n",
       "    </tr>\n",
       "    <tr>\n",
       "      <th>freq_top_pack</th>\n",
       "      <td>876011.000</td>\n",
       "      <td>9.264</td>\n",
       "      <td>12.269</td>\n",
       "      <td>1.000</td>\n",
       "      <td>2.000</td>\n",
       "      <td>5.000</td>\n",
       "      <td>12.000</td>\n",
       "      <td>629.000</td>\n",
       "    </tr>\n",
       "    <tr>\n",
       "      <th>Target</th>\n",
       "      <td>1507834.000</td>\n",
       "      <td>0.187</td>\n",
       "      <td>0.390</td>\n",
       "      <td>0.000</td>\n",
       "      <td>0.000</td>\n",
       "      <td>0.000</td>\n",
       "      <td>0.000</td>\n",
       "      <td>1.000</td>\n",
       "    </tr>\n",
       "  </tbody>\n",
       "</table>\n",
       "</div>"
      ],
      "text/plain": [
       "                       count     mean       std   min     25%      50%  \\\n",
       "Amount            978320.000 2361.213  3028.955 4.270 427.350 1282.050   \n",
       "refill_frequency  978320.000   11.521    13.267 1.000   2.000    7.000   \n",
       "revenue           999713.000 2352.073  3053.177 0.430 427.350 1282.050   \n",
       "arpu_segment      999713.000  784.027  1017.724 0.000 142.310  427.350   \n",
       "frequency         999713.000   13.968    14.682 1.000   3.000    9.000   \n",
       "data_volume       766028.000 3354.667 13304.604 0.000   0.000  256.000   \n",
       "on_net            957192.000  278.001   874.412 0.000   5.000   27.000   \n",
       "Procuct_1         881271.000   95.325   203.328 0.000   7.000   29.000   \n",
       "Procuct_2         604784.000   23.146    63.507 0.000   2.000    6.000   \n",
       "zone1             118986.000    8.092    40.739 0.000   0.000    1.000   \n",
       "zone2              95505.000    7.466    32.146 0.000   0.000    2.000   \n",
       "regularity       1507834.000   28.044    22.281 1.000   6.000   24.000   \n",
       "freq_top_pack     876011.000    9.264    12.269 1.000   2.000    5.000   \n",
       "Target           1507834.000    0.187     0.390 0.000   0.000    0.000   \n",
       "\n",
       "                      75%         max  \n",
       "Amount           3141.030  124145.300  \n",
       "refill_frequency   16.000     133.000  \n",
       "revenue          3146.580  113696.580  \n",
       "arpu_segment     1048.720   37898.720  \n",
       "frequency          20.000      91.000  \n",
       "data_volume      2879.000 1823866.000  \n",
       "on_net            156.000   50809.000  \n",
       "Procuct_1          99.000   12040.000  \n",
       "Procuct_2          20.000    4174.000  \n",
       "zone1               3.000    4792.000  \n",
       "zone2               5.000    3143.000  \n",
       "regularity         51.000      62.000  \n",
       "freq_top_pack      12.000     629.000  \n",
       "Target              0.000       1.000  "
      ]
     },
     "execution_count": 17,
     "metadata": {},
     "output_type": "execute_result"
    }
   ],
   "source": [
    " # Code to print the statistical summary of the numerical columns in the training dataset\n",
    "data.describe().T  "
   ]
  },
  {
   "cell_type": "markdown",
   "id": "5ab9a08a",
   "metadata": {},
   "source": [
    "### Observation:\n",
    "* The numerical dataset columns are skewed to the right with mean greater than the median.\n",
    "* 75% of the customers have revenue of  is R 3146.580  and above."
   ]
  },
  {
   "cell_type": "code",
   "execution_count": 18,
   "id": "2a422803",
   "metadata": {},
   "outputs": [
    {
     "data": {
      "text/plain": [
       "region               594091\n",
       "tenure                    0\n",
       "Amount               529514\n",
       "refill_frequency     529514\n",
       "revenue              508121\n",
       "arpu_segment         508121\n",
       "frequency            508121\n",
       "data_volume          741806\n",
       "on_net               550642\n",
       "Procuct_1            626563\n",
       "Procuct_2            903050\n",
       "zone1               1388848\n",
       "zone2               1412329\n",
       "mrg                       0\n",
       "regularity                0\n",
       "top_pack             631823\n",
       "freq_top_pack        631823\n",
       "Target                    0\n",
       "dtype: int64"
      ]
     },
     "execution_count": 18,
     "metadata": {},
     "output_type": "execute_result"
    }
   ],
   "source": [
    "# Code to check for missing values in the training dataset\n",
    "data.isnull().sum()"
   ]
  },
  {
   "cell_type": "code",
   "execution_count": 19,
   "id": "5a4f8a43",
   "metadata": {},
   "outputs": [
    {
     "data": {
      "text/plain": [
       "10064366"
      ]
     },
     "execution_count": 19,
     "metadata": {},
     "output_type": "execute_result"
    }
   ],
   "source": [
    "data.isnull().sum().sum()"
   ]
  },
  {
   "cell_type": "markdown",
   "id": "77da3b73",
   "metadata": {},
   "source": [
    "###  Observation:\n",
    "* There are 10064366 missing values in the training dataset.\n",
    "* 86% of the numerical data columns contain misssing values.\n",
    "* Data preprocessing will be done to handle missing values."
   ]
  },
  {
   "cell_type": "code",
   "execution_count": 20,
   "id": "d999b38d",
   "metadata": {},
   "outputs": [
    {
     "data": {
      "text/plain": [
       "1507834"
      ]
     },
     "execution_count": 20,
     "metadata": {},
     "output_type": "execute_result"
    }
   ],
   "source": [
    "data.shape[0]"
   ]
  },
  {
   "cell_type": "code",
   "execution_count": 21,
   "id": "640e8483",
   "metadata": {},
   "outputs": [
    {
     "data": {
      "text/plain": [
       "region             39.000\n",
       "tenure              0.000\n",
       "Amount             35.000\n",
       "refill_frequency   35.000\n",
       "revenue            34.000\n",
       "arpu_segment       34.000\n",
       "frequency          34.000\n",
       "data_volume        49.000\n",
       "on_net             37.000\n",
       "Procuct_1          42.000\n",
       "Procuct_2          60.000\n",
       "zone1              92.000\n",
       "zone2              94.000\n",
       "mrg                 0.000\n",
       "regularity          0.000\n",
       "top_pack           42.000\n",
       "freq_top_pack      42.000\n",
       "Target              0.000\n",
       "dtype: float64"
      ]
     },
     "execution_count": 21,
     "metadata": {},
     "output_type": "execute_result"
    }
   ],
   "source": [
    "### Now compute the  percentage of missing values in each column\n",
    "round((data.isnull().sum()/ data.shape[0])*100,)"
   ]
  },
  {
   "cell_type": "markdown",
   "id": "f522cbd9",
   "metadata": {},
   "source": [
    "### Observation\n",
    "* Procuct-2 ,Zone 1 and Zone 2 are columns with missing values greater than 50%.\n",
    "* We need to drop these three columns"
   ]
  },
  {
   "cell_type": "code",
   "execution_count": 22,
   "id": "795163b0",
   "metadata": {},
   "outputs": [
    {
     "data": {
      "text/plain": [
       "445107"
      ]
     },
     "execution_count": 22,
     "metadata": {},
     "output_type": "execute_result"
    }
   ],
   "source": [
    "# Code to check for duplicates in the dataset\n",
    "data.duplicated().sum()"
   ]
  },
  {
   "cell_type": "markdown",
   "id": "77166ad6",
   "metadata": {},
   "source": [
    "### Observation \n",
    "* There are 445107 duplicates present in the training dataset"
   ]
  },
  {
   "cell_type": "code",
   "execution_count": 23,
   "id": "bd1fc09f",
   "metadata": {},
   "outputs": [],
   "source": [
    "### Code to drop the duplicates and recheck in the duplicates are still present\n",
    "data=data.drop_duplicates()"
   ]
  },
  {
   "cell_type": "code",
   "execution_count": 24,
   "id": "9c83088c",
   "metadata": {},
   "outputs": [
    {
     "data": {
      "text/plain": [
       "0"
      ]
     },
     "execution_count": 24,
     "metadata": {},
     "output_type": "execute_result"
    }
   ],
   "source": [
    "data.duplicated().sum()"
   ]
  },
  {
   "cell_type": "markdown",
   "id": "a0d437ab",
   "metadata": {},
   "source": [
    "### Provide the tenure columns with codes\n",
    "* 3-6 months  : 1\n",
    "* 6-9 months  : 2\n",
    "* 9-12 months : 3\n",
    "* 12-15 months: 4\n",
    "* 15-18 months: 5\n",
    "* 18-21 months: 6\n",
    "* 21-24 months: 7\n",
    "* above 24 months : 8"
   ]
  },
  {
   "cell_type": "code",
   "execution_count": 25,
   "id": "169823b2",
   "metadata": {},
   "outputs": [],
   "source": [
    "## Code to replace the categorical tenure columns with numbers in the training dataset\n",
    "data[\"tenure\"] = data[\"tenure\"].replace('D 3-6 month',1)\n",
    "data[\"tenure\"] = data[\"tenure\"].replace('E 6-9 month',2)\n",
    "data[\"tenure\"] = data[\"tenure\"].replace('F 9-12 month',3)\n",
    "data[\"tenure\"] = data[\"tenure\"].replace('G 12-15 month',4)\n",
    "data[\"tenure\"] = data[\"tenure\"].replace('H 15-18 month',5)\n",
    "data[\"tenure\"] = data[\"tenure\"].replace('I 18-21 month',6)\n",
    "data[\"tenure\"] = data[\"tenure\"].replace('J 21-24 month',7)\n",
    "data[\"tenure\"] = data[\"tenure\"].replace('K > 24 month',8)"
   ]
  },
  {
   "cell_type": "code",
   "execution_count": 26,
   "id": "6bf70888",
   "metadata": {},
   "outputs": [],
   "source": [
    "## Code to replace the categorical tenure columns with numbers in the testing dataset\n",
    "test_data[\"tenure\"] = test_data[\"tenure\"].replace('D 3-6 month',1)\n",
    "test_data[\"tenure\"] = test_data[\"tenure\"].replace('E 6-9 month',2)\n",
    "test_data[\"tenure\"] = test_data[\"tenure\"].replace('F 9-12 month',3)\n",
    "test_data[\"tenure\"] = test_data[\"tenure\"].replace('G 12-15 month',4)\n",
    "test_data[\"tenure\"] = test_data[\"tenure\"].replace('H 15-18 month',5)\n",
    "test_data[\"tenure\"] = test_data[\"tenure\"].replace('I 18-21 month',6)\n",
    "test_data[\"tenure\"] = test_data[\"tenure\"].replace('J 21-24 month',7)\n",
    "test_data[\"tenure\"] = test_data[\"tenure\"].replace('K > 24 month',8)"
   ]
  },
  {
   "cell_type": "code",
   "execution_count": 27,
   "id": "2aa04e1a",
   "metadata": {},
   "outputs": [
    {
     "data": {
      "text/html": [
       "<div>\n",
       "<style scoped>\n",
       "    .dataframe tbody tr th:only-of-type {\n",
       "        vertical-align: middle;\n",
       "    }\n",
       "\n",
       "    .dataframe tbody tr th {\n",
       "        vertical-align: top;\n",
       "    }\n",
       "\n",
       "    .dataframe thead th {\n",
       "        text-align: right;\n",
       "    }\n",
       "</style>\n",
       "<table border=\"1\" class=\"dataframe\">\n",
       "  <thead>\n",
       "    <tr style=\"text-align: right;\">\n",
       "      <th></th>\n",
       "      <th>region</th>\n",
       "      <th>tenure</th>\n",
       "      <th>Amount</th>\n",
       "      <th>refill_frequency</th>\n",
       "      <th>revenue</th>\n",
       "      <th>arpu_segment</th>\n",
       "      <th>frequency</th>\n",
       "      <th>data_volume</th>\n",
       "      <th>on_net</th>\n",
       "      <th>Procuct_1</th>\n",
       "      <th>Procuct_2</th>\n",
       "      <th>zone1</th>\n",
       "      <th>zone2</th>\n",
       "      <th>mrg</th>\n",
       "      <th>regularity</th>\n",
       "      <th>top_pack</th>\n",
       "      <th>freq_top_pack</th>\n",
       "      <th>Target</th>\n",
       "    </tr>\n",
       "  </thead>\n",
       "  <tbody>\n",
       "    <tr>\n",
       "      <th>0</th>\n",
       "      <td>NaN</td>\n",
       "      <td>8</td>\n",
       "      <td>NaN</td>\n",
       "      <td>NaN</td>\n",
       "      <td>NaN</td>\n",
       "      <td>NaN</td>\n",
       "      <td>NaN</td>\n",
       "      <td>NaN</td>\n",
       "      <td>NaN</td>\n",
       "      <td>NaN</td>\n",
       "      <td>NaN</td>\n",
       "      <td>NaN</td>\n",
       "      <td>NaN</td>\n",
       "      <td>NO</td>\n",
       "      <td>3</td>\n",
       "      <td>NaN</td>\n",
       "      <td>NaN</td>\n",
       "      <td>0</td>\n",
       "    </tr>\n",
       "    <tr>\n",
       "      <th>1</th>\n",
       "      <td>Nebula</td>\n",
       "      <td>8</td>\n",
       "      <td>4764.960</td>\n",
       "      <td>41.000</td>\n",
       "      <td>4756.840</td>\n",
       "      <td>1585.470</td>\n",
       "      <td>41.000</td>\n",
       "      <td>2.000</td>\n",
       "      <td>626.000</td>\n",
       "      <td>24.000</td>\n",
       "      <td>NaN</td>\n",
       "      <td>NaN</td>\n",
       "      <td>NaN</td>\n",
       "      <td>NO</td>\n",
       "      <td>62</td>\n",
       "      <td>On net 200F=Unlimited _call24H</td>\n",
       "      <td>31.000</td>\n",
       "      <td>0</td>\n",
       "    </tr>\n",
       "    <tr>\n",
       "      <th>2</th>\n",
       "      <td>Celestial</td>\n",
       "      <td>8</td>\n",
       "      <td>5769.230</td>\n",
       "      <td>22.000</td>\n",
       "      <td>5769.230</td>\n",
       "      <td>1923.080</td>\n",
       "      <td>22.000</td>\n",
       "      <td>28121.000</td>\n",
       "      <td>0.000</td>\n",
       "      <td>NaN</td>\n",
       "      <td>1.000</td>\n",
       "      <td>NaN</td>\n",
       "      <td>NaN</td>\n",
       "      <td>NO</td>\n",
       "      <td>61</td>\n",
       "      <td>NaN</td>\n",
       "      <td>NaN</td>\n",
       "      <td>0</td>\n",
       "    </tr>\n",
       "    <tr>\n",
       "      <th>3</th>\n",
       "      <td>NaN</td>\n",
       "      <td>8</td>\n",
       "      <td>NaN</td>\n",
       "      <td>NaN</td>\n",
       "      <td>NaN</td>\n",
       "      <td>NaN</td>\n",
       "      <td>NaN</td>\n",
       "      <td>NaN</td>\n",
       "      <td>NaN</td>\n",
       "      <td>NaN</td>\n",
       "      <td>NaN</td>\n",
       "      <td>NaN</td>\n",
       "      <td>NaN</td>\n",
       "      <td>NO</td>\n",
       "      <td>6</td>\n",
       "      <td>NaN</td>\n",
       "      <td>NaN</td>\n",
       "      <td>0</td>\n",
       "    </tr>\n",
       "    <tr>\n",
       "      <th>4</th>\n",
       "      <td>Eclipsara</td>\n",
       "      <td>8</td>\n",
       "      <td>5341.880</td>\n",
       "      <td>58.000</td>\n",
       "      <td>5636.750</td>\n",
       "      <td>1879.060</td>\n",
       "      <td>60.000</td>\n",
       "      <td>1131.000</td>\n",
       "      <td>546.000</td>\n",
       "      <td>376.000</td>\n",
       "      <td>0.000</td>\n",
       "      <td>NaN</td>\n",
       "      <td>NaN</td>\n",
       "      <td>NO</td>\n",
       "      <td>62</td>\n",
       "      <td>Mixt 250F=Unlimited_call24H</td>\n",
       "      <td>31.000</td>\n",
       "      <td>0</td>\n",
       "    </tr>\n",
       "    <tr>\n",
       "      <th>5</th>\n",
       "      <td>Celestial</td>\n",
       "      <td>8</td>\n",
       "      <td>42.740</td>\n",
       "      <td>1.000</td>\n",
       "      <td>42.740</td>\n",
       "      <td>14.100</td>\n",
       "      <td>2.000</td>\n",
       "      <td>4.000</td>\n",
       "      <td>3.000</td>\n",
       "      <td>NaN</td>\n",
       "      <td>NaN</td>\n",
       "      <td>NaN</td>\n",
       "      <td>NaN</td>\n",
       "      <td>NO</td>\n",
       "      <td>44</td>\n",
       "      <td>NaN</td>\n",
       "      <td>NaN</td>\n",
       "      <td>0</td>\n",
       "    </tr>\n",
       "    <tr>\n",
       "      <th>6</th>\n",
       "      <td>NaN</td>\n",
       "      <td>8</td>\n",
       "      <td>NaN</td>\n",
       "      <td>NaN</td>\n",
       "      <td>NaN</td>\n",
       "      <td>NaN</td>\n",
       "      <td>NaN</td>\n",
       "      <td>NaN</td>\n",
       "      <td>NaN</td>\n",
       "      <td>NaN</td>\n",
       "      <td>NaN</td>\n",
       "      <td>NaN</td>\n",
       "      <td>NaN</td>\n",
       "      <td>NO</td>\n",
       "      <td>7</td>\n",
       "      <td>NaN</td>\n",
       "      <td>NaN</td>\n",
       "      <td>0</td>\n",
       "    </tr>\n",
       "    <tr>\n",
       "      <th>7</th>\n",
       "      <td>Eclipsara</td>\n",
       "      <td>8</td>\n",
       "      <td>2564.100</td>\n",
       "      <td>12.000</td>\n",
       "      <td>2777.780</td>\n",
       "      <td>926.070</td>\n",
       "      <td>13.000</td>\n",
       "      <td>NaN</td>\n",
       "      <td>96.000</td>\n",
       "      <td>96.000</td>\n",
       "      <td>1.000</td>\n",
       "      <td>NaN</td>\n",
       "      <td>NaN</td>\n",
       "      <td>NO</td>\n",
       "      <td>59</td>\n",
       "      <td>All-net 500F =2000F_AllNet_Unlimited</td>\n",
       "      <td>13.000</td>\n",
       "      <td>0</td>\n",
       "    </tr>\n",
       "    <tr>\n",
       "      <th>8</th>\n",
       "      <td>NaN</td>\n",
       "      <td>8</td>\n",
       "      <td>NaN</td>\n",
       "      <td>NaN</td>\n",
       "      <td>NaN</td>\n",
       "      <td>NaN</td>\n",
       "      <td>NaN</td>\n",
       "      <td>NaN</td>\n",
       "      <td>NaN</td>\n",
       "      <td>NaN</td>\n",
       "      <td>NaN</td>\n",
       "      <td>NaN</td>\n",
       "      <td>NaN</td>\n",
       "      <td>NO</td>\n",
       "      <td>1</td>\n",
       "      <td>NaN</td>\n",
       "      <td>NaN</td>\n",
       "      <td>1</td>\n",
       "    </tr>\n",
       "    <tr>\n",
       "      <th>9</th>\n",
       "      <td>Mandalore</td>\n",
       "      <td>8</td>\n",
       "      <td>1987.180</td>\n",
       "      <td>13.000</td>\n",
       "      <td>2242.740</td>\n",
       "      <td>747.440</td>\n",
       "      <td>13.000</td>\n",
       "      <td>NaN</td>\n",
       "      <td>9.000</td>\n",
       "      <td>39.000</td>\n",
       "      <td>73.000</td>\n",
       "      <td>NaN</td>\n",
       "      <td>NaN</td>\n",
       "      <td>NO</td>\n",
       "      <td>34</td>\n",
       "      <td>All-net 500F=2000F;5d</td>\n",
       "      <td>8.000</td>\n",
       "      <td>0</td>\n",
       "    </tr>\n",
       "  </tbody>\n",
       "</table>\n",
       "</div>"
      ],
      "text/plain": [
       "      region  tenure   Amount  refill_frequency  revenue  arpu_segment  \\\n",
       "0        NaN       8      NaN               NaN      NaN           NaN   \n",
       "1     Nebula       8 4764.960            41.000 4756.840      1585.470   \n",
       "2  Celestial       8 5769.230            22.000 5769.230      1923.080   \n",
       "3        NaN       8      NaN               NaN      NaN           NaN   \n",
       "4  Eclipsara       8 5341.880            58.000 5636.750      1879.060   \n",
       "5  Celestial       8   42.740             1.000   42.740        14.100   \n",
       "6        NaN       8      NaN               NaN      NaN           NaN   \n",
       "7  Eclipsara       8 2564.100            12.000 2777.780       926.070   \n",
       "8        NaN       8      NaN               NaN      NaN           NaN   \n",
       "9  Mandalore       8 1987.180            13.000 2242.740       747.440   \n",
       "\n",
       "   frequency  data_volume  on_net  Procuct_1  Procuct_2  zone1  zone2 mrg  \\\n",
       "0        NaN          NaN     NaN        NaN        NaN    NaN    NaN  NO   \n",
       "1     41.000        2.000 626.000     24.000        NaN    NaN    NaN  NO   \n",
       "2     22.000    28121.000   0.000        NaN      1.000    NaN    NaN  NO   \n",
       "3        NaN          NaN     NaN        NaN        NaN    NaN    NaN  NO   \n",
       "4     60.000     1131.000 546.000    376.000      0.000    NaN    NaN  NO   \n",
       "5      2.000        4.000   3.000        NaN        NaN    NaN    NaN  NO   \n",
       "6        NaN          NaN     NaN        NaN        NaN    NaN    NaN  NO   \n",
       "7     13.000          NaN  96.000     96.000      1.000    NaN    NaN  NO   \n",
       "8        NaN          NaN     NaN        NaN        NaN    NaN    NaN  NO   \n",
       "9     13.000          NaN   9.000     39.000     73.000    NaN    NaN  NO   \n",
       "\n",
       "   regularity                              top_pack  freq_top_pack  Target  \n",
       "0           3                                   NaN            NaN       0  \n",
       "1          62        On net 200F=Unlimited _call24H         31.000       0  \n",
       "2          61                                   NaN            NaN       0  \n",
       "3           6                                   NaN            NaN       0  \n",
       "4          62           Mixt 250F=Unlimited_call24H         31.000       0  \n",
       "5          44                                   NaN            NaN       0  \n",
       "6           7                                   NaN            NaN       0  \n",
       "7          59  All-net 500F =2000F_AllNet_Unlimited         13.000       0  \n",
       "8           1                                   NaN            NaN       1  \n",
       "9          34                 All-net 500F=2000F;5d          8.000       0  "
      ]
     },
     "execution_count": 27,
     "metadata": {},
     "output_type": "execute_result"
    }
   ],
   "source": [
    "data.head(10)"
   ]
  },
  {
   "cell_type": "markdown",
   "id": "9c7ec9ee",
   "metadata": {},
   "source": [
    "# Exploratory data analysis(EDA)"
   ]
  },
  {
   "cell_type": "markdown",
   "id": "43016284",
   "metadata": {},
   "source": [
    "## Univariate data analysis"
   ]
  },
  {
   "cell_type": "markdown",
   "id": "16d148d4",
   "metadata": {},
   "source": [
    "### Numerical data"
   ]
  },
  {
   "cell_type": "code",
   "execution_count": 28,
   "id": "555d837a",
   "metadata": {},
   "outputs": [],
   "source": [
    "# Code to select the numerical columns from the training dataset\n",
    "numerical_columns =data.select_dtypes(\"number\").columns"
   ]
  },
  {
   "cell_type": "code",
   "execution_count": 29,
   "id": "304ad3df",
   "metadata": {},
   "outputs": [],
   "source": [
    "### Code to create a function to display histogram and boxplot for numerical dataset\n",
    "def box_histplot(data,item):\n",
    "    \n",
    "    plt.figure(figsize=(15,5))                    # increase the size of the plot\n",
    "    plt.title(f\"Histogram for {item}\")           # Give the graph a title\n",
    "    plt.xlabel(item)                            # set the label on the x-axis\n",
    "    plt.ylabel(\"frequency\")                     # set the label on the y-axis\n",
    "    sns.histplot(data=data,x=item,kde=False);  # histogram for numerical dataset\n",
    "    plt.axvline(data[item].mean(),color=\"black\",linestyle=\"--\")\n",
    "    plt.axvline(data[item].median(),color=\"red\",linestyle=\"-\")\n",
    "    plt.show()\n",
    "    plt.figure(figsize=(15,5))                     # increase the size of the plot\n",
    "    plt.title(f\"Boxplot for {item}\")               # Give the plot a suitable title\n",
    "    sns.boxplot(data=data,x=item,showmeans=True);   # Boxplot for numerical dataset\n",
    "    plt.xlabel(item)                               # set the label on the x-axis\n",
    "    plt.show()"
   ]
  },
  {
   "cell_type": "code",
   "execution_count": 30,
   "id": "e2132d1c",
   "metadata": {},
   "outputs": [],
   "source": [
    "### Create a list of numerical columns excluding the target and tenure columns \n",
    "numerical_columns1 = ['Amount', 'refill_frequency', 'revenue', 'arpu_segment','frequency', \n",
    "                      'data_volume', 'on_net', 'Procuct_1', 'Procuct_2', 'zone1',\n",
    "                     'zone2', 'regularity', 'freq_top_pack']"
   ]
  },
  {
   "cell_type": "code",
   "execution_count": null,
   "id": "e1c26c9c",
   "metadata": {},
   "outputs": [],
   "source": [
    "# Code to call the function to display the histogram and boxplots for numerical columns\n",
    "for item in data[numerical_columns1]:\n",
    "    box_histplot(data,item)"
   ]
  },
  {
   "cell_type": "markdown",
   "id": "962daba0",
   "metadata": {},
   "source": [
    "### Observation\n",
    "* About 93% of the predictor/independent variables are skewed to the right/positively skewed with oultiers on the right side of the whiskers.<br>\n",
    "* The regularity column is skewed to left with no outliers. <br>\n",
    "* Data preprocessing will be done to remove outliers in the numerical dataset.\n",
    "\n"
   ]
  },
  {
   "cell_type": "code",
   "execution_count": null,
   "id": "bd5ba5e1",
   "metadata": {},
   "outputs": [],
   "source": [
    "# Create a pie chart to show the percentage for the target column\n",
    "plt.figure(figsize=(4,5))\n",
    "values = data['Target'].value_counts() /data.shape[0]\n",
    "plt.pie(values,labels=[\"Active\",\"Inactive\"],autopct=\"%1.1f%%\",shadow=True)\n",
    "plt.title(\"Percentage of the target\")\n",
    "plt.show()"
   ]
  },
  {
   "cell_type": "code",
   "execution_count": null,
   "id": "64237259",
   "metadata": {},
   "outputs": [],
   "source": [
    "data[\"Target\"].value_counts()"
   ]
  },
  {
   "cell_type": "markdown",
   "id": "5a314f63",
   "metadata": {},
   "source": [
    "#### Observation:\n",
    "* About 94% of the customers are active and making transactions for a period of 90 days\n",
    "* Only 6% of the customers shows a sign of inactive and refrining from making any transactions.\n",
    "* The target columns consist of imbalanced dataset\n",
    "* Balancing of dataset will be done to avoid the model to become baised towards the one class."
   ]
  },
  {
   "cell_type": "code",
   "execution_count": null,
   "id": "a7220a45",
   "metadata": {},
   "outputs": [],
   "source": [
    "# Create a pie chart to show the percentage for tenure\n",
    "plt.figure(figsize=(4,5))\n",
    "values = data[\"tenure\"].value_counts() /data.shape[0]\n",
    "plt.pie(values,labels=values.keys(),autopct=\"%1.1f%%\",shadow=True)\n",
    "plt.title(\"Percentage of tenure by group\")\n",
    "plt.show()"
   ]
  },
  {
   "cell_type": "code",
   "execution_count": null,
   "id": "39d011f4",
   "metadata": {},
   "outputs": [],
   "source": [
    "round(train_data[\"tenure\"].value_counts(normalize=True,ascending=False)*100,)"
   ]
  },
  {
   "cell_type": "code",
   "execution_count": null,
   "id": "54b2afac",
   "metadata": {},
   "outputs": [],
   "source": [
    "### Observation"
   ]
  },
  {
   "cell_type": "markdown",
   "id": "f6b6c038",
   "metadata": {},
   "source": [
    "## Categorical data analysis:"
   ]
  },
  {
   "cell_type": "code",
   "execution_count": null,
   "id": "096a615b",
   "metadata": {},
   "outputs": [],
   "source": [
    "# Code to select categorical columns\n",
    "categorical_data = data.select_dtypes(\"object\").columns  "
   ]
  },
  {
   "cell_type": "code",
   "execution_count": null,
   "id": "4a951bd6",
   "metadata": {},
   "outputs": [],
   "source": [
    "categorical_data"
   ]
  },
  {
   "cell_type": "code",
   "execution_count": null,
   "id": "2169e7d7",
   "metadata": {},
   "outputs": [],
   "source": [
    "## Create a function to display the bar graphs for categorical data columns\n",
    "def count_plot(data,item):\n",
    "    plt.figure(figsize=(5,4))            # increase the size of the plot\n",
    "    sns.countplot(data=data , x=item);   # countplot for categorical columns\n",
    "    plt.title(f\"Countplot for {item}\")   # add the title on the countplot\n",
    "    plt.ylabel(\"frequency\")              # add the label on the y-axis\n",
    "    plt.xticks(rotation=90) \n",
    "    plt.show()"
   ]
  },
  {
   "cell_type": "code",
   "execution_count": null,
   "id": "83ae2556",
   "metadata": {},
   "outputs": [],
   "source": [
    "# Print the countplot for customers by region\n",
    "count_plot(data,\"region\")"
   ]
  },
  {
   "cell_type": "code",
   "execution_count": null,
   "id": "865db323",
   "metadata": {},
   "outputs": [],
   "source": [
    "data[\"region\"].value_counts(ascending=False)"
   ]
  },
  {
   "cell_type": "code",
   "execution_count": null,
   "id": "d7d2a07e",
   "metadata": {},
   "outputs": [],
   "source": [
    "data[\"region\"].value_counts(normalize=True).plot(kind=\"bar\",xlabel=\"region\", ylabel=\"%\",\n",
    "                                                 title=\"Bar graph for percentage of customer by region\");"
   ]
  },
  {
   "cell_type": "markdown",
   "id": "9de9cb62",
   "metadata": {},
   "source": [
    "### Observation\n",
    "* Mandalore , Droidika,Eclipsara,Celestial and Stellaris are the region with the highest number of customers.\n",
    "* About 594091 of the customers are not indicated as to which region they fall."
   ]
  },
  {
   "cell_type": "code",
   "execution_count": null,
   "id": "17f19e44",
   "metadata": {},
   "outputs": [],
   "source": [
    "data[\"mrg\"].value_counts()"
   ]
  },
  {
   "cell_type": "markdown",
   "id": "366ee7d9",
   "metadata": {},
   "source": [
    "### Observation\n",
    "* \n",
    "*  "
   ]
  },
  {
   "cell_type": "markdown",
   "id": "8c957580",
   "metadata": {},
   "source": [
    "## Bivariate data analysis:"
   ]
  },
  {
   "cell_type": "markdown",
   "id": "a06d0f75",
   "metadata": {},
   "source": [
    "#### Categorical and Numerical data analysis"
   ]
  },
  {
   "cell_type": "code",
   "execution_count": null,
   "id": "9b4d51f3",
   "metadata": {},
   "outputs": [],
   "source": [
    "## Create a function to display boxplots for numerical and categorical dataset\n",
    "def box_plot(data,item_1,categorical_item):\n",
    "    plt.figure(figsize=(15,7))                       # Increase the size of the plot\n",
    "    sns.boxplot(data=data,x = item_1, y = categorical_item, palette = \"Paired_r\") \n",
    "    plt.title(f\"The boxplot for {item_1} relative to {categorical_item}\")\n",
    "    plt.xlabel(item_1)\n",
    "    plt.ylabel(categorical_item)\n",
    "    plt.show()"
   ]
  },
  {
   "cell_type": "code",
   "execution_count": null,
   "id": "3a844957",
   "metadata": {},
   "outputs": [],
   "source": [
    "# Boxplot for revenue relative to region \n",
    "box_plot(data,\"revenue\",\"region\")"
   ]
  },
  {
   "cell_type": "markdown",
   "id": "96a9c194",
   "metadata": {},
   "source": [
    "### Observation:\n"
   ]
  },
  {
   "cell_type": "code",
   "execution_count": null,
   "id": "cc0aa499",
   "metadata": {},
   "outputs": [],
   "source": [
    "# Boxplot for refill frequency by region\n",
    "box_plot(data,\"refill_frequency\",\"region\")"
   ]
  },
  {
   "cell_type": "markdown",
   "id": "a103bc47",
   "metadata": {},
   "source": [
    "### Observation:\n",
    "The monthly income data relative to gender is skewed to the right with outliers on the right side of the whisker. <br>\n",
    "However the average monthly income for females is higher than those of the males.<br>\n",
    "75% of the females employees earn a monthly income of roughly 8750 dollar and above, which is higher than that of males.<br>\n",
    "These means that females employees in the organisation earns more than males"
   ]
  },
  {
   "cell_type": "code",
   "execution_count": null,
   "id": "e355c608",
   "metadata": {},
   "outputs": [],
   "source": [
    "# Boxplot for Amount by region\n",
    "box_plot(data,\"Amount\",\"region\")"
   ]
  },
  {
   "cell_type": "code",
   "execution_count": null,
   "id": "cf96d644",
   "metadata": {},
   "outputs": [],
   "source": [
    "# Boxplot for frequency by region\n",
    "box_plot(data,\"frequency\",\"region\")"
   ]
  },
  {
   "cell_type": "code",
   "execution_count": null,
   "id": "96da50af",
   "metadata": {},
   "outputs": [],
   "source": [
    "# Boxplot for data volumne by region\n",
    "box_plot(data,\"data_volume\",\"region\")"
   ]
  },
  {
   "cell_type": "code",
   "execution_count": null,
   "id": "b5477ee0",
   "metadata": {},
   "outputs": [],
   "source": [
    "# Boxplot for Age relative to country.\n",
    "box_plot(data,\"on_net\",\"region\")"
   ]
  },
  {
   "cell_type": "code",
   "execution_count": null,
   "id": "855dcd19",
   "metadata": {},
   "outputs": [],
   "source": [
    "numerical_columns"
   ]
  },
  {
   "cell_type": "code",
   "execution_count": null,
   "id": "8e360585",
   "metadata": {},
   "outputs": [],
   "source": [
    "# Boxplot for Age relative to relationship.\n",
    "box_plot(data,'Procuct_1',\"region\")"
   ]
  },
  {
   "cell_type": "code",
   "execution_count": null,
   "id": "0a180579",
   "metadata": {},
   "outputs": [],
   "source": [
    "# Boxplot for Age relative to cellphone access.\n",
    "box_plot(data,'Procuct_2',\"region\")"
   ]
  },
  {
   "cell_type": "code",
   "execution_count": null,
   "id": "d65f6aa6",
   "metadata": {},
   "outputs": [],
   "source": [
    "# Boxplot for Age relative to Education level.\n",
    "box_plot(data,\"regularity\",\"region\")"
   ]
  },
  {
   "cell_type": "code",
   "execution_count": null,
   "id": "663b7226",
   "metadata": {},
   "outputs": [],
   "source": [
    "# Boxplot for size relative to bank account.\n",
    "box_plot(data,\"freq_top_pack\",\"region\")"
   ]
  },
  {
   "cell_type": "code",
   "execution_count": null,
   "id": "cc31ddc9",
   "metadata": {},
   "outputs": [],
   "source": [
    "# Code to print the boxplot for numerical columns relative to categorical data\n",
    "for variable in numerical_columns:\n",
    "    box_plot(data,variable,categorical_data[0])"
   ]
  },
  {
   "cell_type": "markdown",
   "id": "baa23ae3",
   "metadata": {},
   "source": [
    "### Categorical data analysis only"
   ]
  },
  {
   "cell_type": "code",
   "execution_count": null,
   "id": "bf33978d",
   "metadata": {},
   "outputs": [],
   "source": [
    "## Create a function to display a countplot for bivariate categorical columns relatives to churn data\n",
    "def bivariate_plot(data,item_1,item_2,color):\n",
    "    plt.figure(figsize=(10,7))\n",
    "    sns.countplot(x=item_1,data=data,palette=color,hue=item_2)\n",
    "    plt.ylabel(\"frequency\")\n",
    "    plt.xticks(rotation=90)\n",
    "    plt.show()"
   ]
  },
  {
   "cell_type": "code",
   "execution_count": null,
   "id": "a79334ed",
   "metadata": {},
   "outputs": [],
   "source": [
    "bivariate_plot(data,\"region\",\"Target\",color='CMRmap')"
   ]
  },
  {
   "cell_type": "code",
   "execution_count": null,
   "id": "edd2be22",
   "metadata": {
    "scrolled": true
   },
   "outputs": [],
   "source": [
    "data.groupby(\"Target\")[\"region\"].value_counts(normalize=True,ascending=False).plot(kind=\"bar\");"
   ]
  },
  {
   "cell_type": "markdown",
   "id": "418b6edc",
   "metadata": {},
   "source": [
    "### Numerical data"
   ]
  },
  {
   "cell_type": "code",
   "execution_count": null,
   "id": "6ab2997c",
   "metadata": {},
   "outputs": [],
   "source": [
    "## Construct a correlation matrix\n",
    "plt.figure(figsize=(15, 7))\n",
    "sns.heatmap(data.corr(), annot=True, vmin=-1, vmax=1, fmt=\".2f\", cmap=\"Spectral\")\n",
    "plt.show()"
   ]
  },
  {
   "cell_type": "markdown",
   "id": "76527c9e",
   "metadata": {},
   "source": [
    "## Observation:\n",
    "* Most  of the independent variables are correlated to each other, except for few variables. <br>\n",
    "* The revenue and arpu-segment exhibit a perfectly strong positive correlation. <br>\n",
    "* The revenue is determined by using the arpu-segment amount multiplied by the number of months and this is the result of a high correlation between the two independent variables. <br>\n",
    "* There is also a  very strong positive correlation between frequency and refill_frequency. <br>\n",
    "* The amount,refill-freqency,revenue,arpu-segment,frequency,product-1 and regularity shows a positive correlation with the freq-top-pack column. <br>\n",
    "* The amount column shows a very high correlation with the revenue,arpu-segment,refill-frequency and frequency. <br>\n",
    "* Majority of the independent variables shows a very weak negative correlation with the target variable. <br>\n",
    "* Due to high correlation between the independent variables, this is a sign of multicollinearity issue. <br>\n",
    "* Multicollinearity provide the model with misleading coefficients and need to be corrected using feature selection techniques. <br>"
   ]
  },
  {
   "cell_type": "code",
   "execution_count": 31,
   "id": "2e9dd452",
   "metadata": {},
   "outputs": [],
   "source": [
    "### Select columns that are highly correlated\n",
    "def correlation(data,cut_off):\n",
    "    col_corr = set()\n",
    "    corr_matrix = data.corr()\n",
    "    for i in range(len(corr_matrix.columns)):\n",
    "        for j in range(i):\n",
    "            if abs(corr_matrix.iloc[i,j])> cut_off:\n",
    "                colname = corr_matrix.columns[i]\n",
    "                col_corr.add(colname)\n",
    "    return col_corr"
   ]
  },
  {
   "cell_type": "code",
   "execution_count": 32,
   "id": "0d306342",
   "metadata": {},
   "outputs": [
    {
     "name": "stdout",
     "output_type": "stream",
     "text": [
      "{'arpu_segment', 'revenue', 'freq_top_pack', 'refill_frequency', 'frequency'}\n"
     ]
    }
   ],
   "source": [
    "### Now lets display the highly correlated columns\n",
    "feature = correlation(data,0.7)\n",
    "print(feature)"
   ]
  },
  {
   "cell_type": "code",
   "execution_count": null,
   "id": "03924ab6",
   "metadata": {},
   "outputs": [],
   "source": [
    "### Compute the correlation between the target and target min\n",
    "round(data[\"Target\"].corr(data[\"revenue\"]),3)"
   ]
  },
  {
   "cell_type": "code",
   "execution_count": null,
   "id": "d21e7351",
   "metadata": {},
   "outputs": [],
   "source": [
    "### Compute the correlation between the target and the arpu_segment\n",
    "round(data[\"Target\"].corr(data[\"arpu_segment\"]),3)"
   ]
  },
  {
   "cell_type": "code",
   "execution_count": null,
   "id": "2569754c",
   "metadata": {},
   "outputs": [],
   "source": [
    "### Compute the correlation between the target and the frequency\n",
    "round(data[\"Target\"].corr(data[\"frequency\"]),3)"
   ]
  },
  {
   "cell_type": "code",
   "execution_count": null,
   "id": "cab3af6b",
   "metadata": {},
   "outputs": [],
   "source": [
    "### Compute the correlation between the target and the refill-frequency\n",
    "round(data[\"Target\"].corr(data[\"refill_frequency\"]),3)"
   ]
  },
  {
   "cell_type": "code",
   "execution_count": null,
   "id": "d42849a0",
   "metadata": {},
   "outputs": [],
   "source": [
    "## Compute the correlation between the target and the refill-frequency\n",
    "round(data[\"Target\"].corr(data['freq_top_pack']),3)"
   ]
  },
  {
   "cell_type": "code",
   "execution_count": 33,
   "id": "231491f7",
   "metadata": {},
   "outputs": [],
   "source": [
    "### Now drop one of the columns that are highly correlated. \n",
    "### Here we will drop the  frequency and revenue columns\n",
    "data = data.drop(columns=['refill_frequency','revenue','freq_top_pack'],axis=1)"
   ]
  },
  {
   "cell_type": "code",
   "execution_count": 34,
   "id": "00a55d4d",
   "metadata": {},
   "outputs": [],
   "source": [
    "### Lets drop the column in the testing dataset\n",
    "test_data = test_data.drop(columns=['refill_frequency','revenue','freq_top_pack'],axis=1)"
   ]
  },
  {
   "cell_type": "code",
   "execution_count": 35,
   "id": "0da5675b",
   "metadata": {},
   "outputs": [
    {
     "data": {
      "text/plain": [
       "(1062727, 15)"
      ]
     },
     "execution_count": 35,
     "metadata": {},
     "output_type": "execute_result"
    }
   ],
   "source": [
    "data.shape"
   ]
  },
  {
   "cell_type": "code",
   "execution_count": 36,
   "id": "e4269bba",
   "metadata": {},
   "outputs": [
    {
     "data": {
      "image/png": "[encoded data removed]",
      "text/plain": [
       "<Figure size 1500x700 with 2 Axes>"
      ]
     },
     "metadata": {},
     "output_type": "display_data"
    }
   ],
   "source": [
    "## Now construct a correlation matrix to recheck for highly correlated columns\n",
    "plt.figure(figsize=(15, 7))\n",
    "sns.heatmap(data.corr(), annot=True, vmin=-1, vmax=1, fmt=\".2f\", cmap=\"Spectral\")\n",
    "plt.show()"
   ]
  },
  {
   "cell_type": "code",
   "execution_count": null,
   "id": "a4c936dd",
   "metadata": {},
   "outputs": [],
   "source": [
    "## Compute the correlation between the target and the refill-frequency\n",
    "round(data[\"Target\"].corr(data[\"Amount\"]),3)"
   ]
  },
  {
   "cell_type": "code",
   "execution_count": null,
   "id": "cfb9cb75",
   "metadata": {},
   "outputs": [],
   "source": [
    "### Observation\n",
    "### Now lets display the highly correlated columns\n",
    "feature1 = correlation(data,0.7)\n",
    "print(feature1)"
   ]
  },
  {
   "cell_type": "code",
   "execution_count": 36,
   "id": "24bc4b09",
   "metadata": {},
   "outputs": [],
   "source": [
    "### Drop the arpu_segment columns\n",
    "data = data.drop(columns=['Amount'],axis=1)"
   ]
  },
  {
   "cell_type": "markdown",
   "id": "17d00067",
   "metadata": {},
   "source": [
    "## Data preprocessing"
   ]
  },
  {
   "cell_type": "markdown",
   "id": "e232dd3f",
   "metadata": {},
   "source": [
    "### Feature engineering"
   ]
  },
  {
   "cell_type": "markdown",
   "id": "8f4e9cf6",
   "metadata": {},
   "source": [
    "### Dealing with missing Values"
   ]
  },
  {
   "cell_type": "code",
   "execution_count": null,
   "id": "72e495df",
   "metadata": {},
   "outputs": [],
   "source": [
    "## We need to drop columns with missing values greater than 50% in training dataset"
   ]
  },
  {
   "cell_type": "code",
   "execution_count": 37,
   "id": "f57a1f35",
   "metadata": {},
   "outputs": [
    {
     "name": "stdout",
     "output_type": "stream",
     "text": [
      "['zone1', 'zone2']\n"
     ]
    }
   ],
   "source": [
    "## Code to print the columns with missing values greater than 50%\n",
    "col_feature=[] # create an empty list\n",
    "for item in data.columns:\n",
    "    if ((data[item].isnull().sum()/data.shape[0])>0.50):\n",
    "        col_feature.append(item)  # append the columns with missing values greater than 50% in the list\n",
    "print(col_feature) "
   ]
  },
  {
   "cell_type": "code",
   "execution_count": 38,
   "id": "ab415cea",
   "metadata": {},
   "outputs": [],
   "source": [
    "## Now lets drop those columns with missing values above 50% in training dataset\n",
    "data = data.drop(columns=col_feature,axis=1)"
   ]
  },
  {
   "cell_type": "code",
   "execution_count": 39,
   "id": "b9e9bd2c",
   "metadata": {},
   "outputs": [
    {
     "name": "stdout",
     "output_type": "stream",
     "text": [
      "<class 'pandas.core.frame.DataFrame'>\n",
      "Int64Index: 1062727 entries, 0 to 1507831\n",
      "Data columns (total 12 columns):\n",
      " #   Column        Non-Null Count    Dtype  \n",
      "---  ------        --------------    -----  \n",
      " 0   region        818748 non-null   object \n",
      " 1   tenure        1062727 non-null  int64  \n",
      " 2   arpu_segment  988315 non-null   float64\n",
      " 3   frequency     988315 non-null   float64\n",
      " 4   data_volume   717101 non-null   float64\n",
      " 5   on_net        926196 non-null   float64\n",
      " 6   Procuct_1     879299 non-null   float64\n",
      " 7   Procuct_2     604572 non-null   float64\n",
      " 8   mrg           1062727 non-null  object \n",
      " 9   regularity    1062727 non-null  int64  \n",
      " 10  top_pack      875042 non-null   object \n",
      " 11  Target        1062727 non-null  int64  \n",
      "dtypes: float64(6), int64(3), object(3)\n",
      "memory usage: 105.4+ MB\n"
     ]
    }
   ],
   "source": [
    "data.info()"
   ]
  },
  {
   "cell_type": "code",
   "execution_count": 40,
   "id": "32dfaad9",
   "metadata": {},
   "outputs": [],
   "source": [
    "## Now drop the columns in the testing dataset\n",
    "test_data = test_data.drop(columns=col_feature,axis=1)"
   ]
  },
  {
   "cell_type": "code",
   "execution_count": 41,
   "id": "0c39fe4d",
   "metadata": {},
   "outputs": [
    {
     "name": "stdout",
     "output_type": "stream",
     "text": [
      "<class 'pandas.core.frame.DataFrame'>\n",
      "RangeIndex: 380127 entries, 0 to 380126\n",
      "Data columns (total 13 columns):\n",
      " #   Column        Non-Null Count   Dtype  \n",
      "---  ------        --------------   -----  \n",
      " 0   ID            380127 non-null  object \n",
      " 1   region        230399 non-null  object \n",
      " 2   tenure        380127 non-null  int64  \n",
      " 3   Amount        247072 non-null  float64\n",
      " 4   arpu_segment  252754 non-null  float64\n",
      " 5   frequency     252754 non-null  float64\n",
      " 6   data_volume   193087 non-null  float64\n",
      " 7   on_net        241613 non-null  float64\n",
      " 8   Procuct_1     222897 non-null  float64\n",
      " 9   Procuct_2     153126 non-null  float64\n",
      " 10  mrg           380127 non-null  object \n",
      " 11  regularity    380127 non-null  int64  \n",
      " 12  top_pack      221348 non-null  object \n",
      "dtypes: float64(7), int64(2), object(4)\n",
      "memory usage: 37.7+ MB\n"
     ]
    }
   ],
   "source": [
    "test_data.info()"
   ]
  },
  {
   "cell_type": "code",
   "execution_count": 42,
   "id": "dbcb2d4a",
   "metadata": {},
   "outputs": [
    {
     "data": {
      "text/plain": [
       "ID              0.000\n",
       "region         39.000\n",
       "tenure          0.000\n",
       "Amount         35.000\n",
       "arpu_segment   34.000\n",
       "frequency      34.000\n",
       "data_volume    49.000\n",
       "on_net         36.000\n",
       "Procuct_1      41.000\n",
       "Procuct_2      60.000\n",
       "mrg             0.000\n",
       "regularity      0.000\n",
       "top_pack       42.000\n",
       "dtype: float64"
      ]
     },
     "execution_count": 42,
     "metadata": {},
     "output_type": "execute_result"
    }
   ],
   "source": [
    "round((test_data.isnull().sum()/ test_data.shape[0])*100,)"
   ]
  },
  {
   "cell_type": "code",
   "execution_count": 43,
   "id": "84fd664b",
   "metadata": {},
   "outputs": [],
   "source": [
    "### Now impute the numerical missing value columns\n",
    "## We will impute the median as its not affected by extreme values/outliers"
   ]
  },
  {
   "cell_type": "code",
   "execution_count": 44,
   "id": "296dd194",
   "metadata": {},
   "outputs": [],
   "source": [
    "### code to select the numerical columns in the training dataset\n",
    "train_cols = data.select_dtypes(\"number\").columns"
   ]
  },
  {
   "cell_type": "code",
   "execution_count": 45,
   "id": "87d98e62",
   "metadata": {},
   "outputs": [
    {
     "data": {
      "text/plain": [
       "Index(['tenure', 'arpu_segment', 'frequency', 'data_volume', 'on_net',\n",
       "       'Procuct_1', 'Procuct_2', 'regularity', 'Target'],\n",
       "      dtype='object')"
      ]
     },
     "execution_count": 45,
     "metadata": {},
     "output_type": "execute_result"
    }
   ],
   "source": [
    "train_cols"
   ]
  },
  {
   "cell_type": "code",
   "execution_count": 46,
   "id": "6aa54a26",
   "metadata": {},
   "outputs": [],
   "source": [
    "# To impute missing values\n",
    "from sklearn.impute import SimpleImputer"
   ]
  },
  {
   "cell_type": "code",
   "execution_count": 47,
   "id": "cd5bda34",
   "metadata": {},
   "outputs": [
    {
     "name": "stdout",
     "output_type": "stream",
     "text": [
      "The running time:4.668385982513428\n"
     ]
    }
   ],
   "source": [
    "## Instantiate the simple imputer \n",
    "median_imputer = SimpleImputer(missing_values=np.nan,strategy=\"median\")\n",
    "## Fit and transform the numerical columns in the training dataset\n",
    "import time\n",
    "startScript = time.time()\n",
    "data[train_cols] = median_imputer.fit_transform(data[train_cols])\n",
    "endScript = time.time()\n",
    "display = endScript-startScript   # code to calculate the running time \n",
    "print(f\"The running time:{display}\")"
   ]
  },
  {
   "cell_type": "code",
   "execution_count": 48,
   "id": "8f640255",
   "metadata": {},
   "outputs": [
    {
     "data": {
      "text/plain": [
       "0"
      ]
     },
     "execution_count": 48,
     "metadata": {},
     "output_type": "execute_result"
    }
   ],
   "source": [
    "data[train_cols].isnull().sum().sum()"
   ]
  },
  {
   "cell_type": "code",
   "execution_count": 49,
   "id": "0ab8ecc5",
   "metadata": {},
   "outputs": [],
   "source": [
    "### Imputation for categorical columns in the training dataset\n",
    "## Select categorical columns and perform imputation\n",
    "categorical_train_cols=data.select_dtypes(\"object\").columns"
   ]
  },
  {
   "cell_type": "code",
   "execution_count": 50,
   "id": "e66427e9",
   "metadata": {},
   "outputs": [
    {
     "data": {
      "text/plain": [
       "array([0., 1.])"
      ]
     },
     "execution_count": 50,
     "metadata": {},
     "output_type": "execute_result"
    }
   ],
   "source": [
    "data[\"Target\"].unique()"
   ]
  },
  {
   "cell_type": "code",
   "execution_count": 51,
   "id": "4c66d2a3",
   "metadata": {},
   "outputs": [
    {
     "data": {
      "text/plain": [
       "Index(['region', 'mrg', 'top_pack'], dtype='object')"
      ]
     },
     "execution_count": 51,
     "metadata": {},
     "output_type": "execute_result"
    }
   ],
   "source": [
    "categorical_train_cols"
   ]
  },
  {
   "cell_type": "code",
   "execution_count": 52,
   "id": "63929864",
   "metadata": {},
   "outputs": [
    {
     "name": "stdout",
     "output_type": "stream",
     "text": [
      "The running time:1.3812777996063232\n"
     ]
    }
   ],
   "source": [
    "## Instantiate the simple imputer \n",
    "mode_imputer = SimpleImputer(missing_values=np.nan,strategy='most_frequent')\n",
    "## Fit and transform the numerical columns in the training dataset\n",
    "import time\n",
    "startScript = time.time()\n",
    "data[categorical_train_cols] = mode_imputer.fit_transform(data[categorical_train_cols])\n",
    "endScript = time.time()\n",
    "display = endScript-startScript   # code to calculate the running time \n",
    "print(f\"The running time:{display}\")"
   ]
  },
  {
   "cell_type": "code",
   "execution_count": 53,
   "id": "4ed059b3",
   "metadata": {},
   "outputs": [
    {
     "data": {
      "text/plain": [
       "0"
      ]
     },
     "execution_count": 53,
     "metadata": {},
     "output_type": "execute_result"
    }
   ],
   "source": [
    "data[categorical_train_cols].isnull().sum().sum()"
   ]
  },
  {
   "cell_type": "markdown",
   "id": "5f1ff1a5",
   "metadata": {},
   "source": [
    "#### Now do the same for the testing dataset"
   ]
  },
  {
   "cell_type": "code",
   "execution_count": 54,
   "id": "1d352be8",
   "metadata": {},
   "outputs": [],
   "source": [
    "### Code to select the numerical columns in the testing dataset\n",
    "test_cols = test_data.select_dtypes(\"number\").columns"
   ]
  },
  {
   "cell_type": "code",
   "execution_count": 55,
   "id": "75f79fb5",
   "metadata": {},
   "outputs": [
    {
     "name": "stdout",
     "output_type": "stream",
     "text": [
      "The running time:1.0958945751190186\n"
     ]
    }
   ],
   "source": [
    "## Instantiate the simple imputer \n",
    "median_imputer = SimpleImputer(missing_values=np.nan,strategy=\"median\")\n",
    "## Fit and transform the numerical columns in the training dataset\n",
    "import time\n",
    "startScript = time.time()\n",
    "test_data[test_cols] = median_imputer.fit_transform(test_data[test_cols])\n",
    "endScript = time.time()\n",
    "display = endScript-startScript   # code to calculate the running time \n",
    "print(f\"The running time:{display}\")"
   ]
  },
  {
   "cell_type": "code",
   "execution_count": 56,
   "id": "7268e58d",
   "metadata": {},
   "outputs": [
    {
     "data": {
      "text/plain": [
       "0"
      ]
     },
     "execution_count": 56,
     "metadata": {},
     "output_type": "execute_result"
    }
   ],
   "source": [
    "### Now check for the present of missing values\n",
    "test_data[test_cols].isnull().sum().sum()"
   ]
  },
  {
   "cell_type": "code",
   "execution_count": 57,
   "id": "3836daec",
   "metadata": {},
   "outputs": [],
   "source": [
    "### Imputation for categorical columns\n",
    "## Select categorical columns in the testing dataset and perform imputation\n",
    "categorical_test_cols=test_data.select_dtypes(\"object\").columns"
   ]
  },
  {
   "cell_type": "code",
   "execution_count": 58,
   "id": "715cb99b",
   "metadata": {},
   "outputs": [
    {
     "data": {
      "text/plain": [
       "Index(['ID', 'region', 'mrg', 'top_pack'], dtype='object')"
      ]
     },
     "execution_count": 58,
     "metadata": {},
     "output_type": "execute_result"
    }
   ],
   "source": [
    "categorical_test_cols"
   ]
  },
  {
   "cell_type": "code",
   "execution_count": 59,
   "id": "f7fc0e83",
   "metadata": {},
   "outputs": [
    {
     "name": "stdout",
     "output_type": "stream",
     "text": [
      "The running time:0.9523935317993164\n"
     ]
    }
   ],
   "source": [
    "## Instantiate the simple imputer \n",
    "mode_imputer = SimpleImputer(missing_values=np.nan,strategy='most_frequent')\n",
    "## Fit and transform the numerical columns in the training dataset\n",
    "import time\n",
    "startScript = time.time()\n",
    "test_data[categorical_test_cols] = mode_imputer.fit_transform(test_data[categorical_test_cols])\n",
    "endScript = time.time()\n",
    "display = endScript-startScript   # code to calculate the running time \n",
    "print(f\"The running time:{display}\")"
   ]
  },
  {
   "cell_type": "code",
   "execution_count": 60,
   "id": "b21f10d0",
   "metadata": {},
   "outputs": [
    {
     "data": {
      "text/plain": [
       "0"
      ]
     },
     "execution_count": 60,
     "metadata": {},
     "output_type": "execute_result"
    }
   ],
   "source": [
    "test_data[categorical_test_cols].isnull().sum().sum()"
   ]
  },
  {
   "cell_type": "code",
   "execution_count": 61,
   "id": "a4160382",
   "metadata": {},
   "outputs": [
    {
     "data": {
      "text/html": [
       "<div>\n",
       "<style scoped>\n",
       "    .dataframe tbody tr th:only-of-type {\n",
       "        vertical-align: middle;\n",
       "    }\n",
       "\n",
       "    .dataframe tbody tr th {\n",
       "        vertical-align: top;\n",
       "    }\n",
       "\n",
       "    .dataframe thead th {\n",
       "        text-align: right;\n",
       "    }\n",
       "</style>\n",
       "<table border=\"1\" class=\"dataframe\">\n",
       "  <thead>\n",
       "    <tr style=\"text-align: right;\">\n",
       "      <th></th>\n",
       "      <th>ID</th>\n",
       "      <th>region</th>\n",
       "      <th>tenure</th>\n",
       "      <th>Amount</th>\n",
       "      <th>arpu_segment</th>\n",
       "      <th>frequency</th>\n",
       "      <th>data_volume</th>\n",
       "      <th>on_net</th>\n",
       "      <th>Procuct_1</th>\n",
       "      <th>Procuct_2</th>\n",
       "      <th>mrg</th>\n",
       "      <th>regularity</th>\n",
       "      <th>top_pack</th>\n",
       "    </tr>\n",
       "  </thead>\n",
       "  <tbody>\n",
       "    <tr>\n",
       "      <th>0</th>\n",
       "      <td>ID_LZ8K373W7EWV</td>\n",
       "      <td>Droidika</td>\n",
       "      <td>8.000</td>\n",
       "      <td>2008.550</td>\n",
       "      <td>670.090</td>\n",
       "      <td>17.000</td>\n",
       "      <td>10.000</td>\n",
       "      <td>247.000</td>\n",
       "      <td>17.000</td>\n",
       "      <td>70.000</td>\n",
       "      <td>NO</td>\n",
       "      <td>59.000</td>\n",
       "      <td>On net 200F=Unlimited _call24H</td>\n",
       "    </tr>\n",
       "    <tr>\n",
       "      <th>1</th>\n",
       "      <td>ID_04KNWHGV5783</td>\n",
       "      <td>Luminous</td>\n",
       "      <td>8.000</td>\n",
       "      <td>2991.450</td>\n",
       "      <td>997.010</td>\n",
       "      <td>17.000</td>\n",
       "      <td>259.000</td>\n",
       "      <td>99.000</td>\n",
       "      <td>100.000</td>\n",
       "      <td>84.000</td>\n",
       "      <td>NO</td>\n",
       "      <td>49.000</td>\n",
       "      <td>All-net 500F=2000F;5d</td>\n",
       "    </tr>\n",
       "    <tr>\n",
       "      <th>2</th>\n",
       "      <td>ID_CXS07G6VLB2U</td>\n",
       "      <td>Astral</td>\n",
       "      <td>8.000</td>\n",
       "      <td>1581.200</td>\n",
       "      <td>526.070</td>\n",
       "      <td>8.000</td>\n",
       "      <td>436.000</td>\n",
       "      <td>47.000</td>\n",
       "      <td>113.000</td>\n",
       "      <td>5.000</td>\n",
       "      <td>NO</td>\n",
       "      <td>13.000</td>\n",
       "      <td>Jokko_Daily</td>\n",
       "    </tr>\n",
       "    <tr>\n",
       "      <th>3</th>\n",
       "      <td>ID_N3NFJJVHS25K</td>\n",
       "      <td>Eclipsara</td>\n",
       "      <td>8.000</td>\n",
       "      <td>2564.100</td>\n",
       "      <td>926.070</td>\n",
       "      <td>13.000</td>\n",
       "      <td>0.000</td>\n",
       "      <td>135.000</td>\n",
       "      <td>181.000</td>\n",
       "      <td>6.000</td>\n",
       "      <td>NO</td>\n",
       "      <td>53.000</td>\n",
       "      <td>All-net 500F=2000F;5d</td>\n",
       "    </tr>\n",
       "    <tr>\n",
       "      <th>4</th>\n",
       "      <td>ID_R36J4ROT93E9</td>\n",
       "      <td>Mandalore</td>\n",
       "      <td>8.000</td>\n",
       "      <td>1282.050</td>\n",
       "      <td>427.350</td>\n",
       "      <td>9.000</td>\n",
       "      <td>259.000</td>\n",
       "      <td>27.000</td>\n",
       "      <td>29.000</td>\n",
       "      <td>6.000</td>\n",
       "      <td>NO</td>\n",
       "      <td>1.000</td>\n",
       "      <td>All-net 500F=2000F;5d</td>\n",
       "    </tr>\n",
       "  </tbody>\n",
       "</table>\n",
       "</div>"
      ],
      "text/plain": [
       "                ID     region  tenure   Amount  arpu_segment  frequency  \\\n",
       "0  ID_LZ8K373W7EWV   Droidika   8.000 2008.550       670.090     17.000   \n",
       "1  ID_04KNWHGV5783   Luminous   8.000 2991.450       997.010     17.000   \n",
       "2  ID_CXS07G6VLB2U     Astral   8.000 1581.200       526.070      8.000   \n",
       "3  ID_N3NFJJVHS25K  Eclipsara   8.000 2564.100       926.070     13.000   \n",
       "4  ID_R36J4ROT93E9  Mandalore   8.000 1282.050       427.350      9.000   \n",
       "\n",
       "   data_volume  on_net  Procuct_1  Procuct_2 mrg  regularity  \\\n",
       "0       10.000 247.000     17.000     70.000  NO      59.000   \n",
       "1      259.000  99.000    100.000     84.000  NO      49.000   \n",
       "2      436.000  47.000    113.000      5.000  NO      13.000   \n",
       "3        0.000 135.000    181.000      6.000  NO      53.000   \n",
       "4      259.000  27.000     29.000      6.000  NO       1.000   \n",
       "\n",
       "                         top_pack  \n",
       "0  On net 200F=Unlimited _call24H  \n",
       "1           All-net 500F=2000F;5d  \n",
       "2                     Jokko_Daily  \n",
       "3           All-net 500F=2000F;5d  \n",
       "4           All-net 500F=2000F;5d  "
      ]
     },
     "execution_count": 61,
     "metadata": {},
     "output_type": "execute_result"
    }
   ],
   "source": [
    "test_data.head()"
   ]
  },
  {
   "cell_type": "markdown",
   "id": "4f4a6a9b",
   "metadata": {},
   "source": [
    "#### OUTLIER DETECTION AND TREATMENT"
   ]
  },
  {
   "cell_type": "code",
   "execution_count": 62,
   "id": "912cdc91",
   "metadata": {},
   "outputs": [],
   "source": [
    "numerical_columns1= data.select_dtypes(\"number\").columns"
   ]
  },
  {
   "cell_type": "code",
   "execution_count": 63,
   "id": "f9013f67",
   "metadata": {},
   "outputs": [
    {
     "data": {
      "text/plain": [
       "Index(['tenure', 'arpu_segment', 'frequency', 'data_volume', 'on_net',\n",
       "       'Procuct_1', 'Procuct_2', 'regularity', 'Target'],\n",
       "      dtype='object')"
      ]
     },
     "execution_count": 63,
     "metadata": {},
     "output_type": "execute_result"
    }
   ],
   "source": [
    "numerical_columns1"
   ]
  },
  {
   "cell_type": "code",
   "execution_count": 64,
   "id": "d2c34305",
   "metadata": {},
   "outputs": [],
   "source": [
    "num_col = ['tenure', 'frequency', 'data_volume', 'on_net',\n",
    "       'Procuct_1', 'Procuct_2', 'regularity']\n",
    "    "
   ]
  },
  {
   "cell_type": "code",
   "execution_count": 65,
   "id": "4633a357",
   "metadata": {},
   "outputs": [
    {
     "data": {
      "image/png": "[encoded data removed]",
      "text/plain": [
       "<Figure size 1500x1200 with 7 Axes>"
      ]
     },
     "metadata": {},
     "output_type": "display_data"
    }
   ],
   "source": [
    "plt.figure(figsize=(15, 12))\n",
    "for i, variable in enumerate(num_col):\n",
    "    plt.subplot(4,7, i + 1)\n",
    "    plt.boxplot(data[variable], whis=1.5)\n",
    "    plt.tight_layout()\n",
    "    plt.title(variable)\n",
    "plt.show()"
   ]
  },
  {
   "cell_type": "markdown",
   "id": "21a6542a",
   "metadata": {},
   "source": [
    "### Treatment of Outliers\n",
    "* 85%  of the numerical columns have outliers on the upper fence of the whiskers\n",
    "* We need to trim the data above the upper fence of the box and whisker diagram."
   ]
  },
  {
   "cell_type": "code",
   "execution_count": 66,
   "id": "f8e5070d",
   "metadata": {},
   "outputs": [],
   "source": [
    "### Create a function to identify outliers\n",
    "def outliers(df,item):\n",
    "    Q1 = df[item].quantile(0.25)\n",
    "    Q3 = df[item].quantile(0.75)\n",
    "    IQR = Q3-Q1\n",
    "    Lower_fence = Q1-1.5*IQR\n",
    "    Upper_fence = Q3+1.5*IQR\n",
    "    outlier_list = df.index[(df[item]<Lower_fence)|(df[item]>Upper_fence)]\n",
    "    return outlier_list"
   ]
  },
  {
   "cell_type": "code",
   "execution_count": 67,
   "id": "a7d2da16",
   "metadata": {},
   "outputs": [],
   "source": [
    "train_cols1=['tenure', 'frequency', 'data_volume', 'on_net',\n",
    "       'Procuct_1', 'Procuct_2', 'regularity']"
   ]
  },
  {
   "cell_type": "code",
   "execution_count": 68,
   "id": "96f418d5",
   "metadata": {},
   "outputs": [],
   "source": [
    "### Now create an list to store the outliers\n",
    "index_list = []   # create an empty list\n",
    "for feature in train_cols1:\n",
    "    ls=outliers(data,feature)\n",
    "    index_list.extend(ls)"
   ]
  },
  {
   "cell_type": "code",
   "execution_count": 69,
   "id": "3f11fb0f",
   "metadata": {},
   "outputs": [],
   "source": [
    "### Now define a function to remove the outliers\n",
    "def remove(df,outlier_list):\n",
    "    outlier_list = sorted(set(outlier_list))\n",
    "    df = df.drop(outlier_list)\n",
    "    return df"
   ]
  },
  {
   "cell_type": "code",
   "execution_count": 70,
   "id": "3f2515ba",
   "metadata": {},
   "outputs": [],
   "source": [
    "## Code to produce the clean data in the training set\n",
    "data_clean = remove(data,index_list)"
   ]
  },
  {
   "cell_type": "code",
   "execution_count": 71,
   "id": "f93e78f5",
   "metadata": {},
   "outputs": [
    {
     "data": {
      "text/html": [
       "<div>\n",
       "<style scoped>\n",
       "    .dataframe tbody tr th:only-of-type {\n",
       "        vertical-align: middle;\n",
       "    }\n",
       "\n",
       "    .dataframe tbody tr th {\n",
       "        vertical-align: top;\n",
       "    }\n",
       "\n",
       "    .dataframe thead th {\n",
       "        text-align: right;\n",
       "    }\n",
       "</style>\n",
       "<table border=\"1\" class=\"dataframe\">\n",
       "  <thead>\n",
       "    <tr style=\"text-align: right;\">\n",
       "      <th></th>\n",
       "      <th>region</th>\n",
       "      <th>tenure</th>\n",
       "      <th>arpu_segment</th>\n",
       "      <th>frequency</th>\n",
       "      <th>data_volume</th>\n",
       "      <th>on_net</th>\n",
       "      <th>Procuct_1</th>\n",
       "      <th>Procuct_2</th>\n",
       "      <th>mrg</th>\n",
       "      <th>regularity</th>\n",
       "      <th>top_pack</th>\n",
       "      <th>Target</th>\n",
       "    </tr>\n",
       "  </thead>\n",
       "  <tbody>\n",
       "    <tr>\n",
       "      <th>0</th>\n",
       "      <td>Mandalore</td>\n",
       "      <td>8.000</td>\n",
       "      <td>428.630</td>\n",
       "      <td>9.000</td>\n",
       "      <td>386.000</td>\n",
       "      <td>30.000</td>\n",
       "      <td>29.000</td>\n",
       "      <td>6.000</td>\n",
       "      <td>NO</td>\n",
       "      <td>3.000</td>\n",
       "      <td>All-net 500F=2000F;5d</td>\n",
       "      <td>0.000</td>\n",
       "    </tr>\n",
       "    <tr>\n",
       "      <th>3</th>\n",
       "      <td>Mandalore</td>\n",
       "      <td>8.000</td>\n",
       "      <td>428.630</td>\n",
       "      <td>9.000</td>\n",
       "      <td>386.000</td>\n",
       "      <td>30.000</td>\n",
       "      <td>29.000</td>\n",
       "      <td>6.000</td>\n",
       "      <td>NO</td>\n",
       "      <td>6.000</td>\n",
       "      <td>All-net 500F=2000F;5d</td>\n",
       "      <td>0.000</td>\n",
       "    </tr>\n",
       "    <tr>\n",
       "      <th>5</th>\n",
       "      <td>Celestial</td>\n",
       "      <td>8.000</td>\n",
       "      <td>14.100</td>\n",
       "      <td>2.000</td>\n",
       "      <td>4.000</td>\n",
       "      <td>3.000</td>\n",
       "      <td>29.000</td>\n",
       "      <td>6.000</td>\n",
       "      <td>NO</td>\n",
       "      <td>44.000</td>\n",
       "      <td>All-net 500F=2000F;5d</td>\n",
       "      <td>0.000</td>\n",
       "    </tr>\n",
       "    <tr>\n",
       "      <th>6</th>\n",
       "      <td>Mandalore</td>\n",
       "      <td>8.000</td>\n",
       "      <td>428.630</td>\n",
       "      <td>9.000</td>\n",
       "      <td>386.000</td>\n",
       "      <td>30.000</td>\n",
       "      <td>29.000</td>\n",
       "      <td>6.000</td>\n",
       "      <td>NO</td>\n",
       "      <td>7.000</td>\n",
       "      <td>All-net 500F=2000F;5d</td>\n",
       "      <td>0.000</td>\n",
       "    </tr>\n",
       "    <tr>\n",
       "      <th>7</th>\n",
       "      <td>Eclipsara</td>\n",
       "      <td>8.000</td>\n",
       "      <td>926.070</td>\n",
       "      <td>13.000</td>\n",
       "      <td>386.000</td>\n",
       "      <td>96.000</td>\n",
       "      <td>96.000</td>\n",
       "      <td>1.000</td>\n",
       "      <td>NO</td>\n",
       "      <td>59.000</td>\n",
       "      <td>All-net 500F =2000F_AllNet_Unlimited</td>\n",
       "      <td>0.000</td>\n",
       "    </tr>\n",
       "  </tbody>\n",
       "</table>\n",
       "</div>"
      ],
      "text/plain": [
       "      region  tenure  arpu_segment  frequency  data_volume  on_net  Procuct_1  \\\n",
       "0  Mandalore   8.000       428.630      9.000      386.000  30.000     29.000   \n",
       "3  Mandalore   8.000       428.630      9.000      386.000  30.000     29.000   \n",
       "5  Celestial   8.000        14.100      2.000        4.000   3.000     29.000   \n",
       "6  Mandalore   8.000       428.630      9.000      386.000  30.000     29.000   \n",
       "7  Eclipsara   8.000       926.070     13.000      386.000  96.000     96.000   \n",
       "\n",
       "   Procuct_2 mrg  regularity                              top_pack  Target  \n",
       "0      6.000  NO       3.000                 All-net 500F=2000F;5d   0.000  \n",
       "3      6.000  NO       6.000                 All-net 500F=2000F;5d   0.000  \n",
       "5      6.000  NO      44.000                 All-net 500F=2000F;5d   0.000  \n",
       "6      6.000  NO       7.000                 All-net 500F=2000F;5d   0.000  \n",
       "7      1.000  NO      59.000  All-net 500F =2000F_AllNet_Unlimited   0.000  "
      ]
     },
     "execution_count": 71,
     "metadata": {},
     "output_type": "execute_result"
    }
   ],
   "source": [
    "### Now reset the index of the dataset\n",
    "data_clean.head()"
   ]
  },
  {
   "cell_type": "code",
   "execution_count": 72,
   "id": "d54bb39b",
   "metadata": {},
   "outputs": [],
   "source": [
    "### sort the index of the cleaned dataset\n",
    "data_clean = data_clean.sort_index()"
   ]
  },
  {
   "cell_type": "code",
   "execution_count": 73,
   "id": "9c6d6b9a",
   "metadata": {},
   "outputs": [
    {
     "data": {
      "text/plain": [
       "(539068, 12)"
      ]
     },
     "execution_count": 73,
     "metadata": {},
     "output_type": "execute_result"
    }
   ],
   "source": [
    "data_clean.shape"
   ]
  },
  {
   "cell_type": "code",
   "execution_count": 74,
   "id": "0af05fc7",
   "metadata": {},
   "outputs": [
    {
     "data": {
      "text/plain": [
       "array([0., 1.])"
      ]
     },
     "execution_count": 74,
     "metadata": {},
     "output_type": "execute_result"
    }
   ],
   "source": [
    "data_clean[\"Target\"].unique()"
   ]
  },
  {
   "cell_type": "code",
   "execution_count": 75,
   "id": "792183bb",
   "metadata": {},
   "outputs": [],
   "source": [
    "data_clean[\"Target\"] = data_clean[\"Target\"].astype(int)"
   ]
  },
  {
   "cell_type": "code",
   "execution_count": 76,
   "id": "542bb338",
   "metadata": {},
   "outputs": [
    {
     "name": "stdout",
     "output_type": "stream",
     "text": [
      "<class 'pandas.core.frame.DataFrame'>\n",
      "Int64Index: 539068 entries, 0 to 1507830\n",
      "Data columns (total 12 columns):\n",
      " #   Column        Non-Null Count   Dtype  \n",
      "---  ------        --------------   -----  \n",
      " 0   region        539068 non-null  object \n",
      " 1   tenure        539068 non-null  float64\n",
      " 2   arpu_segment  539068 non-null  float64\n",
      " 3   frequency     539068 non-null  float64\n",
      " 4   data_volume   539068 non-null  float64\n",
      " 5   on_net        539068 non-null  float64\n",
      " 6   Procuct_1     539068 non-null  float64\n",
      " 7   Procuct_2     539068 non-null  float64\n",
      " 8   mrg           539068 non-null  object \n",
      " 9   regularity    539068 non-null  float64\n",
      " 10  top_pack      539068 non-null  object \n",
      " 11  Target        539068 non-null  int32  \n",
      "dtypes: float64(8), int32(1), object(3)\n",
      "memory usage: 51.4+ MB\n"
     ]
    }
   ],
   "source": [
    "data_clean.info()"
   ]
  },
  {
   "cell_type": "code",
   "execution_count": 77,
   "id": "59df5e60",
   "metadata": {},
   "outputs": [
    {
     "data": {
      "text/html": [
       "<div>\n",
       "<style scoped>\n",
       "    .dataframe tbody tr th:only-of-type {\n",
       "        vertical-align: middle;\n",
       "    }\n",
       "\n",
       "    .dataframe tbody tr th {\n",
       "        vertical-align: top;\n",
       "    }\n",
       "\n",
       "    .dataframe thead th {\n",
       "        text-align: right;\n",
       "    }\n",
       "</style>\n",
       "<table border=\"1\" class=\"dataframe\">\n",
       "  <thead>\n",
       "    <tr style=\"text-align: right;\">\n",
       "      <th></th>\n",
       "      <th>region</th>\n",
       "      <th>tenure</th>\n",
       "      <th>arpu_segment</th>\n",
       "      <th>frequency</th>\n",
       "      <th>data_volume</th>\n",
       "      <th>on_net</th>\n",
       "      <th>Procuct_1</th>\n",
       "      <th>Procuct_2</th>\n",
       "      <th>mrg</th>\n",
       "      <th>regularity</th>\n",
       "      <th>top_pack</th>\n",
       "      <th>Target</th>\n",
       "    </tr>\n",
       "  </thead>\n",
       "  <tbody>\n",
       "    <tr>\n",
       "      <th>0</th>\n",
       "      <td>Mandalore</td>\n",
       "      <td>8.000</td>\n",
       "      <td>428.630</td>\n",
       "      <td>9.000</td>\n",
       "      <td>386.000</td>\n",
       "      <td>30.000</td>\n",
       "      <td>29.000</td>\n",
       "      <td>6.000</td>\n",
       "      <td>NO</td>\n",
       "      <td>3.000</td>\n",
       "      <td>All-net 500F=2000F;5d</td>\n",
       "      <td>0</td>\n",
       "    </tr>\n",
       "    <tr>\n",
       "      <th>3</th>\n",
       "      <td>Mandalore</td>\n",
       "      <td>8.000</td>\n",
       "      <td>428.630</td>\n",
       "      <td>9.000</td>\n",
       "      <td>386.000</td>\n",
       "      <td>30.000</td>\n",
       "      <td>29.000</td>\n",
       "      <td>6.000</td>\n",
       "      <td>NO</td>\n",
       "      <td>6.000</td>\n",
       "      <td>All-net 500F=2000F;5d</td>\n",
       "      <td>0</td>\n",
       "    </tr>\n",
       "    <tr>\n",
       "      <th>5</th>\n",
       "      <td>Celestial</td>\n",
       "      <td>8.000</td>\n",
       "      <td>14.100</td>\n",
       "      <td>2.000</td>\n",
       "      <td>4.000</td>\n",
       "      <td>3.000</td>\n",
       "      <td>29.000</td>\n",
       "      <td>6.000</td>\n",
       "      <td>NO</td>\n",
       "      <td>44.000</td>\n",
       "      <td>All-net 500F=2000F;5d</td>\n",
       "      <td>0</td>\n",
       "    </tr>\n",
       "    <tr>\n",
       "      <th>6</th>\n",
       "      <td>Mandalore</td>\n",
       "      <td>8.000</td>\n",
       "      <td>428.630</td>\n",
       "      <td>9.000</td>\n",
       "      <td>386.000</td>\n",
       "      <td>30.000</td>\n",
       "      <td>29.000</td>\n",
       "      <td>6.000</td>\n",
       "      <td>NO</td>\n",
       "      <td>7.000</td>\n",
       "      <td>All-net 500F=2000F;5d</td>\n",
       "      <td>0</td>\n",
       "    </tr>\n",
       "    <tr>\n",
       "      <th>7</th>\n",
       "      <td>Eclipsara</td>\n",
       "      <td>8.000</td>\n",
       "      <td>926.070</td>\n",
       "      <td>13.000</td>\n",
       "      <td>386.000</td>\n",
       "      <td>96.000</td>\n",
       "      <td>96.000</td>\n",
       "      <td>1.000</td>\n",
       "      <td>NO</td>\n",
       "      <td>59.000</td>\n",
       "      <td>All-net 500F =2000F_AllNet_Unlimited</td>\n",
       "      <td>0</td>\n",
       "    </tr>\n",
       "  </tbody>\n",
       "</table>\n",
       "</div>"
      ],
      "text/plain": [
       "      region  tenure  arpu_segment  frequency  data_volume  on_net  Procuct_1  \\\n",
       "0  Mandalore   8.000       428.630      9.000      386.000  30.000     29.000   \n",
       "3  Mandalore   8.000       428.630      9.000      386.000  30.000     29.000   \n",
       "5  Celestial   8.000        14.100      2.000        4.000   3.000     29.000   \n",
       "6  Mandalore   8.000       428.630      9.000      386.000  30.000     29.000   \n",
       "7  Eclipsara   8.000       926.070     13.000      386.000  96.000     96.000   \n",
       "\n",
       "   Procuct_2 mrg  regularity                              top_pack  Target  \n",
       "0      6.000  NO       3.000                 All-net 500F=2000F;5d       0  \n",
       "3      6.000  NO       6.000                 All-net 500F=2000F;5d       0  \n",
       "5      6.000  NO      44.000                 All-net 500F=2000F;5d       0  \n",
       "6      6.000  NO       7.000                 All-net 500F=2000F;5d       0  \n",
       "7      1.000  NO      59.000  All-net 500F =2000F_AllNet_Unlimited       0  "
      ]
     },
     "execution_count": 77,
     "metadata": {},
     "output_type": "execute_result"
    }
   ],
   "source": [
    "data_clean.head()"
   ]
  },
  {
   "cell_type": "code",
   "execution_count": 78,
   "id": "f631c3d4",
   "metadata": {},
   "outputs": [
    {
     "data": {
      "text/plain": [
       "array([0, 1])"
      ]
     },
     "execution_count": 78,
     "metadata": {},
     "output_type": "execute_result"
    }
   ],
   "source": [
    "data_clean[\"Target\"].unique()"
   ]
  },
  {
   "cell_type": "code",
   "execution_count": 79,
   "id": "3c2a0a27",
   "metadata": {},
   "outputs": [],
   "source": [
    "### Now display the boxplot to check for if outliers are still present"
   ]
  },
  {
   "cell_type": "code",
   "execution_count": 80,
   "id": "8dbed616",
   "metadata": {},
   "outputs": [
    {
     "data": {
      "image/png": "[encoded data removed]",
      "text/plain": [
       "<Figure size 1500x1200 with 9 Axes>"
      ]
     },
     "metadata": {},
     "output_type": "display_data"
    }
   ],
   "source": [
    "plt.figure(figsize=(15, 12))\n",
    "for i, variable in enumerate(train_cols):\n",
    "    plt.subplot(4,7, i + 1)\n",
    "    plt.boxplot(data_clean[variable], whis=1.5)\n",
    "    plt.tight_layout()\n",
    "    plt.title(variable)\n",
    "plt.show()"
   ]
  },
  {
   "cell_type": "markdown",
   "id": "71e928c9",
   "metadata": {},
   "source": [
    "### Data Preparation:"
   ]
  },
  {
   "cell_type": "markdown",
   "id": "84f2c756",
   "metadata": {},
   "source": [
    "#### Convert categorical  to numerical variables"
   ]
  },
  {
   "cell_type": "code",
   "execution_count": 81,
   "id": "a8775d4e",
   "metadata": {},
   "outputs": [],
   "source": [
    "data1 = data_clean.copy()"
   ]
  },
  {
   "cell_type": "code",
   "execution_count": 82,
   "id": "a01f736c",
   "metadata": {},
   "outputs": [],
   "source": [
    "## Select categorical columns in the train dataset\n",
    "categorical_columns_train = data1.select_dtypes(\"object\").columns "
   ]
  },
  {
   "cell_type": "code",
   "execution_count": 83,
   "id": "b3ade78b",
   "metadata": {},
   "outputs": [],
   "source": [
    "# first create dummy variables for categorical data by dropping one of the columns in the training data\n",
    "for variable in categorical_columns_train:\n",
    "    \n",
    "       data1[variable] = pd.factorize(data1[variable])[0]  "
   ]
  },
  {
   "cell_type": "code",
   "execution_count": 84,
   "id": "157da844",
   "metadata": {},
   "outputs": [
    {
     "data": {
      "text/html": [
       "<div>\n",
       "<style scoped>\n",
       "    .dataframe tbody tr th:only-of-type {\n",
       "        vertical-align: middle;\n",
       "    }\n",
       "\n",
       "    .dataframe tbody tr th {\n",
       "        vertical-align: top;\n",
       "    }\n",
       "\n",
       "    .dataframe thead th {\n",
       "        text-align: right;\n",
       "    }\n",
       "</style>\n",
       "<table border=\"1\" class=\"dataframe\">\n",
       "  <thead>\n",
       "    <tr style=\"text-align: right;\">\n",
       "      <th></th>\n",
       "      <th>region</th>\n",
       "      <th>mrg</th>\n",
       "      <th>top_pack</th>\n",
       "    </tr>\n",
       "  </thead>\n",
       "  <tbody>\n",
       "    <tr>\n",
       "      <th>0</th>\n",
       "      <td>0</td>\n",
       "      <td>0</td>\n",
       "      <td>0</td>\n",
       "    </tr>\n",
       "    <tr>\n",
       "      <th>3</th>\n",
       "      <td>0</td>\n",
       "      <td>0</td>\n",
       "      <td>0</td>\n",
       "    </tr>\n",
       "    <tr>\n",
       "      <th>5</th>\n",
       "      <td>1</td>\n",
       "      <td>0</td>\n",
       "      <td>0</td>\n",
       "    </tr>\n",
       "    <tr>\n",
       "      <th>6</th>\n",
       "      <td>0</td>\n",
       "      <td>0</td>\n",
       "      <td>0</td>\n",
       "    </tr>\n",
       "    <tr>\n",
       "      <th>7</th>\n",
       "      <td>2</td>\n",
       "      <td>0</td>\n",
       "      <td>1</td>\n",
       "    </tr>\n",
       "  </tbody>\n",
       "</table>\n",
       "</div>"
      ],
      "text/plain": [
       "   region  mrg  top_pack\n",
       "0       0    0         0\n",
       "3       0    0         0\n",
       "5       1    0         0\n",
       "6       0    0         0\n",
       "7       2    0         1"
      ]
     },
     "execution_count": 84,
     "metadata": {},
     "output_type": "execute_result"
    }
   ],
   "source": [
    "data1[categorical_columns_train].head()"
   ]
  },
  {
   "cell_type": "code",
   "execution_count": 85,
   "id": "eefd3cec",
   "metadata": {},
   "outputs": [
    {
     "data": {
      "text/plain": [
       "0"
      ]
     },
     "execution_count": 85,
     "metadata": {},
     "output_type": "execute_result"
    }
   ],
   "source": [
    "data1.isnull().sum().sum()"
   ]
  },
  {
   "cell_type": "code",
   "execution_count": 86,
   "id": "0bf46932",
   "metadata": {},
   "outputs": [
    {
     "data": {
      "text/plain": [
       "0    492146\n",
       "1     46922\n",
       "Name: Target, dtype: int64"
      ]
     },
     "execution_count": 86,
     "metadata": {},
     "output_type": "execute_result"
    }
   ],
   "source": [
    "data1[\"Target\"].value_counts()"
   ]
  },
  {
   "cell_type": "code",
   "execution_count": 87,
   "id": "1e82e4f4",
   "metadata": {},
   "outputs": [],
   "source": [
    "categorical_data =  data1[categorical_columns_train]"
   ]
  },
  {
   "cell_type": "code",
   "execution_count": 88,
   "id": "e57ee825",
   "metadata": {},
   "outputs": [
    {
     "name": "stdout",
     "output_type": "stream",
     "text": [
      "<class 'pandas.core.frame.DataFrame'>\n",
      "Int64Index: 539068 entries, 0 to 1507830\n",
      "Data columns (total 3 columns):\n",
      " #   Column    Non-Null Count   Dtype\n",
      "---  ------    --------------   -----\n",
      " 0   region    539068 non-null  int64\n",
      " 1   mrg       539068 non-null  int64\n",
      " 2   top_pack  539068 non-null  int64\n",
      "dtypes: int64(3)\n",
      "memory usage: 16.5 MB\n"
     ]
    }
   ],
   "source": [
    "categorical_data.info()"
   ]
  },
  {
   "cell_type": "code",
   "execution_count": 89,
   "id": "c943ba47",
   "metadata": {},
   "outputs": [],
   "source": [
    "X_cat_data = categorical_data"
   ]
  },
  {
   "cell_type": "code",
   "execution_count": 90,
   "id": "8ae3ba21",
   "metadata": {},
   "outputs": [
    {
     "data": {
      "text/html": [
       "<div>\n",
       "<style scoped>\n",
       "    .dataframe tbody tr th:only-of-type {\n",
       "        vertical-align: middle;\n",
       "    }\n",
       "\n",
       "    .dataframe tbody tr th {\n",
       "        vertical-align: top;\n",
       "    }\n",
       "\n",
       "    .dataframe thead th {\n",
       "        text-align: right;\n",
       "    }\n",
       "</style>\n",
       "<table border=\"1\" class=\"dataframe\">\n",
       "  <thead>\n",
       "    <tr style=\"text-align: right;\">\n",
       "      <th></th>\n",
       "      <th>region</th>\n",
       "      <th>mrg</th>\n",
       "      <th>top_pack</th>\n",
       "    </tr>\n",
       "  </thead>\n",
       "  <tbody>\n",
       "    <tr>\n",
       "      <th>0</th>\n",
       "      <td>0</td>\n",
       "      <td>0</td>\n",
       "      <td>0</td>\n",
       "    </tr>\n",
       "    <tr>\n",
       "      <th>3</th>\n",
       "      <td>0</td>\n",
       "      <td>0</td>\n",
       "      <td>0</td>\n",
       "    </tr>\n",
       "    <tr>\n",
       "      <th>5</th>\n",
       "      <td>1</td>\n",
       "      <td>0</td>\n",
       "      <td>0</td>\n",
       "    </tr>\n",
       "    <tr>\n",
       "      <th>6</th>\n",
       "      <td>0</td>\n",
       "      <td>0</td>\n",
       "      <td>0</td>\n",
       "    </tr>\n",
       "    <tr>\n",
       "      <th>7</th>\n",
       "      <td>2</td>\n",
       "      <td>0</td>\n",
       "      <td>1</td>\n",
       "    </tr>\n",
       "  </tbody>\n",
       "</table>\n",
       "</div>"
      ],
      "text/plain": [
       "   region  mrg  top_pack\n",
       "0       0    0         0\n",
       "3       0    0         0\n",
       "5       1    0         0\n",
       "6       0    0         0\n",
       "7       2    0         1"
      ]
     },
     "execution_count": 90,
     "metadata": {},
     "output_type": "execute_result"
    }
   ],
   "source": [
    "X_cat_data.head()"
   ]
  },
  {
   "cell_type": "code",
   "execution_count": 91,
   "id": "d0328e99",
   "metadata": {},
   "outputs": [],
   "source": [
    "y_data = data1[\"Target\"]"
   ]
  },
  {
   "cell_type": "code",
   "execution_count": 92,
   "id": "ea42dcdd",
   "metadata": {},
   "outputs": [
    {
     "data": {
      "text/plain": [
       "array([0, 1])"
      ]
     },
     "execution_count": 92,
     "metadata": {},
     "output_type": "execute_result"
    }
   ],
   "source": [
    "y_data.unique()"
   ]
  },
  {
   "cell_type": "code",
   "execution_count": 93,
   "id": "aa3e8fc0",
   "metadata": {},
   "outputs": [],
   "source": [
    "chi_score= chi2(X_cat_data,y_data)"
   ]
  },
  {
   "cell_type": "code",
   "execution_count": 94,
   "id": "953f7148",
   "metadata": {},
   "outputs": [
    {
     "data": {
      "text/plain": [
       "(array([81493.87112692,            nan, 13172.1675224 ]),\n",
       " array([ 0., nan,  0.]))"
      ]
     },
     "execution_count": 94,
     "metadata": {},
     "output_type": "execute_result"
    }
   ],
   "source": [
    "chi_score"
   ]
  },
  {
   "cell_type": "code",
   "execution_count": 95,
   "id": "d97f2644",
   "metadata": {},
   "outputs": [
    {
     "data": {
      "image/png": "[encoded data removed]",
      "text/plain": [
       "<Figure size 640x480 with 1 Axes>"
      ]
     },
     "metadata": {},
     "output_type": "display_data"
    }
   ],
   "source": [
    "chi_values = pd.Series(chi_score[0],index=X_cat_data.columns)\n",
    "chi_values.sort_values(ascending=False,inplace=True)\n",
    "chi_values.plot(kind=\"bar\",xlabel=\"Categorical Features\",ylabel=\"Chi-values\");"
   ]
  },
  {
   "cell_type": "markdown",
   "id": "81217d4e",
   "metadata": {},
   "source": [
    "### Observation\n",
    "* The region and top_pack are  the importance categorical features for the  target variable. <br>\n",
    "* The higher the score the higher the importance of the feature to the target variable. <br>\n",
    "* Therefore we can drop the mrg columns from both the training and testing dataset"
   ]
  },
  {
   "cell_type": "code",
   "execution_count": 96,
   "id": "70447835",
   "metadata": {},
   "outputs": [],
   "source": [
    "### Drop the mrg column from both the training and testing dataset\n",
    "data1 = data1.drop(columns=[\"mrg\"], axis=1)\n",
    "test_data =test_data.drop(columns=[\"mrg\"], axis=1)"
   ]
  },
  {
   "cell_type": "code",
   "execution_count": 97,
   "id": "73b31a38",
   "metadata": {},
   "outputs": [
    {
     "data": {
      "text/html": [
       "<div>\n",
       "<style scoped>\n",
       "    .dataframe tbody tr th:only-of-type {\n",
       "        vertical-align: middle;\n",
       "    }\n",
       "\n",
       "    .dataframe tbody tr th {\n",
       "        vertical-align: top;\n",
       "    }\n",
       "\n",
       "    .dataframe thead th {\n",
       "        text-align: right;\n",
       "    }\n",
       "</style>\n",
       "<table border=\"1\" class=\"dataframe\">\n",
       "  <thead>\n",
       "    <tr style=\"text-align: right;\">\n",
       "      <th></th>\n",
       "      <th>region</th>\n",
       "      <th>tenure</th>\n",
       "      <th>arpu_segment</th>\n",
       "      <th>frequency</th>\n",
       "      <th>data_volume</th>\n",
       "      <th>on_net</th>\n",
       "      <th>Procuct_1</th>\n",
       "      <th>Procuct_2</th>\n",
       "      <th>regularity</th>\n",
       "      <th>top_pack</th>\n",
       "      <th>Target</th>\n",
       "    </tr>\n",
       "  </thead>\n",
       "  <tbody>\n",
       "    <tr>\n",
       "      <th>0</th>\n",
       "      <td>0</td>\n",
       "      <td>8.000</td>\n",
       "      <td>428.630</td>\n",
       "      <td>9.000</td>\n",
       "      <td>386.000</td>\n",
       "      <td>30.000</td>\n",
       "      <td>29.000</td>\n",
       "      <td>6.000</td>\n",
       "      <td>3.000</td>\n",
       "      <td>0</td>\n",
       "      <td>0</td>\n",
       "    </tr>\n",
       "    <tr>\n",
       "      <th>3</th>\n",
       "      <td>0</td>\n",
       "      <td>8.000</td>\n",
       "      <td>428.630</td>\n",
       "      <td>9.000</td>\n",
       "      <td>386.000</td>\n",
       "      <td>30.000</td>\n",
       "      <td>29.000</td>\n",
       "      <td>6.000</td>\n",
       "      <td>6.000</td>\n",
       "      <td>0</td>\n",
       "      <td>0</td>\n",
       "    </tr>\n",
       "    <tr>\n",
       "      <th>5</th>\n",
       "      <td>1</td>\n",
       "      <td>8.000</td>\n",
       "      <td>14.100</td>\n",
       "      <td>2.000</td>\n",
       "      <td>4.000</td>\n",
       "      <td>3.000</td>\n",
       "      <td>29.000</td>\n",
       "      <td>6.000</td>\n",
       "      <td>44.000</td>\n",
       "      <td>0</td>\n",
       "      <td>0</td>\n",
       "    </tr>\n",
       "    <tr>\n",
       "      <th>6</th>\n",
       "      <td>0</td>\n",
       "      <td>8.000</td>\n",
       "      <td>428.630</td>\n",
       "      <td>9.000</td>\n",
       "      <td>386.000</td>\n",
       "      <td>30.000</td>\n",
       "      <td>29.000</td>\n",
       "      <td>6.000</td>\n",
       "      <td>7.000</td>\n",
       "      <td>0</td>\n",
       "      <td>0</td>\n",
       "    </tr>\n",
       "    <tr>\n",
       "      <th>7</th>\n",
       "      <td>2</td>\n",
       "      <td>8.000</td>\n",
       "      <td>926.070</td>\n",
       "      <td>13.000</td>\n",
       "      <td>386.000</td>\n",
       "      <td>96.000</td>\n",
       "      <td>96.000</td>\n",
       "      <td>1.000</td>\n",
       "      <td>59.000</td>\n",
       "      <td>1</td>\n",
       "      <td>0</td>\n",
       "    </tr>\n",
       "  </tbody>\n",
       "</table>\n",
       "</div>"
      ],
      "text/plain": [
       "   region  tenure  arpu_segment  frequency  data_volume  on_net  Procuct_1  \\\n",
       "0       0   8.000       428.630      9.000      386.000  30.000     29.000   \n",
       "3       0   8.000       428.630      9.000      386.000  30.000     29.000   \n",
       "5       1   8.000        14.100      2.000        4.000   3.000     29.000   \n",
       "6       0   8.000       428.630      9.000      386.000  30.000     29.000   \n",
       "7       2   8.000       926.070     13.000      386.000  96.000     96.000   \n",
       "\n",
       "   Procuct_2  regularity  top_pack  Target  \n",
       "0      6.000       3.000         0       0  \n",
       "3      6.000       6.000         0       0  \n",
       "5      6.000      44.000         0       0  \n",
       "6      6.000       7.000         0       0  \n",
       "7      1.000      59.000         1       0  "
      ]
     },
     "execution_count": 97,
     "metadata": {},
     "output_type": "execute_result"
    }
   ],
   "source": [
    "data1.head()"
   ]
  },
  {
   "cell_type": "code",
   "execution_count": 98,
   "id": "5b1843be",
   "metadata": {},
   "outputs": [
    {
     "data": {
      "text/plain": [
       "(539068, 11)"
      ]
     },
     "execution_count": 98,
     "metadata": {},
     "output_type": "execute_result"
    }
   ],
   "source": [
    "data1.shape"
   ]
  },
  {
   "cell_type": "code",
   "execution_count": 99,
   "id": "ff4a8029",
   "metadata": {},
   "outputs": [
    {
     "data": {
      "text/plain": [
       "(380127, 12)"
      ]
     },
     "execution_count": 99,
     "metadata": {},
     "output_type": "execute_result"
    }
   ],
   "source": [
    "test_data.shape"
   ]
  },
  {
   "cell_type": "markdown",
   "id": "ce4c79de",
   "metadata": {},
   "source": [
    "### Split the data into train and test sets"
   ]
  },
  {
   "cell_type": "code",
   "execution_count": 100,
   "id": "9d9a68ab",
   "metadata": {},
   "outputs": [],
   "source": [
    "# Dividing train data into X and y \n",
    "X = data1.drop([\"Target\"], axis=1)\n",
    "y = data1[\"Target\"]"
   ]
  },
  {
   "cell_type": "code",
   "execution_count": 101,
   "id": "1333e6e9",
   "metadata": {},
   "outputs": [
    {
     "data": {
      "text/plain": [
       "(539068, 10)"
      ]
     },
     "execution_count": 101,
     "metadata": {},
     "output_type": "execute_result"
    }
   ],
   "source": [
    "X.shape"
   ]
  },
  {
   "cell_type": "code",
   "execution_count": 102,
   "id": "5b58799b",
   "metadata": {},
   "outputs": [
    {
     "data": {
      "text/html": [
       "<div>\n",
       "<style scoped>\n",
       "    .dataframe tbody tr th:only-of-type {\n",
       "        vertical-align: middle;\n",
       "    }\n",
       "\n",
       "    .dataframe tbody tr th {\n",
       "        vertical-align: top;\n",
       "    }\n",
       "\n",
       "    .dataframe thead th {\n",
       "        text-align: right;\n",
       "    }\n",
       "</style>\n",
       "<table border=\"1\" class=\"dataframe\">\n",
       "  <thead>\n",
       "    <tr style=\"text-align: right;\">\n",
       "      <th></th>\n",
       "      <th>region</th>\n",
       "      <th>tenure</th>\n",
       "      <th>arpu_segment</th>\n",
       "      <th>frequency</th>\n",
       "      <th>data_volume</th>\n",
       "      <th>on_net</th>\n",
       "      <th>Procuct_1</th>\n",
       "      <th>Procuct_2</th>\n",
       "      <th>regularity</th>\n",
       "      <th>top_pack</th>\n",
       "    </tr>\n",
       "  </thead>\n",
       "  <tbody>\n",
       "    <tr>\n",
       "      <th>0</th>\n",
       "      <td>0</td>\n",
       "      <td>8.000</td>\n",
       "      <td>428.630</td>\n",
       "      <td>9.000</td>\n",
       "      <td>386.000</td>\n",
       "      <td>30.000</td>\n",
       "      <td>29.000</td>\n",
       "      <td>6.000</td>\n",
       "      <td>3.000</td>\n",
       "      <td>0</td>\n",
       "    </tr>\n",
       "    <tr>\n",
       "      <th>3</th>\n",
       "      <td>0</td>\n",
       "      <td>8.000</td>\n",
       "      <td>428.630</td>\n",
       "      <td>9.000</td>\n",
       "      <td>386.000</td>\n",
       "      <td>30.000</td>\n",
       "      <td>29.000</td>\n",
       "      <td>6.000</td>\n",
       "      <td>6.000</td>\n",
       "      <td>0</td>\n",
       "    </tr>\n",
       "    <tr>\n",
       "      <th>5</th>\n",
       "      <td>1</td>\n",
       "      <td>8.000</td>\n",
       "      <td>14.100</td>\n",
       "      <td>2.000</td>\n",
       "      <td>4.000</td>\n",
       "      <td>3.000</td>\n",
       "      <td>29.000</td>\n",
       "      <td>6.000</td>\n",
       "      <td>44.000</td>\n",
       "      <td>0</td>\n",
       "    </tr>\n",
       "    <tr>\n",
       "      <th>6</th>\n",
       "      <td>0</td>\n",
       "      <td>8.000</td>\n",
       "      <td>428.630</td>\n",
       "      <td>9.000</td>\n",
       "      <td>386.000</td>\n",
       "      <td>30.000</td>\n",
       "      <td>29.000</td>\n",
       "      <td>6.000</td>\n",
       "      <td>7.000</td>\n",
       "      <td>0</td>\n",
       "    </tr>\n",
       "    <tr>\n",
       "      <th>7</th>\n",
       "      <td>2</td>\n",
       "      <td>8.000</td>\n",
       "      <td>926.070</td>\n",
       "      <td>13.000</td>\n",
       "      <td>386.000</td>\n",
       "      <td>96.000</td>\n",
       "      <td>96.000</td>\n",
       "      <td>1.000</td>\n",
       "      <td>59.000</td>\n",
       "      <td>1</td>\n",
       "    </tr>\n",
       "  </tbody>\n",
       "</table>\n",
       "</div>"
      ],
      "text/plain": [
       "   region  tenure  arpu_segment  frequency  data_volume  on_net  Procuct_1  \\\n",
       "0       0   8.000       428.630      9.000      386.000  30.000     29.000   \n",
       "3       0   8.000       428.630      9.000      386.000  30.000     29.000   \n",
       "5       1   8.000        14.100      2.000        4.000   3.000     29.000   \n",
       "6       0   8.000       428.630      9.000      386.000  30.000     29.000   \n",
       "7       2   8.000       926.070     13.000      386.000  96.000     96.000   \n",
       "\n",
       "   Procuct_2  regularity  top_pack  \n",
       "0      6.000       3.000         0  \n",
       "3      6.000       6.000         0  \n",
       "5      6.000      44.000         0  \n",
       "6      6.000       7.000         0  \n",
       "7      1.000      59.000         1  "
      ]
     },
     "execution_count": 102,
     "metadata": {},
     "output_type": "execute_result"
    }
   ],
   "source": [
    "X.head()"
   ]
  },
  {
   "cell_type": "code",
   "execution_count": 103,
   "id": "c57c7fa5",
   "metadata": {},
   "outputs": [],
   "source": [
    "# Splitting the dataset into training and validation set into a ratio of 70:30 \n",
    "X_train, X_val, y_train, y_val = train_test_split(X,y,test_size=0.30,random_state=42)"
   ]
  },
  {
   "cell_type": "code",
   "execution_count": 104,
   "id": "7a3fcad1",
   "metadata": {},
   "outputs": [
    {
     "name": "stdout",
     "output_type": "stream",
     "text": [
      "The training dataset consits of 377347 rows and 10 columns\n"
     ]
    }
   ],
   "source": [
    "print(f\"The training dataset consits of {X_train.shape[0]} rows and {X_train.shape[1]} columns\")"
   ]
  },
  {
   "cell_type": "code",
   "execution_count": 105,
   "id": "3722da92",
   "metadata": {},
   "outputs": [
    {
     "name": "stdout",
     "output_type": "stream",
     "text": [
      "The validation dataset consists of 161721 rows and 10 columns\n"
     ]
    }
   ],
   "source": [
    "print(f\"The validation dataset consists of {X_val.shape[0]} rows and {X_val.shape[1]} columns\")"
   ]
  },
  {
   "cell_type": "markdown",
   "id": "511c8722",
   "metadata": {},
   "source": [
    "### Normalize/standardize the data"
   ]
  },
  {
   "cell_type": "code",
   "execution_count": 106,
   "id": "8a17a8b3",
   "metadata": {},
   "outputs": [],
   "source": [
    "# Scale the data using StandardScaler\n",
    "scaler = StandardScaler()\n",
    "X_train = scaler.fit_transform(X_train)\n",
    "X_val = scaler.transform(X_val)"
   ]
  },
  {
   "cell_type": "code",
   "execution_count": 107,
   "id": "3946b60d",
   "metadata": {},
   "outputs": [],
   "source": [
    "X_train1 = pd.DataFrame(X_train,columns=X.columns)"
   ]
  },
  {
   "cell_type": "code",
   "execution_count": 108,
   "id": "eec9ca61",
   "metadata": {},
   "outputs": [
    {
     "data": {
      "text/html": [
       "<div>\n",
       "<style scoped>\n",
       "    .dataframe tbody tr th:only-of-type {\n",
       "        vertical-align: middle;\n",
       "    }\n",
       "\n",
       "    .dataframe tbody tr th {\n",
       "        vertical-align: top;\n",
       "    }\n",
       "\n",
       "    .dataframe thead th {\n",
       "        text-align: right;\n",
       "    }\n",
       "</style>\n",
       "<table border=\"1\" class=\"dataframe\">\n",
       "  <thead>\n",
       "    <tr style=\"text-align: right;\">\n",
       "      <th></th>\n",
       "      <th>region</th>\n",
       "      <th>tenure</th>\n",
       "      <th>arpu_segment</th>\n",
       "      <th>frequency</th>\n",
       "      <th>data_volume</th>\n",
       "      <th>on_net</th>\n",
       "      <th>Procuct_1</th>\n",
       "      <th>Procuct_2</th>\n",
       "      <th>regularity</th>\n",
       "      <th>top_pack</th>\n",
       "    </tr>\n",
       "  </thead>\n",
       "  <tbody>\n",
       "    <tr>\n",
       "      <th>0</th>\n",
       "      <td>0.736</td>\n",
       "      <td>0.000</td>\n",
       "      <td>-0.330</td>\n",
       "      <td>-0.303</td>\n",
       "      <td>-0.129</td>\n",
       "      <td>1.318</td>\n",
       "      <td>-0.320</td>\n",
       "      <td>0.309</td>\n",
       "      <td>0.446</td>\n",
       "      <td>1.031</td>\n",
       "    </tr>\n",
       "    <tr>\n",
       "      <th>1</th>\n",
       "      <td>0.151</td>\n",
       "      <td>0.000</td>\n",
       "      <td>0.397</td>\n",
       "      <td>0.329</td>\n",
       "      <td>-0.255</td>\n",
       "      <td>-0.535</td>\n",
       "      <td>-0.002</td>\n",
       "      <td>0.309</td>\n",
       "      <td>-1.127</td>\n",
       "      <td>-0.685</td>\n",
       "    </tr>\n",
       "    <tr>\n",
       "      <th>2</th>\n",
       "      <td>-0.726</td>\n",
       "      <td>0.000</td>\n",
       "      <td>-0.685</td>\n",
       "      <td>-0.145</td>\n",
       "      <td>-0.129</td>\n",
       "      <td>-0.135</td>\n",
       "      <td>-0.512</td>\n",
       "      <td>0.309</td>\n",
       "      <td>-0.566</td>\n",
       "      <td>-0.685</td>\n",
       "    </tr>\n",
       "    <tr>\n",
       "      <th>3</th>\n",
       "      <td>1.321</td>\n",
       "      <td>0.000</td>\n",
       "      <td>-0.424</td>\n",
       "      <td>-0.303</td>\n",
       "      <td>-0.129</td>\n",
       "      <td>-0.371</td>\n",
       "      <td>-0.671</td>\n",
       "      <td>-0.172</td>\n",
       "      <td>1.514</td>\n",
       "      <td>-0.570</td>\n",
       "    </tr>\n",
       "    <tr>\n",
       "      <th>4</th>\n",
       "      <td>-0.726</td>\n",
       "      <td>0.000</td>\n",
       "      <td>-0.054</td>\n",
       "      <td>-0.303</td>\n",
       "      <td>-0.129</td>\n",
       "      <td>-0.244</td>\n",
       "      <td>0.604</td>\n",
       "      <td>-2.099</td>\n",
       "      <td>-1.184</td>\n",
       "      <td>0.459</td>\n",
       "    </tr>\n",
       "  </tbody>\n",
       "</table>\n",
       "</div>"
      ],
      "text/plain": [
       "   region  tenure  arpu_segment  frequency  data_volume  on_net  Procuct_1  \\\n",
       "0   0.736   0.000        -0.330     -0.303       -0.129   1.318     -0.320   \n",
       "1   0.151   0.000         0.397      0.329       -0.255  -0.535     -0.002   \n",
       "2  -0.726   0.000        -0.685     -0.145       -0.129  -0.135     -0.512   \n",
       "3   1.321   0.000        -0.424     -0.303       -0.129  -0.371     -0.671   \n",
       "4  -0.726   0.000        -0.054     -0.303       -0.129  -0.244      0.604   \n",
       "\n",
       "   Procuct_2  regularity  top_pack  \n",
       "0      0.309       0.446     1.031  \n",
       "1      0.309      -1.127    -0.685  \n",
       "2      0.309      -0.566    -0.685  \n",
       "3     -0.172       1.514    -0.570  \n",
       "4     -2.099      -1.184     0.459  "
      ]
     },
     "execution_count": 108,
     "metadata": {},
     "output_type": "execute_result"
    }
   ],
   "source": [
    "X_train1.head()"
   ]
  },
  {
   "cell_type": "markdown",
   "id": "9e8480ef",
   "metadata": {},
   "source": [
    "### Cleaning the testing dataset"
   ]
  },
  {
   "cell_type": "code",
   "execution_count": 109,
   "id": "641288ed",
   "metadata": {},
   "outputs": [
    {
     "data": {
      "text/html": [
       "<div>\n",
       "<style scoped>\n",
       "    .dataframe tbody tr th:only-of-type {\n",
       "        vertical-align: middle;\n",
       "    }\n",
       "\n",
       "    .dataframe tbody tr th {\n",
       "        vertical-align: top;\n",
       "    }\n",
       "\n",
       "    .dataframe thead th {\n",
       "        text-align: right;\n",
       "    }\n",
       "</style>\n",
       "<table border=\"1\" class=\"dataframe\">\n",
       "  <thead>\n",
       "    <tr style=\"text-align: right;\">\n",
       "      <th></th>\n",
       "      <th>ID</th>\n",
       "      <th>region</th>\n",
       "      <th>tenure</th>\n",
       "      <th>Amount</th>\n",
       "      <th>arpu_segment</th>\n",
       "      <th>frequency</th>\n",
       "      <th>data_volume</th>\n",
       "      <th>on_net</th>\n",
       "      <th>Procuct_1</th>\n",
       "      <th>Procuct_2</th>\n",
       "      <th>regularity</th>\n",
       "      <th>top_pack</th>\n",
       "    </tr>\n",
       "  </thead>\n",
       "  <tbody>\n",
       "    <tr>\n",
       "      <th>0</th>\n",
       "      <td>ID_LZ8K373W7EWV</td>\n",
       "      <td>Droidika</td>\n",
       "      <td>8.000</td>\n",
       "      <td>2008.550</td>\n",
       "      <td>670.090</td>\n",
       "      <td>17.000</td>\n",
       "      <td>10.000</td>\n",
       "      <td>247.000</td>\n",
       "      <td>17.000</td>\n",
       "      <td>70.000</td>\n",
       "      <td>59.000</td>\n",
       "      <td>On net 200F=Unlimited _call24H</td>\n",
       "    </tr>\n",
       "    <tr>\n",
       "      <th>1</th>\n",
       "      <td>ID_04KNWHGV5783</td>\n",
       "      <td>Luminous</td>\n",
       "      <td>8.000</td>\n",
       "      <td>2991.450</td>\n",
       "      <td>997.010</td>\n",
       "      <td>17.000</td>\n",
       "      <td>259.000</td>\n",
       "      <td>99.000</td>\n",
       "      <td>100.000</td>\n",
       "      <td>84.000</td>\n",
       "      <td>49.000</td>\n",
       "      <td>All-net 500F=2000F;5d</td>\n",
       "    </tr>\n",
       "    <tr>\n",
       "      <th>2</th>\n",
       "      <td>ID_CXS07G6VLB2U</td>\n",
       "      <td>Astral</td>\n",
       "      <td>8.000</td>\n",
       "      <td>1581.200</td>\n",
       "      <td>526.070</td>\n",
       "      <td>8.000</td>\n",
       "      <td>436.000</td>\n",
       "      <td>47.000</td>\n",
       "      <td>113.000</td>\n",
       "      <td>5.000</td>\n",
       "      <td>13.000</td>\n",
       "      <td>Jokko_Daily</td>\n",
       "    </tr>\n",
       "    <tr>\n",
       "      <th>3</th>\n",
       "      <td>ID_N3NFJJVHS25K</td>\n",
       "      <td>Eclipsara</td>\n",
       "      <td>8.000</td>\n",
       "      <td>2564.100</td>\n",
       "      <td>926.070</td>\n",
       "      <td>13.000</td>\n",
       "      <td>0.000</td>\n",
       "      <td>135.000</td>\n",
       "      <td>181.000</td>\n",
       "      <td>6.000</td>\n",
       "      <td>53.000</td>\n",
       "      <td>All-net 500F=2000F;5d</td>\n",
       "    </tr>\n",
       "    <tr>\n",
       "      <th>4</th>\n",
       "      <td>ID_R36J4ROT93E9</td>\n",
       "      <td>Mandalore</td>\n",
       "      <td>8.000</td>\n",
       "      <td>1282.050</td>\n",
       "      <td>427.350</td>\n",
       "      <td>9.000</td>\n",
       "      <td>259.000</td>\n",
       "      <td>27.000</td>\n",
       "      <td>29.000</td>\n",
       "      <td>6.000</td>\n",
       "      <td>1.000</td>\n",
       "      <td>All-net 500F=2000F;5d</td>\n",
       "    </tr>\n",
       "  </tbody>\n",
       "</table>\n",
       "</div>"
      ],
      "text/plain": [
       "                ID     region  tenure   Amount  arpu_segment  frequency  \\\n",
       "0  ID_LZ8K373W7EWV   Droidika   8.000 2008.550       670.090     17.000   \n",
       "1  ID_04KNWHGV5783   Luminous   8.000 2991.450       997.010     17.000   \n",
       "2  ID_CXS07G6VLB2U     Astral   8.000 1581.200       526.070      8.000   \n",
       "3  ID_N3NFJJVHS25K  Eclipsara   8.000 2564.100       926.070     13.000   \n",
       "4  ID_R36J4ROT93E9  Mandalore   8.000 1282.050       427.350      9.000   \n",
       "\n",
       "   data_volume  on_net  Procuct_1  Procuct_2  regularity  \\\n",
       "0       10.000 247.000     17.000     70.000      59.000   \n",
       "1      259.000  99.000    100.000     84.000      49.000   \n",
       "2      436.000  47.000    113.000      5.000      13.000   \n",
       "3        0.000 135.000    181.000      6.000      53.000   \n",
       "4      259.000  27.000     29.000      6.000       1.000   \n",
       "\n",
       "                         top_pack  \n",
       "0  On net 200F=Unlimited _call24H  \n",
       "1           All-net 500F=2000F;5d  \n",
       "2                     Jokko_Daily  \n",
       "3           All-net 500F=2000F;5d  \n",
       "4           All-net 500F=2000F;5d  "
      ]
     },
     "execution_count": 109,
     "metadata": {},
     "output_type": "execute_result"
    }
   ],
   "source": [
    "test_data.head()"
   ]
  },
  {
   "cell_type": "code",
   "execution_count": 110,
   "id": "bf855ab9",
   "metadata": {},
   "outputs": [],
   "source": [
    "### Cleaning the testing dataset\n",
    "# Create a copy of the original dataset\n",
    "data_test = test_data.copy()\n",
    "# Drop the Year and UniqueID columns\n",
    "data_test= data_test.drop(columns=[\"ID\"],axis=1)\n",
    "# Now select the categorical columns in the testing dataset\n",
    "categorical_test_column = data_test.select_dtypes(\"object\").columns\n",
    "# Now create the dummy variables on the categorical columns\n",
    "for variable in categorical_test_column:\n",
    "    \n",
    "       data_test[variable] = pd.factorize(data_test[variable])[0]  "
   ]
  },
  {
   "cell_type": "code",
   "execution_count": 111,
   "id": "5919075f",
   "metadata": {},
   "outputs": [
    {
     "data": {
      "text/html": [
       "<div>\n",
       "<style scoped>\n",
       "    .dataframe tbody tr th:only-of-type {\n",
       "        vertical-align: middle;\n",
       "    }\n",
       "\n",
       "    .dataframe tbody tr th {\n",
       "        vertical-align: top;\n",
       "    }\n",
       "\n",
       "    .dataframe thead th {\n",
       "        text-align: right;\n",
       "    }\n",
       "</style>\n",
       "<table border=\"1\" class=\"dataframe\">\n",
       "  <thead>\n",
       "    <tr style=\"text-align: right;\">\n",
       "      <th></th>\n",
       "      <th>region</th>\n",
       "      <th>tenure</th>\n",
       "      <th>Amount</th>\n",
       "      <th>arpu_segment</th>\n",
       "      <th>frequency</th>\n",
       "      <th>data_volume</th>\n",
       "      <th>on_net</th>\n",
       "      <th>Procuct_1</th>\n",
       "      <th>Procuct_2</th>\n",
       "      <th>regularity</th>\n",
       "      <th>top_pack</th>\n",
       "    </tr>\n",
       "  </thead>\n",
       "  <tbody>\n",
       "    <tr>\n",
       "      <th>0</th>\n",
       "      <td>0</td>\n",
       "      <td>8.000</td>\n",
       "      <td>2008.550</td>\n",
       "      <td>670.090</td>\n",
       "      <td>17.000</td>\n",
       "      <td>10.000</td>\n",
       "      <td>247.000</td>\n",
       "      <td>17.000</td>\n",
       "      <td>70.000</td>\n",
       "      <td>59.000</td>\n",
       "      <td>0</td>\n",
       "    </tr>\n",
       "    <tr>\n",
       "      <th>1</th>\n",
       "      <td>1</td>\n",
       "      <td>8.000</td>\n",
       "      <td>2991.450</td>\n",
       "      <td>997.010</td>\n",
       "      <td>17.000</td>\n",
       "      <td>259.000</td>\n",
       "      <td>99.000</td>\n",
       "      <td>100.000</td>\n",
       "      <td>84.000</td>\n",
       "      <td>49.000</td>\n",
       "      <td>1</td>\n",
       "    </tr>\n",
       "    <tr>\n",
       "      <th>2</th>\n",
       "      <td>2</td>\n",
       "      <td>8.000</td>\n",
       "      <td>1581.200</td>\n",
       "      <td>526.070</td>\n",
       "      <td>8.000</td>\n",
       "      <td>436.000</td>\n",
       "      <td>47.000</td>\n",
       "      <td>113.000</td>\n",
       "      <td>5.000</td>\n",
       "      <td>13.000</td>\n",
       "      <td>2</td>\n",
       "    </tr>\n",
       "    <tr>\n",
       "      <th>3</th>\n",
       "      <td>3</td>\n",
       "      <td>8.000</td>\n",
       "      <td>2564.100</td>\n",
       "      <td>926.070</td>\n",
       "      <td>13.000</td>\n",
       "      <td>0.000</td>\n",
       "      <td>135.000</td>\n",
       "      <td>181.000</td>\n",
       "      <td>6.000</td>\n",
       "      <td>53.000</td>\n",
       "      <td>1</td>\n",
       "    </tr>\n",
       "    <tr>\n",
       "      <th>4</th>\n",
       "      <td>4</td>\n",
       "      <td>8.000</td>\n",
       "      <td>1282.050</td>\n",
       "      <td>427.350</td>\n",
       "      <td>9.000</td>\n",
       "      <td>259.000</td>\n",
       "      <td>27.000</td>\n",
       "      <td>29.000</td>\n",
       "      <td>6.000</td>\n",
       "      <td>1.000</td>\n",
       "      <td>1</td>\n",
       "    </tr>\n",
       "  </tbody>\n",
       "</table>\n",
       "</div>"
      ],
      "text/plain": [
       "   region  tenure   Amount  arpu_segment  frequency  data_volume  on_net  \\\n",
       "0       0   8.000 2008.550       670.090     17.000       10.000 247.000   \n",
       "1       1   8.000 2991.450       997.010     17.000      259.000  99.000   \n",
       "2       2   8.000 1581.200       526.070      8.000      436.000  47.000   \n",
       "3       3   8.000 2564.100       926.070     13.000        0.000 135.000   \n",
       "4       4   8.000 1282.050       427.350      9.000      259.000  27.000   \n",
       "\n",
       "   Procuct_1  Procuct_2  regularity  top_pack  \n",
       "0     17.000     70.000      59.000         0  \n",
       "1    100.000     84.000      49.000         1  \n",
       "2    113.000      5.000      13.000         2  \n",
       "3    181.000      6.000      53.000         1  \n",
       "4     29.000      6.000       1.000         1  "
      ]
     },
     "execution_count": 111,
     "metadata": {},
     "output_type": "execute_result"
    }
   ],
   "source": [
    "data_test.head()"
   ]
  },
  {
   "cell_type": "code",
   "execution_count": 112,
   "id": "94fe9c25",
   "metadata": {},
   "outputs": [
    {
     "data": {
      "text/plain": [
       "(380127, 11)"
      ]
     },
     "execution_count": 112,
     "metadata": {},
     "output_type": "execute_result"
    }
   ],
   "source": [
    "data_test.shape"
   ]
  },
  {
   "cell_type": "code",
   "execution_count": 113,
   "id": "f23330dc",
   "metadata": {},
   "outputs": [],
   "source": [
    "data_test = data_test.drop(columns=[\"Amount\"],axis=1)"
   ]
  },
  {
   "cell_type": "code",
   "execution_count": 114,
   "id": "29f7c003",
   "metadata": {},
   "outputs": [
    {
     "data": {
      "text/plain": [
       "(380127, 10)"
      ]
     },
     "execution_count": 114,
     "metadata": {},
     "output_type": "execute_result"
    }
   ],
   "source": [
    "data_test.shape"
   ]
  },
  {
   "cell_type": "code",
   "execution_count": 115,
   "id": "fd6567a0",
   "metadata": {},
   "outputs": [],
   "source": [
    "X_test = data_test"
   ]
  },
  {
   "cell_type": "code",
   "execution_count": 116,
   "id": "228d2efe",
   "metadata": {},
   "outputs": [],
   "source": [
    "### Now normalize the testing dataset\n",
    "scaler = StandardScaler()\n",
    "X_test = scaler.fit_transform(X_test)"
   ]
  },
  {
   "cell_type": "markdown",
   "id": "73884395",
   "metadata": {},
   "source": [
    "### Model Building"
   ]
  },
  {
   "cell_type": "markdown",
   "id": "b05ad63b",
   "metadata": {},
   "source": [
    "## Performance measures description:\n",
    "* True positive(TP): The model predict that the customer is Inactive and in reality he/she has the bank account(Yes).<br>\n",
    "* False positive(FP): The model predict an employee attrition(Yes) and in reality it there is no attrition(No).<br>\n",
    "* False negative(FN): The model predict no employee attrition(No) and the reality there is an employee attrition(Yes).<br>\n",
    "* True negative(TN): The model predict no employee attrition(No) and in reality there is no attrition(No).<br>\n",
    "* Accuracy = (TP+TN)/(TP+FP+FN+TN)\n",
    "* Recall =(TP)/(TP+FN)\n",
    "* Precision =(FP/FP+TN)\n",
    "* F1 score: This score minimize both the False negative(FN) and False Positive(FN),the higher the better\n",
    "* The values can computed using a confusion matrix"
   ]
  },
  {
   "cell_type": "code",
   "execution_count": 117,
   "id": "03e9c555",
   "metadata": {},
   "outputs": [],
   "source": [
    "# defining a function to compute different metrics to check performance of a classification model built using sklearn\n",
    "def model_performance_classification_sklearn(model, predictors, target):\n",
    "\n",
    "        # predicting using the independent variables\n",
    "        pred = model.predict(predictors)\n",
    "        mae = mean_absolute_error(target,pred)  # to compute the mean absolute error using the target and predicted values\n",
    "        acc = accuracy_score(target, pred)  # to compute Accuracy using target and predicted values\n",
    "        recall = recall_score(target, pred)  # to compute Recall using target and predicted values\n",
    "        precision = precision_score(target, pred)  # to compute Precision using target and predicted values\n",
    "        f1 = f1_score(target, pred)  # to compute F1-score using target and predicted values\n",
    "\n",
    "        # creating a dataframe of metrics\n",
    "        df_perf = pd.DataFrame( {\"Mean absolute error\":mae,\"Accuracy\": acc,\"Recall\": recall,\"Precision\": precision,\"F1\": f1},index=[0],)\n",
    "\n",
    "        return df_perf"
   ]
  },
  {
   "cell_type": "code",
   "execution_count": 118,
   "id": "f39dcf09",
   "metadata": {},
   "outputs": [],
   "source": [
    "# Type of scoring used to compare parameter combinations\n",
    "scorer = metrics.make_scorer(metrics.recall_score)"
   ]
  },
  {
   "cell_type": "markdown",
   "id": "872ea0bd",
   "metadata": {},
   "source": [
    "### Model Building on original data"
   ]
  },
  {
   "cell_type": "code",
   "execution_count": 119,
   "id": "7e948978",
   "metadata": {},
   "outputs": [],
   "source": [
    "## Create a function to calculate the f-score\n",
    "#def evalerror(preds,dtrain):\n",
    " #   labels = dtrain.get_label()\n",
    "  #  preds = preds.reshape(-1,5)\n",
    "  #  preds = preds.argmax(axis=1)\n",
    "  #  f_score = f1_score(preds,labels,average='weighted')\n",
    "  #  return 'f1_score' , f_score,True\n",
    "    "
   ]
  },
  {
   "cell_type": "code",
   "execution_count": 120,
   "id": "a6648c75",
   "metadata": {},
   "outputs": [],
   "source": [
    "dtrain = lgb.Dataset(X_train,label=y_train)\n",
    "dvalid = lgb.Dataset(X_val,label=y_val)"
   ]
  },
  {
   "cell_type": "code",
   "execution_count": null,
   "id": "be99195c",
   "metadata": {},
   "outputs": [],
   "source": [
    "### Now lets first specify the lightgbm parameters a dictionary\n",
    "parameter = { 'objective':'binary' , 'metric':'auc',\n",
    "             'is_unbalance':'true', 'boosting':'rf','max_depth':7,'min_data_in_leaf':120,\n",
    "             'num_leaves':120, 'feature_fraction': 0.5,\n",
    "             'bagging_fraction':0.5,'bagging_freq':20,\n",
    "             'learning_rate':0.01 ,'verbose': -1    \n",
    "}"
   ]
  },
  {
   "cell_type": "code",
   "execution_count": null,
   "id": "6104508a",
   "metadata": {},
   "outputs": [],
   "source": [
    "lgb_model = lgb.train(parameter,dtrain,valid_sets=dvalid,num_boost_round=5000,callbacks=[lgb.early_stopping(stopping_rounds=100)])"
   ]
  },
  {
   "cell_type": "code",
   "execution_count": null,
   "id": "88e7e38a",
   "metadata": {},
   "outputs": [],
   "source": [
    "y_train_pred =lgb_model.predict(X_train)"
   ]
  },
  {
   "cell_type": "code",
   "execution_count": null,
   "id": "73caffea",
   "metadata": {},
   "outputs": [],
   "source": [
    "print(f\"The training AUC is {round(roc_auc_score(y_train,y_train_pred),4)}\")"
   ]
  },
  {
   "cell_type": "code",
   "execution_count": null,
   "id": "509f03d2",
   "metadata": {},
   "outputs": [],
   "source": [
    "y_valid_pred = lgb_model.predict(X_val)"
   ]
  },
  {
   "cell_type": "code",
   "execution_count": null,
   "id": "5aaf64af",
   "metadata": {},
   "outputs": [],
   "source": [
    "print(f\"The Validation AUC is {round(roc_auc_score(y_val,y_valid_pred),4)}\")"
   ]
  },
  {
   "cell_type": "markdown",
   "id": "ee5298b9",
   "metadata": {},
   "source": [
    "### Model Building with oversampled data"
   ]
  },
  {
   "cell_type": "markdown",
   "id": "b93d0d19",
   "metadata": {},
   "source": [
    "### Benchmark parameters"
   ]
  },
  {
   "cell_type": "code",
   "execution_count": null,
   "id": "55cfbfb2",
   "metadata": {},
   "outputs": [],
   "source": [
    "### Now lets first specify the lightgbm parameters a dictionary\n",
    "parameter = { 'objective':'binary' , 'metric':'auc',\n",
    "             'is_unbalance':'true', 'boosting':'rf','max_depth':8,'min_data_in_leaf':100,'num_trees':500,\n",
    "             'num_threads':16,'min_sum_hessian_in_leaf':100,\n",
    "             'num_leaves':255, 'feature_fraction': 0.226,\n",
    "             'bagging_fraction':0.226,'bagging_freq':25,\n",
    "             'learning_rate':0.1 ,'verbose': -1    \n",
    "}"
   ]
  },
  {
   "cell_type": "code",
   "execution_count": 121,
   "id": "598da43f",
   "metadata": {},
   "outputs": [],
   "source": [
    "# Synthetic Minority Over Sampling Technique\n",
    "sm = SMOTE(sampling_strategy=1, k_neighbors=5, random_state=1)\n",
    "X_train_over, y_train_over = sm.fit_resample(X_train, y_train)\n",
    "X_val_over, y_val_over = sm.fit_resample(X_val, y_val)"
   ]
  },
  {
   "cell_type": "code",
   "execution_count": 122,
   "id": "2bd3252b",
   "metadata": {},
   "outputs": [
    {
     "data": {
      "text/plain": [
       "0    344386\n",
       "1    344386\n",
       "Name: Target, dtype: int64"
      ]
     },
     "execution_count": 122,
     "metadata": {},
     "output_type": "execute_result"
    }
   ],
   "source": [
    "y_train_over.value_counts()   # code to counts the values in the target variable after oversampling"
   ]
  },
  {
   "cell_type": "code",
   "execution_count": 123,
   "id": "976d61a7",
   "metadata": {},
   "outputs": [],
   "source": [
    "dtrain1 = lgb.Dataset(X_train_over,label=y_train_over)\n",
    "dvalid1 = lgb.Dataset(X_val_over,label=y_val_over)"
   ]
  },
  {
   "cell_type": "code",
   "execution_count": 196,
   "id": "f1c57f5e",
   "metadata": {},
   "outputs": [],
   "source": [
    "### Now lets first specify the lightgbm parameters a dictionary\n",
    "parameter = { 'objective':'binary' , 'metric':'auc',\n",
    "             'is_unbalance':'true', 'boosting':'rf','max_depth':8,'min_data_in_leaf':100,'num_trees':5,\n",
    "             'num_threads':16,'min_sum_hessian_in_leaf':100,\n",
    "             'num_leaves':255, 'feature_fraction': 0.226,\n",
    "             'bagging_fraction':0.226,'bagging_freq':20,\n",
    "             'learning_rate':0.3,'verbose': -1    \n",
    "}"
   ]
  },
  {
   "cell_type": "code",
   "execution_count": 197,
   "id": "9ad332f3",
   "metadata": {},
   "outputs": [
    {
     "name": "stdout",
     "output_type": "stream",
     "text": [
      "Training until validation scores don't improve for 200 rounds\n",
      "Did not meet early stopping. Best iteration is:\n",
      "[4]\tvalid_0's auc: 0.908425\n"
     ]
    }
   ],
   "source": [
    "lgb_model2 = lgb.train(parameter,dtrain1,valid_sets=dvalid1,num_boost_round=5000,\n",
    "                      callbacks=[lgb.early_stopping(stopping_rounds=200)])"
   ]
  },
  {
   "cell_type": "code",
   "execution_count": 151,
   "id": "b4333d45",
   "metadata": {},
   "outputs": [],
   "source": [
    "y_train_pred_over =lgb_model2.predict(X_train_over)"
   ]
  },
  {
   "cell_type": "code",
   "execution_count": 230,
   "id": "4cdb589a",
   "metadata": {},
   "outputs": [
    {
     "name": "stdout",
     "output_type": "stream",
     "text": [
      "The training AUC is 0.889\n"
     ]
    }
   ],
   "source": [
    "print(f\"The training AUC is {round(roc_auc_score(y_train_over,y_train_pred_over),4)}\")"
   ]
  },
  {
   "cell_type": "code",
   "execution_count": 136,
   "id": "bd48183a",
   "metadata": {},
   "outputs": [],
   "source": [
    "y_valid_pred_over = lgb_model2.predict(X_val_over)"
   ]
  },
  {
   "cell_type": "code",
   "execution_count": 137,
   "id": "e0aa43d0",
   "metadata": {},
   "outputs": [
    {
     "name": "stdout",
     "output_type": "stream",
     "text": [
      "The Validation AUC is 0.9151\n"
     ]
    }
   ],
   "source": [
    "print(f\"The Validation AUC is {round(roc_auc_score(y_val_over,y_valid_pred_over),4)}\")"
   ]
  },
  {
   "cell_type": "markdown",
   "id": "e71741a6",
   "metadata": {},
   "source": [
    "### Model Building with undersampled data"
   ]
  },
  {
   "cell_type": "code",
   "execution_count": null,
   "id": "6a352daa",
   "metadata": {},
   "outputs": [],
   "source": [
    "## First apply random undersampling technique on the training data\n",
    "rus = RandomUnderSampler(random_state=1, sampling_strategy=1)\n",
    "X_train_un, y_train_un = rus.fit_resample(X_train, y_train)\n",
    "X_val_un, y_val_un = rus.fit_resample(X_val, y_val)"
   ]
  },
  {
   "cell_type": "code",
   "execution_count": null,
   "id": "253eb159",
   "metadata": {},
   "outputs": [],
   "source": [
    "## Now lets check if the data is balanced\n",
    "y_train_un.value_counts()"
   ]
  },
  {
   "cell_type": "code",
   "execution_count": null,
   "id": "282797e6",
   "metadata": {},
   "outputs": [],
   "source": [
    "dtrain2 = lgb.Dataset(X_train_un,label=y_train_un)\n",
    "dvalid2 = lgb.Dataset(X_val_un,label=y_val_un)"
   ]
  },
  {
   "cell_type": "code",
   "execution_count": null,
   "id": "41fb19ba",
   "metadata": {},
   "outputs": [],
   "source": [
    "### Now lets first specify the lightgbm parameters a dictionary\n",
    "parameters = { 'objective':'binary' , 'metric':'auc',\n",
    "             'is_unbalance':'false', 'boosting':'gbdt',\n",
    "             'num_leaves': 65, 'feature_fraction': 0.5,\n",
    "             'bagging_fraction':0.5,'bagging_freq':20,\n",
    "             'learning_rate':0.1 ,'verbose': -1    \n",
    "}"
   ]
  },
  {
   "cell_type": "code",
   "execution_count": null,
   "id": "e6445c85",
   "metadata": {},
   "outputs": [],
   "source": [
    "lgb_model3 = lgb.train(parameters,dtrain2,valid_sets=dvalid2,num_boost_round=5000,\n",
    "                      callbacks=[lgb.early_stopping(stopping_rounds=200)])"
   ]
  },
  {
   "cell_type": "code",
   "execution_count": null,
   "id": "e56355be",
   "metadata": {},
   "outputs": [],
   "source": [
    "y_train_pred_un =lgb_model3.predict(X_train_un)"
   ]
  },
  {
   "cell_type": "code",
   "execution_count": null,
   "id": "08fc5b32",
   "metadata": {},
   "outputs": [],
   "source": [
    "print(f\"The Validation AUC is {round(roc_auc_score(y_train_un,y_train_pred_un),4)}\")"
   ]
  },
  {
   "cell_type": "code",
   "execution_count": null,
   "id": "518318ed",
   "metadata": {},
   "outputs": [],
   "source": [
    "y_valid_pred_un = lgb_model3.predict(X_val_un)"
   ]
  },
  {
   "cell_type": "code",
   "execution_count": null,
   "id": "325af289",
   "metadata": {},
   "outputs": [],
   "source": [
    "print(f\"The Validation AUC is {round(roc_auc_score(y_val_un,y_valid_pred_un),4)}\")"
   ]
  },
  {
   "cell_type": "markdown",
   "id": "806e06df",
   "metadata": {},
   "source": [
    "#### Hyperparametric tuning "
   ]
  },
  {
   "cell_type": "code",
   "execution_count": 201,
   "id": "cf6ab4e9",
   "metadata": {},
   "outputs": [],
   "source": [
    "from lightgbm import LGBMClassifier\n",
    "seed = 0"
   ]
  },
  {
   "cell_type": "code",
   "execution_count": 204,
   "id": "ae556b55",
   "metadata": {},
   "outputs": [],
   "source": [
    "## Define the lightgbm classifier\n",
    "lgbm22 = LGBMClassifier( seed=seed,\n",
    " objective =\"binary\",force_row_wise=True)"
   ]
  },
  {
   "cell_type": "code",
   "execution_count": 205,
   "id": "94bfba67",
   "metadata": {},
   "outputs": [
    {
     "name": "stdout",
     "output_type": "stream",
     "text": [
      "[LightGBM] [Info] Number of positive: 344386, number of negative: 344386\n",
      "[LightGBM] [Info] Total Bins 2266\n",
      "[LightGBM] [Info] Number of data points in the train set: 688772, number of used features: 9\n",
      "[LightGBM] [Info] [binary:BoostFromScore]: pavg=0.500000 -> initscore=0.000000\n"
     ]
    },
    {
     "data": {
      "text/html": [
       "<style>#sk-container-id-2 {color: black;background-color: white;}#sk-container-id-2 pre{padding: 0;}#sk-container-id-2 div.sk-toggleable {background-color: white;}#sk-container-id-2 label.sk-toggleable__label {cursor: pointer;display: block;width: 100%;margin-bottom: 0;padding: 0.3em;box-sizing: border-box;text-align: center;}#sk-container-id-2 label.sk-toggleable__label-arrow:before {content: \"▸\";float: left;margin-right: 0.25em;color: #696969;}#sk-container-id-2 label.sk-toggleable__label-arrow:hover:before {color: black;}#sk-container-id-2 div.sk-estimator:hover label.sk-toggleable__label-arrow:before {color: black;}#sk-container-id-2 div.sk-toggleable__content {max-height: 0;max-width: 0;overflow: hidden;text-align: left;background-color: #f0f8ff;}#sk-container-id-2 div.sk-toggleable__content pre {margin: 0.2em;color: black;border-radius: 0.25em;background-color: #f0f8ff;}#sk-container-id-2 input.sk-toggleable__control:checked~div.sk-toggleable__content {max-height: 200px;max-width: 100%;overflow: auto;}#sk-container-id-2 input.sk-toggleable__control:checked~label.sk-toggleable__label-arrow:before {content: \"▾\";}#sk-container-id-2 div.sk-estimator input.sk-toggleable__control:checked~label.sk-toggleable__label {background-color: #d4ebff;}#sk-container-id-2 div.sk-label input.sk-toggleable__control:checked~label.sk-toggleable__label {background-color: #d4ebff;}#sk-container-id-2 input.sk-hidden--visually {border: 0;clip: rect(1px 1px 1px 1px);clip: rect(1px, 1px, 1px, 1px);height: 1px;margin: -1px;overflow: hidden;padding: 0;position: absolute;width: 1px;}#sk-container-id-2 div.sk-estimator {font-family: monospace;background-color: #f0f8ff;border: 1px dotted black;border-radius: 0.25em;box-sizing: border-box;margin-bottom: 0.5em;}#sk-container-id-2 div.sk-estimator:hover {background-color: #d4ebff;}#sk-container-id-2 div.sk-parallel-item::after {content: \"\";width: 100%;border-bottom: 1px solid gray;flex-grow: 1;}#sk-container-id-2 div.sk-label:hover label.sk-toggleable__label {background-color: #d4ebff;}#sk-container-id-2 div.sk-serial::before {content: \"\";position: absolute;border-left: 1px solid gray;box-sizing: border-box;top: 0;bottom: 0;left: 50%;z-index: 0;}#sk-container-id-2 div.sk-serial {display: flex;flex-direction: column;align-items: center;background-color: white;padding-right: 0.2em;padding-left: 0.2em;position: relative;}#sk-container-id-2 div.sk-item {position: relative;z-index: 1;}#sk-container-id-2 div.sk-parallel {display: flex;align-items: stretch;justify-content: center;background-color: white;position: relative;}#sk-container-id-2 div.sk-item::before, #sk-container-id-2 div.sk-parallel-item::before {content: \"\";position: absolute;border-left: 1px solid gray;box-sizing: border-box;top: 0;bottom: 0;left: 50%;z-index: -1;}#sk-container-id-2 div.sk-parallel-item {display: flex;flex-direction: column;z-index: 1;position: relative;background-color: white;}#sk-container-id-2 div.sk-parallel-item:first-child::after {align-self: flex-end;width: 50%;}#sk-container-id-2 div.sk-parallel-item:last-child::after {align-self: flex-start;width: 50%;}#sk-container-id-2 div.sk-parallel-item:only-child::after {width: 0;}#sk-container-id-2 div.sk-dashed-wrapped {border: 1px dashed gray;margin: 0 0.4em 0.5em 0.4em;box-sizing: border-box;padding-bottom: 0.4em;background-color: white;}#sk-container-id-2 div.sk-label label {font-family: monospace;font-weight: bold;display: inline-block;line-height: 1.2em;}#sk-container-id-2 div.sk-label-container {text-align: center;}#sk-container-id-2 div.sk-container {/* jupyter's `normalize.less` sets `[hidden] { display: none; }` but bootstrap.min.css set `[hidden] { display: none !important; }` so we also need the `!important` here to be able to override the default hidden behavior on the sphinx rendered scikit-learn.org. See: https://github.com/scikit-learn/scikit-learn/issues/21755 */display: inline-block !important;position: relative;}#sk-container-id-2 div.sk-text-repr-fallback {display: none;}</style><div id=\"sk-container-id-2\" class=\"sk-top-container\"><div class=\"sk-text-repr-fallback\"><pre>LGBMClassifier(force_row_wise=True, objective=&#x27;binary&#x27;, seed=0)</pre><b>In a Jupyter environment, please rerun this cell to show the HTML representation or trust the notebook. <br />On GitHub, the HTML representation is unable to render, please try loading this page with nbviewer.org.</b></div><div class=\"sk-container\" hidden><div class=\"sk-item\"><div class=\"sk-estimator sk-toggleable\"><input class=\"sk-toggleable__control sk-hidden--visually\" id=\"sk-estimator-id-2\" type=\"checkbox\" checked><label for=\"sk-estimator-id-2\" class=\"sk-toggleable__label sk-toggleable__label-arrow\">LGBMClassifier</label><div class=\"sk-toggleable__content\"><pre>LGBMClassifier(force_row_wise=True, objective=&#x27;binary&#x27;, seed=0)</pre></div></div></div></div></div>"
      ],
      "text/plain": [
       "LGBMClassifier(force_row_wise=True, objective='binary', seed=0)"
      ]
     },
     "execution_count": 205,
     "metadata": {},
     "output_type": "execute_result"
    }
   ],
   "source": [
    "## Fit the model \n",
    "lgbm22.fit(X_train_over,y_train_over)"
   ]
  },
  {
   "cell_type": "code",
   "execution_count": 206,
   "id": "5576d76b",
   "metadata": {},
   "outputs": [],
   "source": [
    "test_data[\"Target\"] = np.where(lgbm22.predict(X_test)>=0.5,1,0)"
   ]
  },
  {
   "cell_type": "code",
   "execution_count": 207,
   "id": "12bb13d5",
   "metadata": {},
   "outputs": [],
   "source": [
    "### Make predictions\n",
    "y_pred = np.where(lgbm22.predict(X_test)>=0.5,1,0)"
   ]
  },
  {
   "cell_type": "code",
   "execution_count": 208,
   "id": "be41323a",
   "metadata": {},
   "outputs": [
    {
     "name": "stdout",
     "output_type": "stream",
     "text": [
      "1.0\n"
     ]
    }
   ],
   "source": [
    "print(lgbm22.score(X_test,y_pred))"
   ]
  },
  {
   "cell_type": "code",
   "execution_count": 229,
   "id": "4ca9567c",
   "metadata": {},
   "outputs": [],
   "source": [
    "## Define the model again\n",
    "lgbm_params ={\n",
    "    'n_estimators':[100,200,300],\n",
    "    'learning_rate':[0.01,0.1,0.3],\n",
    "    'num_leaves': [20,50,80,100]\n",
    "}\n",
    "## Define the lightgbm classifier\n",
    "lgbm23 = LGBMClassifier(seed=seed,\n",
    " objective =\"binary\"\n",
    ")"
   ]
  },
  {
   "cell_type": "code",
   "execution_count": 230,
   "id": "28d19f20",
   "metadata": {},
   "outputs": [
    {
     "name": "stdout",
     "output_type": "stream",
     "text": [
      "[LightGBM] [Info] Number of positive: 344386, number of negative: 344386\n",
      "[LightGBM] [Info] Auto-choosing row-wise multi-threading, the overhead of testing was 0.062744 seconds.\n",
      "You can set `force_row_wise=true` to remove the overhead.\n",
      "And if memory is not enough, you can set `force_col_wise=true`.\n",
      "[LightGBM] [Info] Total Bins 2266\n",
      "[LightGBM] [Info] Number of data points in the train set: 688772, number of used features: 9\n",
      "[LightGBM] [Info] [binary:BoostFromScore]: pavg=0.500000 -> initscore=0.000000\n"
     ]
    }
   ],
   "source": [
    "gridsearch_cv = GridSearchCV(\n",
    "estimator =lgbm23,param_grid=lgbm_params,\n",
    "n_jobs=-1, cv=3,\n",
    "scoring=\"accuracy\",error_score =0)\n",
    "grid_result = gridsearch_cv.fit(X_train_over,y_train_over)"
   ]
  },
  {
   "cell_type": "code",
   "execution_count": 217,
   "id": "58dacb3f",
   "metadata": {},
   "outputs": [
    {
     "name": "stdout",
     "output_type": "stream",
     "text": [
      "Fitting 5 folds for each of 5 candidates, totalling 25 fits\n",
      "[LightGBM] [Info] Number of positive: 344386, number of negative: 344386\n",
      "[LightGBM] [Info] Total Bins 2266\n",
      "[LightGBM] [Info] Number of data points in the train set: 688772, number of used features: 9\n",
      "[LightGBM] [Info] [binary:BoostFromScore]: pavg=0.500000 -> initscore=0.000000\n",
      "[LightGBM] [Warning] No further splits with positive gain, best gain: -inf\n",
      "[LightGBM] [Warning] No further splits with positive gain, best gain: -inf\n",
      "[LightGBM] [Warning] No further splits with positive gain, best gain: -inf\n",
      "[LightGBM] [Warning] No further splits with positive gain, best gain: -inf\n",
      "[LightGBM] [Warning] No further splits with positive gain, best gain: -inf\n",
      "[LightGBM] [Warning] No further splits with positive gain, best gain: -inf\n",
      "[LightGBM] [Warning] No further splits with positive gain, best gain: -inf\n",
      "[LightGBM] [Warning] No further splits with positive gain, best gain: -inf\n",
      "[LightGBM] [Warning] No further splits with positive gain, best gain: -inf\n",
      "[LightGBM] [Warning] No further splits with positive gain, best gain: -inf\n",
      "[LightGBM] [Warning] No further splits with positive gain, best gain: -inf\n",
      "[LightGBM] [Warning] No further splits with positive gain, best gain: -inf\n",
      "[LightGBM] [Warning] No further splits with positive gain, best gain: -inf\n",
      "[LightGBM] [Warning] No further splits with positive gain, best gain: -inf\n",
      "[LightGBM] [Warning] No further splits with positive gain, best gain: -inf\n",
      "[LightGBM] [Warning] No further splits with positive gain, best gain: -inf\n",
      "[LightGBM] [Warning] No further splits with positive gain, best gain: -inf\n",
      "[LightGBM] [Warning] No further splits with positive gain, best gain: -inf\n",
      "[LightGBM] [Warning] No further splits with positive gain, best gain: -inf\n",
      "[LightGBM] [Warning] No further splits with positive gain, best gain: -inf\n",
      "[LightGBM] [Warning] No further splits with positive gain, best gain: -inf\n",
      "[LightGBM] [Warning] No further splits with positive gain, best gain: -inf\n",
      "[LightGBM] [Warning] No further splits with positive gain, best gain: -inf\n",
      "[LightGBM] [Warning] No further splits with positive gain, best gain: -inf\n",
      "[LightGBM] [Warning] No further splits with positive gain, best gain: -inf\n",
      "[LightGBM] [Warning] No further splits with positive gain, best gain: -inf\n",
      "[LightGBM] [Warning] No further splits with positive gain, best gain: -inf\n",
      "[LightGBM] [Warning] No further splits with positive gain, best gain: -inf\n",
      "[LightGBM] [Warning] No further splits with positive gain, best gain: -inf\n",
      "[LightGBM] [Warning] No further splits with positive gain, best gain: -inf\n",
      "[LightGBM] [Warning] No further splits with positive gain, best gain: -inf\n",
      "[LightGBM] [Warning] No further splits with positive gain, best gain: -inf\n",
      "[LightGBM] [Warning] No further splits with positive gain, best gain: -inf\n",
      "[LightGBM] [Warning] No further splits with positive gain, best gain: -inf\n",
      "[LightGBM] [Warning] No further splits with positive gain, best gain: -inf\n",
      "[LightGBM] [Warning] No further splits with positive gain, best gain: -inf\n",
      "[LightGBM] [Warning] No further splits with positive gain, best gain: -inf\n",
      "[LightGBM] [Warning] No further splits with positive gain, best gain: -inf\n",
      "[LightGBM] [Warning] No further splits with positive gain, best gain: -inf\n",
      "[LightGBM] [Warning] No further splits with positive gain, best gain: -inf\n",
      "[LightGBM] [Warning] No further splits with positive gain, best gain: -inf\n",
      "[LightGBM] [Warning] No further splits with positive gain, best gain: -inf\n",
      "[LightGBM] [Warning] No further splits with positive gain, best gain: -inf\n",
      "[LightGBM] [Warning] No further splits with positive gain, best gain: -inf\n",
      "[LightGBM] [Warning] No further splits with positive gain, best gain: -inf\n",
      "[LightGBM] [Warning] No further splits with positive gain, best gain: -inf\n",
      "[LightGBM] [Info] Number of positive: 344386, number of negative: 344386\n",
      "[LightGBM] [Info] Total Bins 2266\n",
      "[LightGBM] [Info] Number of data points in the train set: 688772, number of used features: 9\n",
      "[LightGBM] [Info] [binary:BoostFromScore]: pavg=0.500000 -> initscore=0.000000\n",
      "[LightGBM] [Warning] No further splits with positive gain, best gain: -inf\n",
      "[LightGBM] [Warning] No further splits with positive gain, best gain: -inf\n",
      "[LightGBM] [Warning] No further splits with positive gain, best gain: -inf\n",
      "[LightGBM] [Warning] No further splits with positive gain, best gain: -inf\n",
      "[LightGBM] [Warning] No further splits with positive gain, best gain: -inf\n",
      "[LightGBM] [Warning] No further splits with positive gain, best gain: -inf\n",
      "[LightGBM] [Warning] No further splits with positive gain, best gain: -inf\n",
      "[LightGBM] [Warning] No further splits with positive gain, best gain: -inf\n",
      "[LightGBM] [Warning] No further splits with positive gain, best gain: -inf\n",
      "[LightGBM] [Warning] No further splits with positive gain, best gain: -inf\n",
      "[LightGBM] [Warning] No further splits with positive gain, best gain: -inf\n",
      "[LightGBM] [Warning] No further splits with positive gain, best gain: -inf\n",
      "[LightGBM] [Warning] No further splits with positive gain, best gain: -inf\n",
      "[LightGBM] [Warning] No further splits with positive gain, best gain: -inf\n",
      "[LightGBM] [Warning] No further splits with positive gain, best gain: -inf\n",
      "[LightGBM] [Warning] No further splits with positive gain, best gain: -inf\n",
      "[LightGBM] [Warning] No further splits with positive gain, best gain: -inf\n",
      "[LightGBM] [Warning] No further splits with positive gain, best gain: -inf\n",
      "[LightGBM] [Warning] No further splits with positive gain, best gain: -inf\n",
      "[LightGBM] [Warning] No further splits with positive gain, best gain: -inf\n",
      "[LightGBM] [Warning] No further splits with positive gain, best gain: -inf\n",
      "[LightGBM] [Warning] No further splits with positive gain, best gain: -inf\n",
      "[LightGBM] [Warning] No further splits with positive gain, best gain: -inf\n",
      "[LightGBM] [Warning] No further splits with positive gain, best gain: -inf\n",
      "[LightGBM] [Warning] No further splits with positive gain, best gain: -inf\n",
      "[LightGBM] [Warning] No further splits with positive gain, best gain: -inf\n",
      "[LightGBM] [Warning] No further splits with positive gain, best gain: -inf\n",
      "[LightGBM] [Warning] No further splits with positive gain, best gain: -inf\n",
      "[LightGBM] [Warning] No further splits with positive gain, best gain: -inf\n",
      "[LightGBM] [Warning] No further splits with positive gain, best gain: -inf\n",
      "[LightGBM] [Warning] No further splits with positive gain, best gain: -inf\n",
      "[LightGBM] [Warning] No further splits with positive gain, best gain: -inf\n",
      "[LightGBM] [Warning] No further splits with positive gain, best gain: -inf\n",
      "[LightGBM] [Warning] No further splits with positive gain, best gain: -inf\n",
      "[LightGBM] [Warning] No further splits with positive gain, best gain: -inf\n",
      "[LightGBM] [Warning] No further splits with positive gain, best gain: -inf\n",
      "[LightGBM] [Warning] No further splits with positive gain, best gain: -inf\n",
      "[LightGBM] [Warning] No further splits with positive gain, best gain: -inf\n",
      "[LightGBM] [Warning] No further splits with positive gain, best gain: -inf\n",
      "[LightGBM] [Warning] No further splits with positive gain, best gain: -inf\n",
      "[LightGBM] [Warning] No further splits with positive gain, best gain: -inf\n",
      "[LightGBM] [Warning] No further splits with positive gain, best gain: -inf\n",
      "[LightGBM] [Warning] No further splits with positive gain, best gain: -inf\n",
      "[LightGBM] [Warning] No further splits with positive gain, best gain: -inf\n",
      "[LightGBM] [Warning] No further splits with positive gain, best gain: -inf\n",
      "[LightGBM] [Warning] No further splits with positive gain, best gain: -inf\n",
      "CPU times: total: 1min 11s\n",
      "Wall time: 11min 47s\n"
     ]
    },
    {
     "data": {
      "text/html": [
       "<style>#sk-container-id-4 {color: black;background-color: white;}#sk-container-id-4 pre{padding: 0;}#sk-container-id-4 div.sk-toggleable {background-color: white;}#sk-container-id-4 label.sk-toggleable__label {cursor: pointer;display: block;width: 100%;margin-bottom: 0;padding: 0.3em;box-sizing: border-box;text-align: center;}#sk-container-id-4 label.sk-toggleable__label-arrow:before {content: \"▸\";float: left;margin-right: 0.25em;color: #696969;}#sk-container-id-4 label.sk-toggleable__label-arrow:hover:before {color: black;}#sk-container-id-4 div.sk-estimator:hover label.sk-toggleable__label-arrow:before {color: black;}#sk-container-id-4 div.sk-toggleable__content {max-height: 0;max-width: 0;overflow: hidden;text-align: left;background-color: #f0f8ff;}#sk-container-id-4 div.sk-toggleable__content pre {margin: 0.2em;color: black;border-radius: 0.25em;background-color: #f0f8ff;}#sk-container-id-4 input.sk-toggleable__control:checked~div.sk-toggleable__content {max-height: 200px;max-width: 100%;overflow: auto;}#sk-container-id-4 input.sk-toggleable__control:checked~label.sk-toggleable__label-arrow:before {content: \"▾\";}#sk-container-id-4 div.sk-estimator input.sk-toggleable__control:checked~label.sk-toggleable__label {background-color: #d4ebff;}#sk-container-id-4 div.sk-label input.sk-toggleable__control:checked~label.sk-toggleable__label {background-color: #d4ebff;}#sk-container-id-4 input.sk-hidden--visually {border: 0;clip: rect(1px 1px 1px 1px);clip: rect(1px, 1px, 1px, 1px);height: 1px;margin: -1px;overflow: hidden;padding: 0;position: absolute;width: 1px;}#sk-container-id-4 div.sk-estimator {font-family: monospace;background-color: #f0f8ff;border: 1px dotted black;border-radius: 0.25em;box-sizing: border-box;margin-bottom: 0.5em;}#sk-container-id-4 div.sk-estimator:hover {background-color: #d4ebff;}#sk-container-id-4 div.sk-parallel-item::after {content: \"\";width: 100%;border-bottom: 1px solid gray;flex-grow: 1;}#sk-container-id-4 div.sk-label:hover label.sk-toggleable__label {background-color: #d4ebff;}#sk-container-id-4 div.sk-serial::before {content: \"\";position: absolute;border-left: 1px solid gray;box-sizing: border-box;top: 0;bottom: 0;left: 50%;z-index: 0;}#sk-container-id-4 div.sk-serial {display: flex;flex-direction: column;align-items: center;background-color: white;padding-right: 0.2em;padding-left: 0.2em;position: relative;}#sk-container-id-4 div.sk-item {position: relative;z-index: 1;}#sk-container-id-4 div.sk-parallel {display: flex;align-items: stretch;justify-content: center;background-color: white;position: relative;}#sk-container-id-4 div.sk-item::before, #sk-container-id-4 div.sk-parallel-item::before {content: \"\";position: absolute;border-left: 1px solid gray;box-sizing: border-box;top: 0;bottom: 0;left: 50%;z-index: -1;}#sk-container-id-4 div.sk-parallel-item {display: flex;flex-direction: column;z-index: 1;position: relative;background-color: white;}#sk-container-id-4 div.sk-parallel-item:first-child::after {align-self: flex-end;width: 50%;}#sk-container-id-4 div.sk-parallel-item:last-child::after {align-self: flex-start;width: 50%;}#sk-container-id-4 div.sk-parallel-item:only-child::after {width: 0;}#sk-container-id-4 div.sk-dashed-wrapped {border: 1px dashed gray;margin: 0 0.4em 0.5em 0.4em;box-sizing: border-box;padding-bottom: 0.4em;background-color: white;}#sk-container-id-4 div.sk-label label {font-family: monospace;font-weight: bold;display: inline-block;line-height: 1.2em;}#sk-container-id-4 div.sk-label-container {text-align: center;}#sk-container-id-4 div.sk-container {/* jupyter's `normalize.less` sets `[hidden] { display: none; }` but bootstrap.min.css set `[hidden] { display: none !important; }` so we also need the `!important` here to be able to override the default hidden behavior on the sphinx rendered scikit-learn.org. See: https://github.com/scikit-learn/scikit-learn/issues/21755 */display: inline-block !important;position: relative;}#sk-container-id-4 div.sk-text-repr-fallback {display: none;}</style><div id=\"sk-container-id-4\" class=\"sk-top-container\"><div class=\"sk-text-repr-fallback\"><pre>LGBMClassifier(force_row_wise=True, learning_rate=0.3, max_depth=4,\n",
       "               n_estimators=300, num_leaves=50, objective=&#x27;binary&#x27;, seed=0)</pre><b>In a Jupyter environment, please rerun this cell to show the HTML representation or trust the notebook. <br />On GitHub, the HTML representation is unable to render, please try loading this page with nbviewer.org.</b></div><div class=\"sk-container\" hidden><div class=\"sk-item\"><div class=\"sk-estimator sk-toggleable\"><input class=\"sk-toggleable__control sk-hidden--visually\" id=\"sk-estimator-id-4\" type=\"checkbox\" checked><label for=\"sk-estimator-id-4\" class=\"sk-toggleable__label sk-toggleable__label-arrow\">LGBMClassifier</label><div class=\"sk-toggleable__content\"><pre>LGBMClassifier(force_row_wise=True, learning_rate=0.3, max_depth=4,\n",
       "               n_estimators=300, num_leaves=50, objective=&#x27;binary&#x27;, seed=0)</pre></div></div></div></div></div>"
      ],
      "text/plain": [
       "LGBMClassifier(force_row_wise=True, learning_rate=0.3, max_depth=4,\n",
       "               n_estimators=300, num_leaves=50, objective='binary', seed=0)"
      ]
     },
     "execution_count": 217,
     "metadata": {},
     "output_type": "execute_result"
    }
   ],
   "source": [
    "%%time \n",
    "# defining model the lightgbm classifier\n",
    "lgbm23 = LGBMClassifier(seed=seed,objective =\"binary\",force_row_wise=True)\n",
    "# Parameter grid to pass in RandomSearchCV\n",
    "param_grid = {'max_depth': np.arange(2,6),\n",
    "              'n_estimators':[100,200,300],\n",
    "    'learning_rate':[0.01,0.1,0.3],\n",
    "    'num_leaves': [20,50,80,100]\n",
    "}\n",
    "#Calling RandomizedSearchCV\n",
    "randomized_cv = RandomizedSearchCV(estimator=lgbm23, param_distributions=param_grid, n_iter=5, n_jobs = -1,\n",
    "                                   scoring='roc_auc', cv=5,verbose=3)\n",
    "\n",
    "#Fitting parameters in RandomizedSearchCV\n",
    "randomized_cv=randomized_cv.fit(X_train_over,y_train_over)\n",
    "# Set the clf to the best combination of parameters and fit the tuned model\n",
    "lgbm_model_tuned=randomized_cv.best_estimator_\n",
    "lgbm_model_tuned.fit(X_train_over,y_train_over)"
   ]
  },
  {
   "cell_type": "code",
   "execution_count": 218,
   "id": "7e69afb4",
   "metadata": {},
   "outputs": [
    {
     "name": "stdout",
     "output_type": "stream",
     "text": [
      "Performance on oversampled data\n"
     ]
    },
    {
     "data": {
      "text/html": [
       "<div>\n",
       "<style scoped>\n",
       "    .dataframe tbody tr th:only-of-type {\n",
       "        vertical-align: middle;\n",
       "    }\n",
       "\n",
       "    .dataframe tbody tr th {\n",
       "        vertical-align: top;\n",
       "    }\n",
       "\n",
       "    .dataframe thead th {\n",
       "        text-align: right;\n",
       "    }\n",
       "</style>\n",
       "<table border=\"1\" class=\"dataframe\">\n",
       "  <thead>\n",
       "    <tr style=\"text-align: right;\">\n",
       "      <th></th>\n",
       "      <th>Mean absolute error</th>\n",
       "      <th>Accuracy</th>\n",
       "      <th>Recall</th>\n",
       "      <th>Precision</th>\n",
       "      <th>F1</th>\n",
       "    </tr>\n",
       "  </thead>\n",
       "  <tbody>\n",
       "    <tr>\n",
       "      <th>0</th>\n",
       "      <td>0.066</td>\n",
       "      <td>0.934</td>\n",
       "      <td>0.932</td>\n",
       "      <td>0.935</td>\n",
       "      <td>0.933</td>\n",
       "    </tr>\n",
       "  </tbody>\n",
       "</table>\n",
       "</div>"
      ],
      "text/plain": [
       "   Mean absolute error  Accuracy  Recall  Precision    F1\n",
       "0                0.066     0.934   0.932      0.935 0.933"
      ]
     },
     "execution_count": 218,
     "metadata": {},
     "output_type": "execute_result"
    }
   ],
   "source": [
    "## Code to check the performance on the oversampled training set\n",
    "print(\"Performance on oversampled data\")\n",
    "lightgbm_train_perf = model_performance_classification_sklearn(lgbm_model_tuned, X_train_over, y_train_over)\n",
    "lightgbm_train_perf"
   ]
  },
  {
   "cell_type": "code",
   "execution_count": 219,
   "id": "3ea91ab7",
   "metadata": {},
   "outputs": [
    {
     "name": "stdout",
     "output_type": "stream",
     "text": [
      "Performance on validation dataset\n"
     ]
    },
    {
     "data": {
      "text/html": [
       "<div>\n",
       "<style scoped>\n",
       "    .dataframe tbody tr th:only-of-type {\n",
       "        vertical-align: middle;\n",
       "    }\n",
       "\n",
       "    .dataframe tbody tr th {\n",
       "        vertical-align: top;\n",
       "    }\n",
       "\n",
       "    .dataframe thead th {\n",
       "        text-align: right;\n",
       "    }\n",
       "</style>\n",
       "<table border=\"1\" class=\"dataframe\">\n",
       "  <thead>\n",
       "    <tr style=\"text-align: right;\">\n",
       "      <th></th>\n",
       "      <th>Mean absolute error</th>\n",
       "      <th>Accuracy</th>\n",
       "      <th>Recall</th>\n",
       "      <th>Precision</th>\n",
       "      <th>F1</th>\n",
       "    </tr>\n",
       "  </thead>\n",
       "  <tbody>\n",
       "    <tr>\n",
       "      <th>0</th>\n",
       "      <td>0.065</td>\n",
       "      <td>0.935</td>\n",
       "      <td>0.936</td>\n",
       "      <td>0.934</td>\n",
       "      <td>0.935</td>\n",
       "    </tr>\n",
       "  </tbody>\n",
       "</table>\n",
       "</div>"
      ],
      "text/plain": [
       "   Mean absolute error  Accuracy  Recall  Precision    F1\n",
       "0                0.065     0.935   0.936      0.934 0.935"
      ]
     },
     "execution_count": 219,
     "metadata": {},
     "output_type": "execute_result"
    }
   ],
   "source": [
    "## Code to check the performance on validation\n",
    "print(\"Performance on validation dataset\")\n",
    "lightgbm_val_perf = model_performance_classification_sklearn(lgbm_model_tuned,X_val_over,y_val_over) \n",
    "lightgbm_val_perf"
   ]
  },
  {
   "cell_type": "code",
   "execution_count": 231,
   "id": "d526465e",
   "metadata": {},
   "outputs": [],
   "source": [
    "### Set the best parameters\n",
    "final_model = lgbm23.set_params(**grid_result.best_params_)"
   ]
  },
  {
   "cell_type": "code",
   "execution_count": 232,
   "id": "53bad83e",
   "metadata": {},
   "outputs": [
    {
     "name": "stdout",
     "output_type": "stream",
     "text": [
      "[LightGBM] [Info] Number of positive: 344386, number of negative: 344386\n",
      "[LightGBM] [Info] Auto-choosing col-wise multi-threading, the overhead of testing was 0.091620 seconds.\n",
      "You can set `force_col_wise=true` to remove the overhead.\n",
      "[LightGBM] [Info] Total Bins 2266\n",
      "[LightGBM] [Info] Number of data points in the train set: 688772, number of used features: 9\n",
      "[LightGBM] [Info] [binary:BoostFromScore]: pavg=0.500000 -> initscore=0.000000\n"
     ]
    },
    {
     "data": {
      "text/html": [
       "<style>#sk-container-id-5 {color: black;background-color: white;}#sk-container-id-5 pre{padding: 0;}#sk-container-id-5 div.sk-toggleable {background-color: white;}#sk-container-id-5 label.sk-toggleable__label {cursor: pointer;display: block;width: 100%;margin-bottom: 0;padding: 0.3em;box-sizing: border-box;text-align: center;}#sk-container-id-5 label.sk-toggleable__label-arrow:before {content: \"▸\";float: left;margin-right: 0.25em;color: #696969;}#sk-container-id-5 label.sk-toggleable__label-arrow:hover:before {color: black;}#sk-container-id-5 div.sk-estimator:hover label.sk-toggleable__label-arrow:before {color: black;}#sk-container-id-5 div.sk-toggleable__content {max-height: 0;max-width: 0;overflow: hidden;text-align: left;background-color: #f0f8ff;}#sk-container-id-5 div.sk-toggleable__content pre {margin: 0.2em;color: black;border-radius: 0.25em;background-color: #f0f8ff;}#sk-container-id-5 input.sk-toggleable__control:checked~div.sk-toggleable__content {max-height: 200px;max-width: 100%;overflow: auto;}#sk-container-id-5 input.sk-toggleable__control:checked~label.sk-toggleable__label-arrow:before {content: \"▾\";}#sk-container-id-5 div.sk-estimator input.sk-toggleable__control:checked~label.sk-toggleable__label {background-color: #d4ebff;}#sk-container-id-5 div.sk-label input.sk-toggleable__control:checked~label.sk-toggleable__label {background-color: #d4ebff;}#sk-container-id-5 input.sk-hidden--visually {border: 0;clip: rect(1px 1px 1px 1px);clip: rect(1px, 1px, 1px, 1px);height: 1px;margin: -1px;overflow: hidden;padding: 0;position: absolute;width: 1px;}#sk-container-id-5 div.sk-estimator {font-family: monospace;background-color: #f0f8ff;border: 1px dotted black;border-radius: 0.25em;box-sizing: border-box;margin-bottom: 0.5em;}#sk-container-id-5 div.sk-estimator:hover {background-color: #d4ebff;}#sk-container-id-5 div.sk-parallel-item::after {content: \"\";width: 100%;border-bottom: 1px solid gray;flex-grow: 1;}#sk-container-id-5 div.sk-label:hover label.sk-toggleable__label {background-color: #d4ebff;}#sk-container-id-5 div.sk-serial::before {content: \"\";position: absolute;border-left: 1px solid gray;box-sizing: border-box;top: 0;bottom: 0;left: 50%;z-index: 0;}#sk-container-id-5 div.sk-serial {display: flex;flex-direction: column;align-items: center;background-color: white;padding-right: 0.2em;padding-left: 0.2em;position: relative;}#sk-container-id-5 div.sk-item {position: relative;z-index: 1;}#sk-container-id-5 div.sk-parallel {display: flex;align-items: stretch;justify-content: center;background-color: white;position: relative;}#sk-container-id-5 div.sk-item::before, #sk-container-id-5 div.sk-parallel-item::before {content: \"\";position: absolute;border-left: 1px solid gray;box-sizing: border-box;top: 0;bottom: 0;left: 50%;z-index: -1;}#sk-container-id-5 div.sk-parallel-item {display: flex;flex-direction: column;z-index: 1;position: relative;background-color: white;}#sk-container-id-5 div.sk-parallel-item:first-child::after {align-self: flex-end;width: 50%;}#sk-container-id-5 div.sk-parallel-item:last-child::after {align-self: flex-start;width: 50%;}#sk-container-id-5 div.sk-parallel-item:only-child::after {width: 0;}#sk-container-id-5 div.sk-dashed-wrapped {border: 1px dashed gray;margin: 0 0.4em 0.5em 0.4em;box-sizing: border-box;padding-bottom: 0.4em;background-color: white;}#sk-container-id-5 div.sk-label label {font-family: monospace;font-weight: bold;display: inline-block;line-height: 1.2em;}#sk-container-id-5 div.sk-label-container {text-align: center;}#sk-container-id-5 div.sk-container {/* jupyter's `normalize.less` sets `[hidden] { display: none; }` but bootstrap.min.css set `[hidden] { display: none !important; }` so we also need the `!important` here to be able to override the default hidden behavior on the sphinx rendered scikit-learn.org. See: https://github.com/scikit-learn/scikit-learn/issues/21755 */display: inline-block !important;position: relative;}#sk-container-id-5 div.sk-text-repr-fallback {display: none;}</style><div id=\"sk-container-id-5\" class=\"sk-top-container\"><div class=\"sk-text-repr-fallback\"><pre>LGBMClassifier(learning_rate=0.3, n_estimators=300, num_leaves=50,\n",
       "               objective=&#x27;binary&#x27;, seed=0)</pre><b>In a Jupyter environment, please rerun this cell to show the HTML representation or trust the notebook. <br />On GitHub, the HTML representation is unable to render, please try loading this page with nbviewer.org.</b></div><div class=\"sk-container\" hidden><div class=\"sk-item\"><div class=\"sk-estimator sk-toggleable\"><input class=\"sk-toggleable__control sk-hidden--visually\" id=\"sk-estimator-id-5\" type=\"checkbox\" checked><label for=\"sk-estimator-id-5\" class=\"sk-toggleable__label sk-toggleable__label-arrow\">LGBMClassifier</label><div class=\"sk-toggleable__content\"><pre>LGBMClassifier(learning_rate=0.3, n_estimators=300, num_leaves=50,\n",
       "               objective=&#x27;binary&#x27;, seed=0)</pre></div></div></div></div></div>"
      ],
      "text/plain": [
       "LGBMClassifier(learning_rate=0.3, n_estimators=300, num_leaves=50,\n",
       "               objective='binary', seed=0)"
      ]
     },
     "execution_count": 232,
     "metadata": {},
     "output_type": "execute_result"
    }
   ],
   "source": [
    "### Fit the final model\n",
    "final_model.fit(X_train_over,y_train_over)"
   ]
  },
  {
   "cell_type": "code",
   "execution_count": 234,
   "id": "e4a5acf6",
   "metadata": {},
   "outputs": [],
   "source": [
    "y_pred = final_model.predict(X_test)"
   ]
  },
  {
   "cell_type": "code",
   "execution_count": 236,
   "id": "046ed56a",
   "metadata": {},
   "outputs": [
    {
     "name": "stdout",
     "output_type": "stream",
     "text": [
      "1.0\n"
     ]
    }
   ],
   "source": [
    "### Summarize the results\n",
    "print(lgbm23.score(X_test,y_pred))"
   ]
  },
  {
   "cell_type": "markdown",
   "id": "60d7d246",
   "metadata": {},
   "source": [
    "### Selecting the best performing model"
   ]
  },
  {
   "cell_type": "code",
   "execution_count": null,
   "id": "f034d856",
   "metadata": {},
   "outputs": [],
   "source": [
    "test_data.head()"
   ]
  },
  {
   "cell_type": "code",
   "execution_count": 237,
   "id": "5e047d84",
   "metadata": {},
   "outputs": [],
   "source": [
    "# Code   to predict  the target  variable using the best model on the  testing dataset\n",
    "test_data[\"Target\"] = np.where(lgbm23.predict(X_test)>0.5,1,0)"
   ]
  },
  {
   "cell_type": "code",
   "execution_count": 238,
   "id": "54903ff7",
   "metadata": {},
   "outputs": [
    {
     "data": {
      "text/html": [
       "<div>\n",
       "<style scoped>\n",
       "    .dataframe tbody tr th:only-of-type {\n",
       "        vertical-align: middle;\n",
       "    }\n",
       "\n",
       "    .dataframe tbody tr th {\n",
       "        vertical-align: top;\n",
       "    }\n",
       "\n",
       "    .dataframe thead th {\n",
       "        text-align: right;\n",
       "    }\n",
       "</style>\n",
       "<table border=\"1\" class=\"dataframe\">\n",
       "  <thead>\n",
       "    <tr style=\"text-align: right;\">\n",
       "      <th></th>\n",
       "      <th>ID</th>\n",
       "      <th>region</th>\n",
       "      <th>tenure</th>\n",
       "      <th>Amount</th>\n",
       "      <th>arpu_segment</th>\n",
       "      <th>frequency</th>\n",
       "      <th>data_volume</th>\n",
       "      <th>on_net</th>\n",
       "      <th>Procuct_1</th>\n",
       "      <th>Procuct_2</th>\n",
       "      <th>regularity</th>\n",
       "      <th>top_pack</th>\n",
       "      <th>Target</th>\n",
       "    </tr>\n",
       "  </thead>\n",
       "  <tbody>\n",
       "    <tr>\n",
       "      <th>0</th>\n",
       "      <td>ID_LZ8K373W7EWV</td>\n",
       "      <td>Droidika</td>\n",
       "      <td>8.000</td>\n",
       "      <td>2008.550</td>\n",
       "      <td>670.090</td>\n",
       "      <td>17.000</td>\n",
       "      <td>10.000</td>\n",
       "      <td>247.000</td>\n",
       "      <td>17.000</td>\n",
       "      <td>70.000</td>\n",
       "      <td>59.000</td>\n",
       "      <td>On net 200F=Unlimited _call24H</td>\n",
       "      <td>1</td>\n",
       "    </tr>\n",
       "    <tr>\n",
       "      <th>1</th>\n",
       "      <td>ID_04KNWHGV5783</td>\n",
       "      <td>Luminous</td>\n",
       "      <td>8.000</td>\n",
       "      <td>2991.450</td>\n",
       "      <td>997.010</td>\n",
       "      <td>17.000</td>\n",
       "      <td>259.000</td>\n",
       "      <td>99.000</td>\n",
       "      <td>100.000</td>\n",
       "      <td>84.000</td>\n",
       "      <td>49.000</td>\n",
       "      <td>All-net 500F=2000F;5d</td>\n",
       "      <td>1</td>\n",
       "    </tr>\n",
       "    <tr>\n",
       "      <th>2</th>\n",
       "      <td>ID_CXS07G6VLB2U</td>\n",
       "      <td>Astral</td>\n",
       "      <td>8.000</td>\n",
       "      <td>1581.200</td>\n",
       "      <td>526.070</td>\n",
       "      <td>8.000</td>\n",
       "      <td>436.000</td>\n",
       "      <td>47.000</td>\n",
       "      <td>113.000</td>\n",
       "      <td>5.000</td>\n",
       "      <td>13.000</td>\n",
       "      <td>Jokko_Daily</td>\n",
       "      <td>1</td>\n",
       "    </tr>\n",
       "    <tr>\n",
       "      <th>3</th>\n",
       "      <td>ID_N3NFJJVHS25K</td>\n",
       "      <td>Eclipsara</td>\n",
       "      <td>8.000</td>\n",
       "      <td>2564.100</td>\n",
       "      <td>926.070</td>\n",
       "      <td>13.000</td>\n",
       "      <td>0.000</td>\n",
       "      <td>135.000</td>\n",
       "      <td>181.000</td>\n",
       "      <td>6.000</td>\n",
       "      <td>53.000</td>\n",
       "      <td>All-net 500F=2000F;5d</td>\n",
       "      <td>1</td>\n",
       "    </tr>\n",
       "    <tr>\n",
       "      <th>4</th>\n",
       "      <td>ID_R36J4ROT93E9</td>\n",
       "      <td>Mandalore</td>\n",
       "      <td>8.000</td>\n",
       "      <td>1282.050</td>\n",
       "      <td>427.350</td>\n",
       "      <td>9.000</td>\n",
       "      <td>259.000</td>\n",
       "      <td>27.000</td>\n",
       "      <td>29.000</td>\n",
       "      <td>6.000</td>\n",
       "      <td>1.000</td>\n",
       "      <td>All-net 500F=2000F;5d</td>\n",
       "      <td>1</td>\n",
       "    </tr>\n",
       "  </tbody>\n",
       "</table>\n",
       "</div>"
      ],
      "text/plain": [
       "                ID     region  tenure   Amount  arpu_segment  frequency  \\\n",
       "0  ID_LZ8K373W7EWV   Droidika   8.000 2008.550       670.090     17.000   \n",
       "1  ID_04KNWHGV5783   Luminous   8.000 2991.450       997.010     17.000   \n",
       "2  ID_CXS07G6VLB2U     Astral   8.000 1581.200       526.070      8.000   \n",
       "3  ID_N3NFJJVHS25K  Eclipsara   8.000 2564.100       926.070     13.000   \n",
       "4  ID_R36J4ROT93E9  Mandalore   8.000 1282.050       427.350      9.000   \n",
       "\n",
       "   data_volume  on_net  Procuct_1  Procuct_2  regularity  \\\n",
       "0       10.000 247.000     17.000     70.000      59.000   \n",
       "1      259.000  99.000    100.000     84.000      49.000   \n",
       "2      436.000  47.000    113.000      5.000      13.000   \n",
       "3        0.000 135.000    181.000      6.000      53.000   \n",
       "4      259.000  27.000     29.000      6.000       1.000   \n",
       "\n",
       "                         top_pack  Target  \n",
       "0  On net 200F=Unlimited _call24H       1  \n",
       "1           All-net 500F=2000F;5d       1  \n",
       "2                     Jokko_Daily       1  \n",
       "3           All-net 500F=2000F;5d       1  \n",
       "4           All-net 500F=2000F;5d       1  "
      ]
     },
     "execution_count": 238,
     "metadata": {},
     "output_type": "execute_result"
    }
   ],
   "source": [
    "test_data.head()"
   ]
  },
  {
   "cell_type": "code",
   "execution_count": 239,
   "id": "8fd962bd",
   "metadata": {},
   "outputs": [
    {
     "data": {
      "text/plain": [
       "1   0.924\n",
       "0   0.076\n",
       "Name: Target, dtype: float64"
      ]
     },
     "execution_count": 239,
     "metadata": {},
     "output_type": "execute_result"
    }
   ],
   "source": [
    "test_data[\"Target\"].value_counts(normalize=True)"
   ]
  },
  {
   "cell_type": "code",
   "execution_count": 215,
   "id": "aa1a912c",
   "metadata": {},
   "outputs": [
    {
     "data": {
      "image/png": "[encoded data removed]",
      "text/plain": [
       "<Figure size 400x500 with 1 Axes>"
      ]
     },
     "metadata": {},
     "output_type": "display_data"
    }
   ],
   "source": [
    "# Create a pie chart to show the percentage for the target column\n",
    "plt.figure(figsize=(4,5))\n",
    "values = test_data[\"Target\"].value_counts() /test_data.shape[0]\n",
    "plt.pie(values,labels=values.keys(),autopct=\"%1.1f%%\",shadow=True)\n",
    "plt.title(\"Percentage of Active vs Inactive customers \")\n",
    "plt.show()"
   ]
  },
  {
   "cell_type": "code",
   "execution_count": 559,
   "id": "8278ddda",
   "metadata": {},
   "outputs": [],
   "source": [
    "data_df =pd.DataFrame({\"ID\":test_data[\"ID\"],\"Target\":test_data[\"Target\"]})"
   ]
  },
  {
   "cell_type": "code",
   "execution_count": 560,
   "id": "4791b014",
   "metadata": {},
   "outputs": [
    {
     "data": {
      "text/html": [
       "<div>\n",
       "<style scoped>\n",
       "    .dataframe tbody tr th:only-of-type {\n",
       "        vertical-align: middle;\n",
       "    }\n",
       "\n",
       "    .dataframe tbody tr th {\n",
       "        vertical-align: top;\n",
       "    }\n",
       "\n",
       "    .dataframe thead th {\n",
       "        text-align: right;\n",
       "    }\n",
       "</style>\n",
       "<table border=\"1\" class=\"dataframe\">\n",
       "  <thead>\n",
       "    <tr style=\"text-align: right;\">\n",
       "      <th></th>\n",
       "      <th>ID</th>\n",
       "      <th>Target</th>\n",
       "    </tr>\n",
       "  </thead>\n",
       "  <tbody>\n",
       "    <tr>\n",
       "      <th>0</th>\n",
       "      <td>ID_LZ8K373W7EWV</td>\n",
       "      <td>0</td>\n",
       "    </tr>\n",
       "    <tr>\n",
       "      <th>1</th>\n",
       "      <td>ID_04KNWHGV5783</td>\n",
       "      <td>0</td>\n",
       "    </tr>\n",
       "    <tr>\n",
       "      <th>2</th>\n",
       "      <td>ID_CXS07G6VLB2U</td>\n",
       "      <td>1</td>\n",
       "    </tr>\n",
       "    <tr>\n",
       "      <th>3</th>\n",
       "      <td>ID_N3NFJJVHS25K</td>\n",
       "      <td>0</td>\n",
       "    </tr>\n",
       "    <tr>\n",
       "      <th>4</th>\n",
       "      <td>ID_R36J4ROT93E9</td>\n",
       "      <td>1</td>\n",
       "    </tr>\n",
       "  </tbody>\n",
       "</table>\n",
       "</div>"
      ],
      "text/plain": [
       "                ID  Target\n",
       "0  ID_LZ8K373W7EWV       0\n",
       "1  ID_04KNWHGV5783       0\n",
       "2  ID_CXS07G6VLB2U       1\n",
       "3  ID_N3NFJJVHS25K       0\n",
       "4  ID_R36J4ROT93E9       1"
      ]
     },
     "execution_count": 560,
     "metadata": {},
     "output_type": "execute_result"
    }
   ],
   "source": [
    "data_df.head()"
   ]
  },
  {
   "cell_type": "code",
   "execution_count": 561,
   "id": "615e3cad",
   "metadata": {},
   "outputs": [],
   "source": [
    " # code to save the predicted dataset as a csv file\n",
    "data_df.to_csv(\"Submission_file(sasol9).csv\",index=False)   # code to save the predicted values as a csv file"
   ]
  }
 ],
 "metadata": {
  "kernelspec": {
   "display_name": "Python 3 (ipykernel)",
   "language": "python",
   "name": "python3"
  },
  "language_info": {
   "codemirror_mode": {
    "name": "ipython",
    "version": 3
   },
   "file_extension": ".py",
   "mimetype": "text/x-python",
   "name": "python",
   "nbconvert_exporter": "python",
   "pygments_lexer": "ipython3",
   "version": "3.9.18"
  }
 },
 "nbformat": 4,
 "nbformat_minor": 5
}
